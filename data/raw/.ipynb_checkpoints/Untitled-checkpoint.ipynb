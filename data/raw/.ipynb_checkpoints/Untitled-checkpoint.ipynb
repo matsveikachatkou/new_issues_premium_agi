{
 "cells": [
  {
   "cell_type": "code",
   "execution_count": 1,
   "id": "826ba20a",
   "metadata": {},
   "outputs": [],
   "source": [
    "import pandas as pd"
   ]
  },
  {
   "cell_type": "code",
   "execution_count": 4,
   "id": "a1fa04f7",
   "metadata": {},
   "outputs": [],
   "source": [
    "# Load the CSV file\n",
    "file_path = 'comparable_bonds_iboxx.csv'\n",
    "df = pd.read_csv(file_path, index_col=0)\n",
    "df = df.reset_index()"
   ]
  },
  {
   "cell_type": "code",
   "execution_count": 5,
   "id": "7c3c116d",
   "metadata": {},
   "outputs": [],
   "source": [
    "# Split the dataframe into 7 chunks\n",
    "chunk_size = len(df) // 7\n",
    "chunks = [df[i:i+chunk_size] for i in range(0, len(df), chunk_size)]\n",
    "\n",
    "# Save each chunk as a separate CSV file\n",
    "for i, chunk in enumerate(chunks):\n",
    "    chunk.to_csv(f'comparable_bonds_iboxx_{i+1}.csv', index=False)"
   ]
  },
  {
   "cell_type": "code",
   "execution_count": null,
   "id": "1a8ebf25",
   "metadata": {},
   "outputs": [],
   "source": [
    "# List to hold individual chunk dataframes\n",
    "chunk_dfs = []\n",
    "for i in range(6):\n",
    "    chunk_df = pd.read_csv(f'comparable_bonds_peers_duration_iboxx_{i+1}.csv', index_col=0)\n",
    "    chunk_dfs.append(chunk_df)\n",
    "\n",
    "# Concatenate all the chunk dataframes into one dataframe\n",
    "combined_df = pd.concat(chunk_dfs, ignore_index=True)"
   ]
  },
  {
   "cell_type": "code",
   "execution_count": null,
   "id": "f030a23b",
   "metadata": {},
   "outputs": [],
   "source": [
    "combined_df"
   ]
  }
 ],
 "metadata": {
  "kernelspec": {
   "display_name": "Python 3 (ipykernel)",
   "language": "python",
   "name": "python3"
  },
  "language_info": {
   "codemirror_mode": {
    "name": "ipython",
    "version": 3
   },
   "file_extension": ".py",
   "mimetype": "text/x-python",
   "name": "python",
   "nbconvert_exporter": "python",
   "pygments_lexer": "ipython3",
   "version": "3.9.7"
  }
 },
 "nbformat": 4,
 "nbformat_minor": 5
}
