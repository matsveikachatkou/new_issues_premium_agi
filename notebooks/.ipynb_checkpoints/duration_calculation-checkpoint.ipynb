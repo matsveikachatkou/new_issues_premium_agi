{
 "cells": [
  {
   "cell_type": "code",
   "execution_count": 1,
   "id": "2c1c5c69",
   "metadata": {},
   "outputs": [],
   "source": [
    "import pandas as pd\n",
    "from pandas import Timestamp\n",
    "from pandas.tseries.offsets import BDay\n",
    "import numpy as np\n",
    "from scipy.interpolate import interp1d\n",
    "import os\n",
    "import re\n",
    "import seaborn as sns\n",
    "import matplotlib.pyplot as plt\n",
    "from pandas.tseries.offsets import BDay"
   ]
  },
  {
   "cell_type": "markdown",
   "id": "8dc7d47f",
   "metadata": {},
   "source": [
    "# 1. Change directory to raw data folder"
   ]
  },
  {
   "cell_type": "code",
   "execution_count": 2,
   "id": "9836919c",
   "metadata": {},
   "outputs": [],
   "source": [
    "# Get the current working directory\n",
    "current_directory = os.getcwd()\n",
    "\n",
    "# Get the parent directory by going one level up\n",
    "parent_directory = os.path.dirname(current_directory)\n",
    "\n",
    "# Get the path of raw data folder\n",
    "data_raw_folder = os.path.join(parent_directory, 'data/raw')\n",
    "\n",
    "# Change the current working directory to raw data folder\n",
    "os.chdir(data_raw_folder)"
   ]
  },
  {
   "cell_type": "markdown",
   "id": "d8b8e982",
   "metadata": {},
   "source": [
    "# 2. Import dataset"
   ]
  },
  {
   "cell_type": "code",
   "execution_count": 3,
   "id": "bbc1d553",
   "metadata": {},
   "outputs": [],
   "source": [
    "new_issues = pd.read_csv('new_issues.csv', index_col=0)"
   ]
  },
  {
   "cell_type": "code",
   "execution_count": 4,
   "id": "563f41c2",
   "metadata": {},
   "outputs": [],
   "source": [
    "new_issues = new_issues.reset_index(drop=True)"
   ]
  },
  {
   "cell_type": "code",
   "execution_count": 5,
   "id": "9c4907af",
   "metadata": {},
   "outputs": [],
   "source": [
    "new_issues_filt = new_issues[new_issues['coupon'] < 10].copy()"
   ]
  },
  {
   "cell_type": "markdown",
   "id": "38da647d",
   "metadata": {},
   "source": [
    "# 3. Calculate duration"
   ]
  },
  {
   "cell_type": "code",
   "execution_count": 6,
   "id": "cd91ea57",
   "metadata": {},
   "outputs": [],
   "source": [
    "# Fill missing values in 'frequency' column with 'Annually'\n",
    "new_issues_filt['frequency'].fillna('Annually', inplace=True)"
   ]
  },
  {
   "cell_type": "code",
   "execution_count": 7,
   "id": "28d59ade",
   "metadata": {},
   "outputs": [],
   "source": [
    "frequency_mapping = {'Annually': 1, 'Semi-Annually': 2, 'Quarterly': 4}\n",
    "new_issues_filt['coupon_frequency'] = new_issues_filt['frequency'].map(frequency_mapping)"
   ]
  },
  {
   "cell_type": "code",
   "execution_count": 8,
   "id": "3c1be3c1",
   "metadata": {},
   "outputs": [],
   "source": [
    "def calculate_duration(coupon_rate, time_to_maturity, coupon_frequency):\n",
    "\n",
    "    coupon_rate_decimal = coupon_rate / 100\n",
    "    \n",
    "    periods = int(time_to_maturity * coupon_frequency)\n",
    "    \n",
    "    coupon_payment = coupon_rate_decimal / coupon_frequency\n",
    "    cash_flows = [coupon_payment] * periods\n",
    "    cash_flows[-1] += 1  \n",
    "    \n",
    "    yield_rate = coupon_rate_decimal\n",
    "    present_values = [cf / (1 + yield_rate) ** (i+1) for i, cf in enumerate(cash_flows)]\n",
    "    \n",
    "    weighted_average = sum(pv * (i+1) for i, pv in enumerate(present_values)) / sum(present_values)\n",
    "    \n",
    "    current_price = 1 \n",
    "    modified_duration = (weighted_average / current_price) / coupon_frequency\n",
    "    \n",
    "    return modified_duration"
   ]
  },
  {
   "cell_type": "code",
   "execution_count": 9,
   "id": "b4966ce2",
   "metadata": {},
   "outputs": [],
   "source": [
    "new_issues_filt['duration'] = new_issues_filt.apply(lambda row: calculate_duration(row['coupon'], row['maturityTerm'], row['coupon_frequency']), axis=1)"
   ]
  },
  {
   "cell_type": "code",
   "execution_count": 13,
   "id": "d838b645",
   "metadata": {},
   "outputs": [],
   "source": [
    "new_issues_filt.to_csv('new_issues.csv')"
   ]
  },
  {
   "cell_type": "code",
   "execution_count": null,
   "id": "2544238d",
   "metadata": {},
   "outputs": [],
   "source": []
  }
 ],
 "metadata": {
  "kernelspec": {
   "display_name": "nip_env",
   "language": "python",
   "name": "nip_env"
  },
  "language_info": {
   "codemirror_mode": {
    "name": "ipython",
    "version": 3
   },
   "file_extension": ".py",
   "mimetype": "text/x-python",
   "name": "python",
   "nbconvert_exporter": "python",
   "pygments_lexer": "ipython3",
   "version": "3.10.4"
  }
 },
 "nbformat": 4,
 "nbformat_minor": 5
}
