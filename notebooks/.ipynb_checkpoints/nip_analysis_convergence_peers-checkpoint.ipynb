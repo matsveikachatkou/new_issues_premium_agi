{
 "cells": [
  {
   "cell_type": "code",
   "execution_count": 1,
   "id": "8f2cd9b1",
   "metadata": {},
   "outputs": [],
   "source": [
    "import pandas as pd\n",
    "from pandas import Timestamp\n",
    "from pandas.tseries.offsets import BDay\n",
    "import numpy as np\n",
    "from scipy.interpolate import interp1d\n",
    "import os\n",
    "import re\n",
    "import seaborn as sns\n",
    "import matplotlib.pyplot as plt\n",
    "from pandas.tseries.offsets import BDay"
   ]
  },
  {
   "cell_type": "markdown",
   "id": "5cf642a0",
   "metadata": {},
   "source": [
    "# 1. Change directory to raw data folder"
   ]
  },
  {
   "cell_type": "code",
   "execution_count": 2,
   "id": "9a9708a7",
   "metadata": {},
   "outputs": [],
   "source": [
    "# Get the current working directory\n",
    "current_directory = os.getcwd()\n",
    "\n",
    "# Get the parent directory by going one level up\n",
    "parent_directory = os.path.dirname(current_directory)\n",
    "\n",
    "# Get the path of raw data folder\n",
    "data_raw_folder = os.path.join(parent_directory, 'data/raw')\n",
    "\n",
    "# Change the current working directory to raw data folder\n",
    "os.chdir(data_raw_folder)"
   ]
  },
  {
   "cell_type": "markdown",
   "id": "101b7673",
   "metadata": {},
   "source": [
    "# 2. Import datasets"
   ]
  },
  {
   "cell_type": "code",
   "execution_count": 3,
   "id": "1d5eff4f",
   "metadata": {},
   "outputs": [],
   "source": [
    "# New issues data\n",
    "new_issues = pd.read_csv('new_issues.csv', index_col=0)\n",
    "new_issues_characteristics =  pd.read_csv('new_issues_characteristics.csv', index_col=0)\n",
    "new_issues_prices_refinitive_ask =  pd.read_csv('new_issues_prices_askyield_refinitive.csv', index_col=0)\n",
    "swap_rates = pd.read_csv('swap_rates.csv', index_col=0)"
   ]
  },
  {
   "cell_type": "code",
   "execution_count": 4,
   "id": "dc08c792",
   "metadata": {},
   "outputs": [],
   "source": [
    "# Comparable bonds data\n",
    "chunk_dfs = []\n",
    "for i in range(6):\n",
    "    chunk_df = pd.read_csv(f'comparable_bonds_peers_duration_iboxx_{i+1}.csv', index_col=0)\n",
    "    chunk_dfs.append(chunk_df)\n",
    "\n",
    "comparable_bonds_iboxx = pd.concat(chunk_dfs, ignore_index=True)"
   ]
  },
  {
   "cell_type": "code",
   "execution_count": 5,
   "id": "f847fff2",
   "metadata": {},
   "outputs": [],
   "source": [
    "# Index data\n",
    "iboxx_indices = pd.read_csv('iboxx_indices.csv', sep=';')\n",
    "move_index = pd.read_csv('move_index.csv')"
   ]
  },
  {
   "cell_type": "markdown",
   "id": "820a7b0d",
   "metadata": {},
   "source": [
    "# 3. Modify raw datasets and create subsets"
   ]
  },
  {
   "cell_type": "markdown",
   "id": "030c4123",
   "metadata": {},
   "source": [
    "## 3.1 New issues"
   ]
  },
  {
   "cell_type": "code",
   "execution_count": 6,
   "id": "947330e0",
   "metadata": {},
   "outputs": [],
   "source": [
    "# Create new issues dataframe with selected columns\n",
    "new_issues_sliced = new_issues.loc[:,['securities_isin', 'ticker', 'dealDate',\n",
    "                                      'issuerType', 'paymentType', 'countryName', 'COUNTRY_ISO_CODE', \n",
    "                                      'moodys', 'sp', 'fitch', 'expectedSize', 'actualSize', 'minimumDenomination', \n",
    "                                      'securityType', 'maturityTerm', 'coupon', 'seniority_name_1', \n",
    "                                      'seniority_name_1_adj', 'esgType', 'referenceType', 'ipt_reference',\n",
    "                                      'ipt_price_down', 'ipt_price_up', 'guidance_reference', 'guidance_price_down',\n",
    "                                      'guidance_price_up', 'launchValue', 'reofferValue', 'yieldToMaturity', 'duration',\n",
    "                                     'Industry_Group', 'Industry_Sector']]\n",
    "\n",
    "# Change time type\n",
    "new_issues_sliced['dealDate'] = pd.to_datetime(new_issues_sliced['dealDate'])\n",
    "new_issues_sliced['dealDate'] = new_issues_sliced['dealDate'].dt.floor('d')"
   ]
  },
  {
   "cell_type": "code",
   "execution_count": 7,
   "id": "1aa99c98",
   "metadata": {},
   "outputs": [],
   "source": [
    "# Deal with duplicated isins\n",
    "\n",
    "# Sort the DataFrame by 'dealDate' in ascending order\n",
    "new_issues_sliced = new_issues_sliced.sort_values('dealDate')\n",
    "\n",
    "# Keep the first occurrence of each ISIN\n",
    "new_issues_sliced = new_issues_sliced.drop_duplicates('securities_isin', keep='first')"
   ]
  },
  {
   "cell_type": "markdown",
   "id": "559481cc",
   "metadata": {},
   "source": [
    "## 3.2 Comparable bonds"
   ]
  },
  {
   "cell_type": "code",
   "execution_count": 8,
   "id": "ccc946d8",
   "metadata": {},
   "outputs": [],
   "source": [
    "# Change time type\n",
    "comparable_bonds_iboxx['date'] = pd.to_datetime(comparable_bonds_iboxx['date'])\n",
    "comparable_bonds_iboxx['date'] = comparable_bonds_iboxx['date'].dt.floor('d')"
   ]
  },
  {
   "cell_type": "code",
   "execution_count": 9,
   "id": "9095273d",
   "metadata": {},
   "outputs": [],
   "source": [
    "# Rename column\n",
    "comparable_bonds_iboxx = comparable_bonds_iboxx.rename(columns={'new_issue_isin': 'isin', 'ticker': 'tickerCompBond'})"
   ]
  },
  {
   "cell_type": "markdown",
   "id": "ec452e50",
   "metadata": {},
   "source": [
    "## 3.3 New issues characteristics; New issues prices"
   ]
  },
  {
   "cell_type": "code",
   "execution_count": 10,
   "id": "ddc637a5",
   "metadata": {},
   "outputs": [],
   "source": [
    "# Merge new issues with corresponding payment ranks\n",
    "new_issues_sliced = new_issues_sliced.merge(new_issues_characteristics[['security', 'PAYMENT_RANK']], left_on = 'securities_isin', right_on = 'security', how = 'inner')\n",
    "new_issues_sliced = new_issues_sliced.drop(['security'], axis=1)"
   ]
  },
  {
   "cell_type": "code",
   "execution_count": 11,
   "id": "3b157855",
   "metadata": {},
   "outputs": [],
   "source": [
    "# Change time type in refinitive prices dataset\n",
    "new_issues_prices_refinitive_ask['Date'] = pd.to_datetime(new_issues_prices_refinitive_ask['Date'])\n",
    "new_issues_prices_refinitive_ask['Date'] = new_issues_prices_refinitive_ask['Date'].dt.date\n",
    "new_issues_prices_refinitive_ask['Date'] = new_issues_prices_refinitive_ask['Date'].astype('datetime64')\n",
    "new_issues_prices_refinitive_ask['Date'] = new_issues_prices_refinitive_ask['Date'].dt.floor('d')"
   ]
  },
  {
   "cell_type": "code",
   "execution_count": 12,
   "id": "1603f364",
   "metadata": {},
   "outputs": [],
   "source": [
    "# Filter out 'wrong' prices (EUR price instead of yield)\n",
    "new_issues_prices_refinitive = new_issues_prices_refinitive_ask[(abs(new_issues_prices_refinitive_ask['Ask Yield']) < 10) | (new_issues_prices_refinitive_ask['Ask Yield'].isna())]"
   ]
  },
  {
   "cell_type": "markdown",
   "id": "5b77ef6c",
   "metadata": {},
   "source": [
    "## 3.4 Iboxx indices"
   ]
  },
  {
   "cell_type": "code",
   "execution_count": 13,
   "id": "ef34175a",
   "metadata": {},
   "outputs": [],
   "source": [
    "# Change time type in iboxx index dataset\n",
    "iboxx_indices['Download_Date'] = pd.to_datetime(iboxx_indices['Download_Date'])"
   ]
  },
  {
   "cell_type": "code",
   "execution_count": 14,
   "id": "1d3282f4",
   "metadata": {
    "scrolled": false
   },
   "outputs": [],
   "source": [
    "# Create issue dataframe with selected columns\n",
    "iboxx_indices_sliced = iboxx_indices.loc[:,['Download_Date', 'Name', 'Annual_Yield_to_Maturity', 'Expected_Remaining_Life']]"
   ]
  },
  {
   "cell_type": "code",
   "execution_count": 15,
   "id": "54d80752",
   "metadata": {},
   "outputs": [],
   "source": [
    "# Keep only iBoxx € Corporates Senior and iBoxx € Financials Senior\n",
    "iboxx_indices_sliced = iboxx_indices_sliced[iboxx_indices_sliced['Name'].isin(['iBoxx € Corporates Senior', 'iBoxx € Financials Senior'])]"
   ]
  },
  {
   "cell_type": "markdown",
   "id": "461f8961",
   "metadata": {},
   "source": [
    "## 3.5 Swap rates"
   ]
  },
  {
   "cell_type": "code",
   "execution_count": 16,
   "id": "96fb3ea4",
   "metadata": {},
   "outputs": [],
   "source": [
    "# Extract the column names and their corresponding years\n",
    "columns = swap_rates.columns\n",
    "years = []\n",
    "\n",
    "# Determine if the column represents months or years and extract the corresponding number\n",
    "for col in columns:\n",
    "    match = re.search(r'(\\d+)([YM])=', col)\n",
    "    if match:\n",
    "        num = int(match.group(1))\n",
    "        unit = match.group(2)\n",
    "        if unit == 'Y':\n",
    "            years.append(num)\n",
    "        elif unit == 'M':\n",
    "            years.append(num / 12)\n",
    "            \n",
    "# Create a dictionary to map the old column names to the new column names\n",
    "new_columns = {col: yr for col, yr in zip(columns, years)}\n",
    "\n",
    "# Rename the columns in the DataFrame\n",
    "swap_rates.rename(columns=new_columns, inplace=True)\n",
    "\n",
    "# Sort the columns in ascending order\n",
    "swap_rates = swap_rates.reindex(sorted(swap_rates.columns), axis=1)\n",
    "\n",
    "# Change time type in refinitive prices dataset\n",
    "swap_rates = swap_rates.reset_index()\n",
    "swap_rates['Date'] = pd.to_datetime(swap_rates['Date'])\n",
    "swap_rates['Date'] = swap_rates['Date'].dt.date\n",
    "swap_rates['Date'] = swap_rates['Date'].astype('datetime64')\n",
    "swap_rates['Date'] = swap_rates['Date'].dt.floor('d')\n",
    "swap_rates = swap_rates.set_index('Date')"
   ]
  },
  {
   "cell_type": "code",
   "execution_count": 17,
   "id": "e68a71e8",
   "metadata": {},
   "outputs": [],
   "source": [
    "# Extract the maturities from column names\n",
    "maturities = [col for col in swap_rates.columns]\n",
    "\n",
    "# Interpolate the swap rate curve for each timestamp\n",
    "interpolated_swap_rates = {}\n",
    "for timestamp, row in swap_rates.iterrows():\n",
    "    swap_rate_interpolator = interp1d(maturities, row, kind='cubic')\n",
    "    interpolated_swap_rates[timestamp] = swap_rate_interpolator"
   ]
  },
  {
   "cell_type": "markdown",
   "id": "d36d6efd",
   "metadata": {},
   "source": [
    "## 3.6 Create dataframe of initial MS of new issues"
   ]
  },
  {
   "cell_type": "code",
   "execution_count": 18,
   "id": "6c9065a8",
   "metadata": {},
   "outputs": [],
   "source": [
    "# MS spread from IPREO data\n",
    "new_issues_yield_ipreo = new_issues_sliced.loc[:, ['dealDate', 'securities_isin', 'ticker', 'maturityTerm', 'duration', 'PAYMENT_RANK', 'issuerType', 'reofferValue']]\n",
    "new_issues_yield_ipreo = new_issues_yield_ipreo.rename(columns={'securities_isin': 'isin'})\n",
    "new_issues_yield_ipreo = new_issues_yield_ipreo.drop_duplicates()"
   ]
  },
  {
   "cell_type": "code",
   "execution_count": 19,
   "id": "f0f87e0b",
   "metadata": {},
   "outputs": [],
   "source": [
    "# Keep new issues with known initial MS\n",
    "new_issues_initial_prices = new_issues_yield_ipreo.loc[~new_issues_yield_ipreo['reofferValue'].isna(), :]"
   ]
  },
  {
   "cell_type": "code",
   "execution_count": 20,
   "id": "e76b5230",
   "metadata": {},
   "outputs": [],
   "source": [
    "new_issues_initial_prices = new_issues_initial_prices.reset_index(drop=True)"
   ]
  },
  {
   "cell_type": "markdown",
   "id": "0813e0cc",
   "metadata": {},
   "source": [
    "## 3.7 Find comparable bonds at the day of the issue"
   ]
  },
  {
   "cell_type": "code",
   "execution_count": 22,
   "id": "163806fc",
   "metadata": {},
   "outputs": [],
   "source": [
    "# Merge comparable bonds on 'ticker' and 'dealDate' columns\n",
    "new_issues_with_comp = new_issues_initial_prices.merge(comparable_bonds_iboxx, left_on=['isin', 'dealDate'], right_on=['isin', 'date'], how='left')\n",
    "new_issues_with_comp = new_issues_with_comp.drop_duplicates()"
   ]
  },
  {
   "cell_type": "code",
   "execution_count": 23,
   "id": "fbe831b8",
   "metadata": {},
   "outputs": [],
   "source": [
    "# Keep comparable bonds with the same payment rank\n",
    "new_issues_with_comp = new_issues_with_comp[new_issues_with_comp['PAYMENT_RANK']==new_issues_with_comp['Payment_Rank']]\n",
    "new_issues_with_comp = new_issues_with_comp.reset_index(drop=True)"
   ]
  },
  {
   "cell_type": "code",
   "execution_count": 26,
   "id": "555865f3",
   "metadata": {},
   "outputs": [],
   "source": [
    "# Calculate the maturity difference\n",
    "new_issues_with_comp['maturity_diff_abs'] = abs(new_issues_with_comp['maturityTerm'] - new_issues_with_comp['Time_To_Maturity'])"
   ]
  },
  {
   "cell_type": "code",
   "execution_count": 27,
   "id": "a62db65d",
   "metadata": {},
   "outputs": [],
   "source": [
    "# Keep bonds with close maturities (difference < 1 year)\n",
    "new_issues_with_comp_filtered = new_issues_with_comp.loc[new_issues_with_comp['maturity_diff_abs'] <= 0.5]\n",
    "new_issues_with_comp_filtered = new_issues_with_comp_filtered.reset_index(drop=True)"
   ]
  },
  {
   "cell_type": "code",
   "execution_count": 30,
   "id": "40b72fa5",
   "metadata": {},
   "outputs": [],
   "source": [
    "new_issues_with_comp_filtered = new_issues_with_comp_filtered[['dealDate', 'isin', 'ticker', 'maturityTerm', 'PAYMENT_RANK',\n",
    "                                                               'issuerType', 'reofferValue', 'ISIN', \n",
    "                                                               'Time_To_Maturity','Annual_Yield_to_Maturity',\n",
    "                                                               'maturity_diff_abs']]\n",
    "\n",
    "new_issues_with_comp_filtered = new_issues_with_comp_filtered.drop_duplicates()"
   ]
  },
  {
   "cell_type": "code",
   "execution_count": 31,
   "id": "ef2a97a6",
   "metadata": {},
   "outputs": [],
   "source": [
    "new_issues_with_comp_filtered['Time_To_Maturity'] = new_issues_with_comp_filtered['Time_To_Maturity'].apply(lambda x: 1 if x < 1 else x)"
   ]
  },
  {
   "cell_type": "code",
   "execution_count": 32,
   "id": "b72436c7",
   "metadata": {},
   "outputs": [],
   "source": [
    "# Calculate the corresponding initial swap rates for comparable bonds\n",
    "def calculate_swap_rate_bond_comp(row):\n",
    "    try:\n",
    "        return interpolated_swap_rates[row['dealDate']](row['Time_To_Maturity'])\n",
    "    except (KeyError, ValueError):\n",
    "        return None\n",
    "\n",
    "new_issues_with_comp_filtered['SwapRateCompBondInit'] = new_issues_with_comp_filtered.apply(calculate_swap_rate_bond_comp, axis=1)"
   ]
  },
  {
   "cell_type": "code",
   "execution_count": 33,
   "id": "af8c0d5f",
   "metadata": {},
   "outputs": [],
   "source": [
    "# Calculate initial MS for comparable bonds\n",
    "new_issues_with_comp_filtered['compBondInitial'] = new_issues_with_comp_filtered['Annual_Yield_to_Maturity'] - new_issues_with_comp_filtered['SwapRateCompBondInit']\n",
    "new_issues_with_comp_filtered['compBondInitial'] = new_issues_with_comp_filtered['compBondInitial'] * 100"
   ]
  },
  {
   "cell_type": "code",
   "execution_count": 34,
   "id": "4c8abffb",
   "metadata": {},
   "outputs": [],
   "source": [
    "new_issues_with_comp_filtered = new_issues_with_comp_filtered.drop(['Annual_Yield_to_Maturity', 'SwapRateCompBondInit'], axis=1)"
   ]
  },
  {
   "cell_type": "markdown",
   "id": "bb758ff9",
   "metadata": {},
   "source": [
    "## 3.8 Add price development of new issues"
   ]
  },
  {
   "cell_type": "code",
   "execution_count": 35,
   "id": "676bc1bc",
   "metadata": {},
   "outputs": [],
   "source": [
    "# Rename column\n",
    "new_issues_prices_refinitive = new_issues_prices_refinitive.rename(columns={'Instrument': 'isin'})"
   ]
  },
  {
   "cell_type": "code",
   "execution_count": 36,
   "id": "9003aaab",
   "metadata": {},
   "outputs": [],
   "source": [
    "# Merge initial MS with YTM development\n",
    "new_issues_price_dev = new_issues_with_comp_filtered.merge(new_issues_prices_refinitive, on='isin', how='left')\n",
    "\n",
    "# Rename columns\n",
    "new_issues_price_dev = new_issues_price_dev.rename(columns={'reofferValue': 'bondInitial'})\n",
    "new_issues_price_dev = new_issues_price_dev.rename(columns={'Date': 'priceDate'})\n",
    "new_issues_price_dev = new_issues_price_dev.rename(columns={'Ask Yield': 'bondAskYTM'})\n",
    "\n",
    "# Keep isins with at least 1 price\n",
    "new_issues_price_dev = new_issues_price_dev.dropna(subset=['bondAskYTM'])\n",
    "new_issues_price_dev = new_issues_price_dev.drop_duplicates()"
   ]
  },
  {
   "cell_type": "code",
   "execution_count": 37,
   "id": "d011e3f2",
   "metadata": {},
   "outputs": [],
   "source": [
    "isin_reoffer = [i for i in new_issues_price_dev[new_issues_price_dev['dealDate'] == new_issues_price_dev['priceDate']]['isin']]"
   ]
  },
  {
   "cell_type": "code",
   "execution_count": 38,
   "id": "00bb7145",
   "metadata": {},
   "outputs": [],
   "source": [
    "# Exclude reoffer isins\n",
    "new_issues_price_dev = new_issues_price_dev[~new_issues_price_dev['isin'].isin(isin_reoffer)]"
   ]
  },
  {
   "cell_type": "code",
   "execution_count": 40,
   "id": "a0b0136d",
   "metadata": {},
   "outputs": [],
   "source": [
    "# Find first price for each isin\n",
    "\n",
    "# Sort the dataframe by date in ascending order\n",
    "new_issues_price_dev = new_issues_price_dev.sort_values('priceDate')\n",
    "\n",
    "# Group the dataframe by 'isin' and select the first row (earliest date) for each group\n",
    "earliest_dates = new_issues_price_dev.groupby('isin')['priceDate'].first()\n",
    "\n",
    "# Create a new column 'firstPrice' and map the earliest dates based on the 'isin'\n",
    "new_issues_price_dev['firstPrice'] = new_issues_price_dev['isin'].map(earliest_dates)"
   ]
  },
  {
   "cell_type": "code",
   "execution_count": 41,
   "id": "511a942e",
   "metadata": {},
   "outputs": [],
   "source": [
    "# Calculate Time To Maturity\n",
    "new_issues_price_dev['diff'] = (new_issues_price_dev['priceDate'] - new_issues_price_dev['firstPrice']) / pd.Timedelta(days=365.25)\n",
    "new_issues_price_dev['timeToMaturity'] = new_issues_price_dev['maturityTerm'] - new_issues_price_dev['diff']"
   ]
  },
  {
   "cell_type": "code",
   "execution_count": 42,
   "id": "03751f99",
   "metadata": {},
   "outputs": [
    {
     "name": "stdout",
     "output_type": "stream",
     "text": [
      "CPU times: user 32.7 s, sys: 1.17 s, total: 33.9 s\n",
      "Wall time: 35 s\n"
     ]
    }
   ],
   "source": [
    "%%time\n",
    "# Calculate the corresponding swap rates for bonds\n",
    "def calculate_swap_rate_bond(row):\n",
    "    try:\n",
    "        return interpolated_swap_rates[row['priceDate']](row['timeToMaturity'])\n",
    "    except KeyError:\n",
    "        return None\n",
    "\n",
    "new_issues_price_dev['SwapRateBond'] = new_issues_price_dev.apply(calculate_swap_rate_bond, axis=1)"
   ]
  },
  {
   "cell_type": "code",
   "execution_count": 43,
   "id": "ad210963",
   "metadata": {},
   "outputs": [],
   "source": [
    "# Calculate spread to MS for bonds\n",
    "new_issues_price_dev['bondMS'] = new_issues_price_dev['bondAskYTM'] - new_issues_price_dev['SwapRateBond']\n",
    "new_issues_price_dev['bondMS'] = new_issues_price_dev['bondMS'] * 100"
   ]
  },
  {
   "cell_type": "code",
   "execution_count": 44,
   "id": "53aa716d",
   "metadata": {},
   "outputs": [],
   "source": [
    "# Drop unncessary columns\n",
    "new_issues_price_dev = new_issues_price_dev.drop(['firstPrice', 'diff', 'maturityTerm', 'timeToMaturity', 'bondAskYTM', 'SwapRateBond'], axis=1)"
   ]
  },
  {
   "cell_type": "markdown",
   "id": "3020919c",
   "metadata": {},
   "source": [
    "## 3.9 Add price development of comparable bonds"
   ]
  },
  {
   "cell_type": "code",
   "execution_count": 45,
   "id": "a85424f0",
   "metadata": {},
   "outputs": [],
   "source": [
    "# Merge the YTM of the comparable bonds\n",
    "new_issues_price_dev = new_issues_price_dev.merge(comparable_bonds_iboxx[['isin', 'ISIN', 'date', 'Annual_Yield_to_Maturity']], left_on=['isin', 'ISIN','priceDate'], right_on=['isin', 'ISIN','date'], how='inner')\n",
    "new_issues_price_dev = new_issues_price_dev.reset_index(drop=True)"
   ]
  },
  {
   "cell_type": "code",
   "execution_count": 46,
   "id": "b9079455",
   "metadata": {},
   "outputs": [],
   "source": [
    "# Rename columns\n",
    "new_issues_price_dev = new_issues_price_dev.rename(columns={'Annual_Yield_to_Maturity': 'compYield'})\n",
    "new_issues_price_dev = new_issues_price_dev.drop_duplicates()"
   ]
  },
  {
   "cell_type": "code",
   "execution_count": 47,
   "id": "41ce0246",
   "metadata": {},
   "outputs": [
    {
     "name": "stdout",
     "output_type": "stream",
     "text": [
      "CPU times: user 14.7 s, sys: 340 ms, total: 15.1 s\n",
      "Wall time: 15 s\n"
     ]
    }
   ],
   "source": [
    "%%time\n",
    "# Calculate the corresponding swap rates for comparable bonds\n",
    "def calculate_swap_rate_bond_comp_dev(row):\n",
    "    try:\n",
    "        return interpolated_swap_rates[row['priceDate']](row['Time_To_Maturity'])\n",
    "    except (KeyError, ValueError):\n",
    "        return None\n",
    "\n",
    "new_issues_price_dev['SwapRateCompBond'] = new_issues_price_dev.apply(calculate_swap_rate_bond_comp_dev, axis=1)"
   ]
  },
  {
   "cell_type": "code",
   "execution_count": 48,
   "id": "7d079095",
   "metadata": {},
   "outputs": [],
   "source": [
    "# Calculate initial MS for comparable bonds\n",
    "new_issues_price_dev['compBondMS'] = new_issues_price_dev['compYield'] - new_issues_price_dev['SwapRateCompBond']\n",
    "new_issues_price_dev['compBondMS'] = new_issues_price_dev['compBondMS'] * 100"
   ]
  },
  {
   "cell_type": "code",
   "execution_count": 49,
   "id": "63dc4894",
   "metadata": {},
   "outputs": [],
   "source": [
    "new_issues_price_dev = new_issues_price_dev.drop(['date', 'compYield', 'SwapRateCompBond'], axis=1)"
   ]
  },
  {
   "cell_type": "code",
   "execution_count": 50,
   "id": "17d89d26",
   "metadata": {},
   "outputs": [],
   "source": [
    "# Extract initial prices\n",
    "initial_prices = new_issues_price_dev.groupby(['isin', 'ISIN']).agg({\n",
    "    'dealDate': 'first',\n",
    "    'bondInitial': 'first',\n",
    "    'compBondInitial': 'first'\n",
    "}).reset_index()\n",
    "\n",
    "initial_prices = initial_prices.rename(columns={'dealDate': 'priceDate', 'bondInitial': 'bondMS', 'compBondInitial': 'compBondMS'})"
   ]
  },
  {
   "cell_type": "code",
   "execution_count": 51,
   "id": "ac2a0588",
   "metadata": {},
   "outputs": [],
   "source": [
    "# Extract price progression\n",
    "prices_progression_df = new_issues_price_dev[['isin', 'ISIN', 'priceDate', 'bondMS', 'compBondMS']]"
   ]
  },
  {
   "cell_type": "code",
   "execution_count": 52,
   "id": "1b058840",
   "metadata": {},
   "outputs": [],
   "source": [
    "# Dataframe with full price timeseries\n",
    "prices_full = pd.concat([prices_progression_df, initial_prices], axis=0)"
   ]
  },
  {
   "cell_type": "code",
   "execution_count": 53,
   "id": "a0bb089b",
   "metadata": {},
   "outputs": [],
   "source": [
    "# Sort the DataFrame by 'isin', 'ISIN', and 'priceDate' columns\n",
    "prices_full.sort_values(['isin', 'ISIN', 'priceDate'], inplace=True)\n",
    "prices_full = prices_full.reset_index(drop=True)"
   ]
  },
  {
   "cell_type": "code",
   "execution_count": 54,
   "id": "61c35bd4",
   "metadata": {},
   "outputs": [],
   "source": [
    "prices_full['concessionSpread'] = prices_full['bondMS'] - prices_full['compBondMS']"
   ]
  },
  {
   "cell_type": "markdown",
   "id": "c4d1de8e",
   "metadata": {},
   "source": [
    "# 4. Concession analysis"
   ]
  },
  {
   "cell_type": "code",
   "execution_count": 55,
   "id": "54e16cc3",
   "metadata": {},
   "outputs": [],
   "source": [
    "# Average NIP for isin-priceDate\n",
    "average_concession = prices_full.groupby(['isin', 'priceDate'])['concessionSpread'].mean().reset_index()"
   ]
  },
  {
   "cell_type": "code",
   "execution_count": 56,
   "id": "a631f34d",
   "metadata": {},
   "outputs": [],
   "source": [
    "# Rank priceDate\n",
    "average_concession['rank'] = average_concession.groupby('isin')['priceDate'].rank(method='dense') - 1"
   ]
  },
  {
   "cell_type": "code",
   "execution_count": 57,
   "id": "0039fabc",
   "metadata": {},
   "outputs": [],
   "source": [
    "# Filter ranks that are common for at least 80% of sample\n",
    "rank_counts = average_concession.groupby('rank')['isin'].nunique()\n",
    "common_ranks = rank_counts[rank_counts >= len(average_concession['isin'].unique()) * 0.8].index\n",
    "average_concession_filtered = average_concession[average_concession['rank'].isin(common_ranks)]"
   ]
  },
  {
   "cell_type": "code",
   "execution_count": 58,
   "id": "50c93fd9",
   "metadata": {},
   "outputs": [],
   "source": [
    "# Average NIP by date\n",
    "average_concession_by_day = average_concession_filtered.groupby('rank')['concessionSpread'].mean().reset_index()"
   ]
  },
  {
   "cell_type": "code",
   "execution_count": 59,
   "id": "f7048b7b",
   "metadata": {},
   "outputs": [
    {
     "data": {
      "text/html": [
       "<div>\n",
       "<style scoped>\n",
       "    .dataframe tbody tr th:only-of-type {\n",
       "        vertical-align: middle;\n",
       "    }\n",
       "\n",
       "    .dataframe tbody tr th {\n",
       "        vertical-align: top;\n",
       "    }\n",
       "\n",
       "    .dataframe thead th {\n",
       "        text-align: right;\n",
       "    }\n",
       "</style>\n",
       "<table border=\"1\" class=\"dataframe\">\n",
       "  <thead>\n",
       "    <tr style=\"text-align: right;\">\n",
       "      <th></th>\n",
       "      <th>rank</th>\n",
       "      <th>concessionSpread</th>\n",
       "    </tr>\n",
       "  </thead>\n",
       "  <tbody>\n",
       "    <tr>\n",
       "      <th>0</th>\n",
       "      <td>0.0</td>\n",
       "      <td>8.744875</td>\n",
       "    </tr>\n",
       "    <tr>\n",
       "      <th>1</th>\n",
       "      <td>1.0</td>\n",
       "      <td>1.033254</td>\n",
       "    </tr>\n",
       "    <tr>\n",
       "      <th>2</th>\n",
       "      <td>2.0</td>\n",
       "      <td>0.690115</td>\n",
       "    </tr>\n",
       "    <tr>\n",
       "      <th>3</th>\n",
       "      <td>3.0</td>\n",
       "      <td>0.693090</td>\n",
       "    </tr>\n",
       "    <tr>\n",
       "      <th>4</th>\n",
       "      <td>4.0</td>\n",
       "      <td>0.604159</td>\n",
       "    </tr>\n",
       "    <tr>\n",
       "      <th>5</th>\n",
       "      <td>5.0</td>\n",
       "      <td>0.730245</td>\n",
       "    </tr>\n",
       "    <tr>\n",
       "      <th>6</th>\n",
       "      <td>6.0</td>\n",
       "      <td>0.698353</td>\n",
       "    </tr>\n",
       "    <tr>\n",
       "      <th>7</th>\n",
       "      <td>7.0</td>\n",
       "      <td>0.691432</td>\n",
       "    </tr>\n",
       "    <tr>\n",
       "      <th>8</th>\n",
       "      <td>8.0</td>\n",
       "      <td>0.497615</td>\n",
       "    </tr>\n",
       "    <tr>\n",
       "      <th>9</th>\n",
       "      <td>9.0</td>\n",
       "      <td>0.466716</td>\n",
       "    </tr>\n",
       "    <tr>\n",
       "      <th>10</th>\n",
       "      <td>10.0</td>\n",
       "      <td>0.308678</td>\n",
       "    </tr>\n",
       "    <tr>\n",
       "      <th>11</th>\n",
       "      <td>11.0</td>\n",
       "      <td>0.050681</td>\n",
       "    </tr>\n",
       "    <tr>\n",
       "      <th>12</th>\n",
       "      <td>12.0</td>\n",
       "      <td>0.072140</td>\n",
       "    </tr>\n",
       "    <tr>\n",
       "      <th>13</th>\n",
       "      <td>13.0</td>\n",
       "      <td>0.274656</td>\n",
       "    </tr>\n",
       "    <tr>\n",
       "      <th>14</th>\n",
       "      <td>14.0</td>\n",
       "      <td>0.169478</td>\n",
       "    </tr>\n",
       "    <tr>\n",
       "      <th>15</th>\n",
       "      <td>15.0</td>\n",
       "      <td>0.286498</td>\n",
       "    </tr>\n",
       "  </tbody>\n",
       "</table>\n",
       "</div>"
      ],
      "text/plain": [
       "    rank  concessionSpread\n",
       "0    0.0          8.744875\n",
       "1    1.0          1.033254\n",
       "2    2.0          0.690115\n",
       "3    3.0          0.693090\n",
       "4    4.0          0.604159\n",
       "5    5.0          0.730245\n",
       "6    6.0          0.698353\n",
       "7    7.0          0.691432\n",
       "8    8.0          0.497615\n",
       "9    9.0          0.466716\n",
       "10  10.0          0.308678\n",
       "11  11.0          0.050681\n",
       "12  12.0          0.072140\n",
       "13  13.0          0.274656\n",
       "14  14.0          0.169478\n",
       "15  15.0          0.286498"
      ]
     },
     "execution_count": 59,
     "metadata": {},
     "output_type": "execute_result"
    }
   ],
   "source": [
    "average_concession_by_day"
   ]
  },
  {
   "cell_type": "code",
   "execution_count": 60,
   "id": "bc42ee65",
   "metadata": {},
   "outputs": [
    {
     "data": {
      "image/png": "[encoded data removed]",
      "text/plain": [
       "<Figure size 864x432 with 1 Axes>"
      ]
     },
     "metadata": {
      "needs_background": "light"
     },
     "output_type": "display_data"
    }
   ],
   "source": [
    "plt.figure(figsize=(12, 6)) \n",
    "\n",
    "plt.plot(average_concession_by_day['rank'], average_concession_by_day['concessionSpread'], color='black')  # Set line color to black\n",
    "plt.xlabel('Days After Issue')\n",
    "plt.ylabel('Basis Points')\n",
    "\n",
    "plt.xticks(average_concession_by_day['rank']) \n",
    "plt.grid(True, linestyle='--', color='lightblue') \n",
    "\n",
    "# plt.savefig('price_convergence.png', facecolor='w', dpi=300, bbox_inches='tight')\n",
    "plt.show()"
   ]
  },
  {
   "cell_type": "code",
   "execution_count": null,
   "id": "38303598",
   "metadata": {},
   "outputs": [],
   "source": []
  }
 ],
 "metadata": {
  "kernelspec": {
   "display_name": "nip_env",
   "language": "python",
   "name": "nip_env"
  },
  "language_info": {
   "codemirror_mode": {
    "name": "ipython",
    "version": 3
   },
   "file_extension": ".py",
   "mimetype": "text/x-python",
   "name": "python",
   "nbconvert_exporter": "python",
   "pygments_lexer": "ipython3",
   "version": "3.10.4"
  }
 },
 "nbformat": 4,
 "nbformat_minor": 5
}
