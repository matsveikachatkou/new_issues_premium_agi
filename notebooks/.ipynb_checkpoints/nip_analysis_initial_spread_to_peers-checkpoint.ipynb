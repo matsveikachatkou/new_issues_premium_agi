{
 "cells": [
  {
   "cell_type": "code",
   "execution_count": 1,
   "id": "8f2cd9b1",
   "metadata": {},
   "outputs": [],
   "source": [
    "import pandas as pd\n",
    "from pandas.tseries.offsets import BDay\n",
    "import numpy as np\n",
    "from scipy.interpolate import interp1d\n",
    "import os\n",
    "import re\n",
    "import seaborn as sns\n",
    "import matplotlib.pyplot as plt"
   ]
  },
  {
   "cell_type": "markdown",
   "id": "5cf642a0",
   "metadata": {},
   "source": [
    "# 1. Change directory to raw data folder"
   ]
  },
  {
   "cell_type": "code",
   "execution_count": 2,
   "id": "9a9708a7",
   "metadata": {},
   "outputs": [],
   "source": [
    "# Get the current working directory\n",
    "current_directory = os.getcwd()\n",
    "\n",
    "# Get the parent directory by going one level up\n",
    "parent_directory = os.path.dirname(current_directory)\n",
    "\n",
    "# Get the path of raw data folder\n",
    "data_raw_folder = os.path.join(parent_directory, 'data/raw')\n",
    "\n",
    "# Change the current working directory to raw data folder\n",
    "os.chdir(data_raw_folder)"
   ]
  },
  {
   "cell_type": "markdown",
   "id": "101b7673",
   "metadata": {},
   "source": [
    "# 2. Import datasets"
   ]
  },
  {
   "cell_type": "code",
   "execution_count": 3,
   "id": "1d5eff4f",
   "metadata": {},
   "outputs": [],
   "source": [
    "# New issues data\n",
    "new_issues = pd.read_csv('new_issues.csv', index_col=0)\n",
    "new_issues_characteristics =  pd.read_csv('new_issues_characteristics.csv', index_col=0)\n",
    "new_issues_prices_refinitive_ask =  pd.read_csv('new_issues_prices_askyield_refinitive.csv', index_col=0)\n",
    "swap_rates = pd.read_csv('swap_rates.csv', index_col=0)"
   ]
  },
  {
   "cell_type": "code",
   "execution_count": 4,
   "id": "dc08c792",
   "metadata": {},
   "outputs": [],
   "source": [
    "# Comparable bonds data\n",
    "chunk_dfs = []\n",
    "for i in range(6):\n",
    "    chunk_df = pd.read_csv(f'comparable_bonds_peers_duration_iboxx_{i+1}.csv', index_col=0)\n",
    "    chunk_dfs.append(chunk_df)\n",
    "\n",
    "comparable_bonds_iboxx = pd.concat(chunk_dfs, ignore_index=True)"
   ]
  },
  {
   "cell_type": "code",
   "execution_count": 5,
   "id": "f847fff2",
   "metadata": {},
   "outputs": [],
   "source": [
    "# Index data\n",
    "iboxx_indices = pd.read_csv('iboxx_indices.csv', sep=';')\n",
    "move_index = pd.read_csv('move_index.csv')"
   ]
  },
  {
   "cell_type": "markdown",
   "id": "820a7b0d",
   "metadata": {},
   "source": [
    "# 3. Modify raw datasets and create subsets"
   ]
  },
  {
   "cell_type": "markdown",
   "id": "030c4123",
   "metadata": {},
   "source": [
    "## 3.1 New issues"
   ]
  },
  {
   "cell_type": "code",
   "execution_count": 6,
   "id": "947330e0",
   "metadata": {},
   "outputs": [],
   "source": [
    "# Create new issues dataframe with selected columns\n",
    "new_issues_sliced = new_issues.loc[:,['securities_isin', 'ticker', 'dealDate',\n",
    "                                      'issuerType', 'paymentType', 'countryName', 'COUNTRY_ISO_CODE', \n",
    "                                      'moodys', 'sp', 'fitch', 'expectedSize', 'actualSize', 'minimumDenomination', \n",
    "                                      'securityType', 'maturityTerm', 'coupon', 'seniority_name_1', \n",
    "                                      'seniority_name_1_adj', 'esgType', 'referenceType', 'ipt_reference',\n",
    "                                      'ipt_price_down', 'ipt_price_up', 'guidance_reference', 'guidance_price_down',\n",
    "                                      'guidance_price_up', 'launchValue', 'reofferValue', 'yieldToMaturity', 'duration',\n",
    "                                     'Industry_Group', 'Industry_Sector']]\n",
    "\n",
    "# Change time type\n",
    "new_issues_sliced['dealDate'] = pd.to_datetime(new_issues_sliced['dealDate'])\n",
    "new_issues_sliced['dealDate'] = new_issues_sliced['dealDate'].dt.floor('d')"
   ]
  },
  {
   "cell_type": "code",
   "execution_count": 7,
   "id": "1aa99c98",
   "metadata": {},
   "outputs": [],
   "source": [
    "# Deal with duplicated isins\n",
    "\n",
    "# Sort the DataFrame by 'dealDate' in ascending order\n",
    "new_issues_sliced = new_issues_sliced.sort_values('dealDate')\n",
    "\n",
    "# Keep the first occurrence of each ISIN\n",
    "new_issues_sliced = new_issues_sliced.drop_duplicates('securities_isin', keep='first')"
   ]
  },
  {
   "cell_type": "markdown",
   "id": "559481cc",
   "metadata": {},
   "source": [
    "## 3.2 Comparable bonds"
   ]
  },
  {
   "cell_type": "code",
   "execution_count": 8,
   "id": "ccc946d8",
   "metadata": {},
   "outputs": [],
   "source": [
    "# Change time type\n",
    "comparable_bonds_iboxx['date'] = pd.to_datetime(comparable_bonds_iboxx['date'])\n",
    "comparable_bonds_iboxx['date'] = comparable_bonds_iboxx['date'].dt.floor('d')"
   ]
  },
  {
   "cell_type": "code",
   "execution_count": 9,
   "id": "1193877f",
   "metadata": {},
   "outputs": [],
   "source": [
    "# Rename column\n",
    "comparable_bonds_iboxx = comparable_bonds_iboxx.rename(columns={'new_issue_isin': 'securities_isin', 'ticker': 'tickerCompBond'})"
   ]
  },
  {
   "cell_type": "markdown",
   "id": "ec452e50",
   "metadata": {},
   "source": [
    "## 3.3 New issues characteristics"
   ]
  },
  {
   "cell_type": "code",
   "execution_count": 10,
   "id": "ddc637a5",
   "metadata": {},
   "outputs": [],
   "source": [
    "# Merge new issues with ccorresponding payment ranks\n",
    "new_issues_sliced = new_issues_sliced.merge(new_issues_characteristics[['security', 'PAYMENT_RANK']], left_on = 'securities_isin', right_on = 'security', how = 'inner')\n",
    "new_issues_sliced = new_issues_sliced.drop(['security'], axis=1)"
   ]
  },
  {
   "cell_type": "markdown",
   "id": "5b77ef6c",
   "metadata": {},
   "source": [
    "## 3.4 Iboxx indices"
   ]
  },
  {
   "cell_type": "code",
   "execution_count": 11,
   "id": "ef34175a",
   "metadata": {},
   "outputs": [],
   "source": [
    "# Change time type in iboxx index dataset\n",
    "iboxx_indices['Download_Date'] = pd.to_datetime(iboxx_indices['Download_Date'])"
   ]
  },
  {
   "cell_type": "code",
   "execution_count": 12,
   "id": "1d3282f4",
   "metadata": {
    "scrolled": false
   },
   "outputs": [],
   "source": [
    "# Create issue dataframe with selected columns\n",
    "iboxx_indices_sliced = iboxx_indices.loc[:,['Download_Date', 'Name', 'Annual_Yield_to_Maturity', 'Expected_Remaining_Life']]"
   ]
  },
  {
   "cell_type": "code",
   "execution_count": 13,
   "id": "54d80752",
   "metadata": {},
   "outputs": [],
   "source": [
    "# Keep only iBoxx € Corporates Senior and iBoxx € Financials Senior\n",
    "iboxx_indices_sliced = iboxx_indices_sliced[iboxx_indices_sliced['Name'].isin(['iBoxx € Corporates Senior', 'iBoxx € Financials Senior'])]"
   ]
  },
  {
   "cell_type": "markdown",
   "id": "461f8961",
   "metadata": {},
   "source": [
    "## 3.5 Swap rates"
   ]
  },
  {
   "cell_type": "code",
   "execution_count": 14,
   "id": "96fb3ea4",
   "metadata": {},
   "outputs": [],
   "source": [
    "# Extract the column names and their corresponding years\n",
    "columns = swap_rates.columns\n",
    "years = []\n",
    "\n",
    "# Determine if the column represents months or years and extract the corresponding number\n",
    "for col in columns:\n",
    "    match = re.search(r'(\\d+)([YM])=', col)\n",
    "    if match:\n",
    "        num = int(match.group(1))\n",
    "        unit = match.group(2)\n",
    "        if unit == 'Y':\n",
    "            years.append(num)\n",
    "        elif unit == 'M':\n",
    "            years.append(num / 12)\n",
    "            \n",
    "# Create a dictionary to map the old column names to the new column names\n",
    "new_columns = {col: yr for col, yr in zip(columns, years)}\n",
    "\n",
    "# Rename the columns in the DataFrame\n",
    "swap_rates.rename(columns=new_columns, inplace=True)\n",
    "\n",
    "# Sort the columns in ascending order\n",
    "swap_rates = swap_rates.reindex(sorted(swap_rates.columns), axis=1)\n",
    "\n",
    "# Change time type in refinitive prices dataset\n",
    "swap_rates = swap_rates.reset_index()\n",
    "swap_rates['Date'] = pd.to_datetime(swap_rates['Date'])\n",
    "swap_rates['Date'] = swap_rates['Date'].dt.date\n",
    "swap_rates['Date'] = swap_rates['Date'].astype('datetime64')\n",
    "swap_rates['Date'] = swap_rates['Date'].dt.floor('d')\n",
    "swap_rates = swap_rates.set_index('Date')"
   ]
  },
  {
   "cell_type": "markdown",
   "id": "d36d6efd",
   "metadata": {},
   "source": [
    "## 3.6 Create dataframe of IPT MSs of new issues"
   ]
  },
  {
   "cell_type": "code",
   "execution_count": 15,
   "id": "6c9065a8",
   "metadata": {},
   "outputs": [],
   "source": [
    "# MS spread from IPREO data\n",
    "new_issues_ipt_ipreo = new_issues_sliced.loc[:, ['dealDate', 'securities_isin', 'maturityTerm', 'duration', 'issuerType', 'PAYMENT_RANK', 'ipt_price_down', 'ipt_price_up', 'guidance_price_down', 'guidance_price_up']]\n",
    "new_issues_ipt_ipreo = new_issues_ipt_ipreo.rename(columns={'securities_isin': 'isin'})\n",
    "new_issues_ipt_ipreo = new_issues_ipt_ipreo.drop_duplicates()"
   ]
  },
  {
   "cell_type": "code",
   "execution_count": 16,
   "id": "1366bfe1",
   "metadata": {},
   "outputs": [],
   "source": [
    "# Calculate average\n",
    "new_issues_ipt_ipreo['ipt'] = (new_issues_ipt_ipreo['ipt_price_down'] + new_issues_ipt_ipreo['ipt_price_up']) / 2\n",
    "new_issues_ipt_ipreo['guidance'] = (new_issues_ipt_ipreo['guidance_price_down'] + new_issues_ipt_ipreo['guidance_price_up']) / 2"
   ]
  },
  {
   "cell_type": "code",
   "execution_count": 17,
   "id": "e8bea94f",
   "metadata": {},
   "outputs": [],
   "source": [
    "# Initial spread is ipt, otherwise guidance\n",
    "new_issues_ipt_ipreo['initialSpread'] = new_issues_ipt_ipreo['ipt'].fillna(new_issues_ipt_ipreo['guidance'])"
   ]
  },
  {
   "cell_type": "code",
   "execution_count": 18,
   "id": "f0f87e0b",
   "metadata": {},
   "outputs": [],
   "source": [
    "# Drop unnecessary columns\n",
    "new_issues_ipt_ipreo = new_issues_ipt_ipreo.drop(['ipt_price_down', 'ipt_price_up', 'guidance_price_down', 'guidance_price_up'], axis=1)"
   ]
  },
  {
   "cell_type": "code",
   "execution_count": 19,
   "id": "e76b5230",
   "metadata": {},
   "outputs": [],
   "source": [
    "new_issues_ipt_ipreo = new_issues_ipt_ipreo.reset_index(drop=True)"
   ]
  },
  {
   "cell_type": "markdown",
   "id": "f93c30dc",
   "metadata": {},
   "source": [
    "## 3.7 Find comparable bonds at the day before issue"
   ]
  },
  {
   "cell_type": "code",
   "execution_count": 20,
   "id": "fcdab739",
   "metadata": {},
   "outputs": [],
   "source": [
    "# Find previous business day\n",
    "new_issues_ipt_ipreo['prevDate'] = new_issues_ipt_ipreo['dealDate'] - BDay(1)"
   ]
  },
  {
   "cell_type": "code",
   "execution_count": 21,
   "id": "68610906",
   "metadata": {},
   "outputs": [],
   "source": [
    "# Merge comparable bonds on 'ticker' and 'prevDate' columns\n",
    "new_issues_with_comp = new_issues_ipt_ipreo.merge(comparable_bonds_iboxx, left_on=['isin', 'prevDate'], right_on=['securities_isin', 'date'], how='inner')"
   ]
  },
  {
   "cell_type": "code",
   "execution_count": 22,
   "id": "79f531e7",
   "metadata": {},
   "outputs": [],
   "source": [
    "# Drop unncessary columns\n",
    "new_issues_with_comp = new_issues_with_comp.drop(['securities_isin'], axis=1)"
   ]
  },
  {
   "cell_type": "code",
   "execution_count": 23,
   "id": "cde34600",
   "metadata": {},
   "outputs": [],
   "source": [
    "# Keep comparable bonds with the same payment rank\n",
    "new_issues_with_comp = new_issues_with_comp[new_issues_with_comp['PAYMENT_RANK']==new_issues_with_comp['Payment_Rank']]"
   ]
  },
  {
   "cell_type": "code",
   "execution_count": 27,
   "id": "98a55fae",
   "metadata": {},
   "outputs": [],
   "source": [
    "# Calculate the maturity difference\n",
    "new_issues_with_comp['maturity_diff_abs'] = abs(new_issues_with_comp['maturityTerm'] - new_issues_with_comp['Time_To_Maturity'])"
   ]
  },
  {
   "cell_type": "code",
   "execution_count": 28,
   "id": "9b39e688",
   "metadata": {},
   "outputs": [],
   "source": [
    "# Keep bonds with close maturities (difference < 0.5 year)\n",
    "new_issues_with_comp_filtered = new_issues_with_comp.loc[new_issues_with_comp['maturity_diff_abs'] <= 0.5]\n",
    "new_issues_with_comp_filtered = new_issues_with_comp_filtered.reset_index(drop=True)"
   ]
  },
  {
   "cell_type": "markdown",
   "id": "2cfc536a",
   "metadata": {},
   "source": [
    "## 3.7 Calculate swap rate and spread for comparable bonds"
   ]
  },
  {
   "cell_type": "code",
   "execution_count": 30,
   "id": "67671950",
   "metadata": {},
   "outputs": [],
   "source": [
    "# Extract the maturities from column names\n",
    "maturities = [col for col in swap_rates.columns]\n",
    "\n",
    "# Interpolate the swap rate curve for each timestamp\n",
    "interpolated_swap_rates = {}\n",
    "for timestamp, row in swap_rates.iterrows():\n",
    "    swap_rate_interpolator = interp1d(maturities, row, kind='cubic')\n",
    "    interpolated_swap_rates[timestamp] = swap_rate_interpolator"
   ]
  },
  {
   "cell_type": "code",
   "execution_count": 31,
   "id": "ae13e098",
   "metadata": {},
   "outputs": [],
   "source": [
    "# Rename column\n",
    "new_issues_with_comp_filtered = new_issues_with_comp_filtered.rename(columns={'securities_isin': 'isin'})"
   ]
  },
  {
   "cell_type": "code",
   "execution_count": 32,
   "id": "f2f7d3ed",
   "metadata": {},
   "outputs": [],
   "source": [
    "# Calculate the corresponding swap rates for comparable bonds\n",
    "def calculate_swap_rate_bond(row):\n",
    "    try:\n",
    "        return interpolated_swap_rates[row['prevDate']](row['Time_To_Maturity'])\n",
    "    except (KeyError, ValueError):\n",
    "        return None\n",
    "\n",
    "new_issues_with_comp_filtered['Swap Rate Comp Bond'] = new_issues_with_comp_filtered.apply(calculate_swap_rate_bond, axis=1)"
   ]
  },
  {
   "cell_type": "code",
   "execution_count": 33,
   "id": "585ff07a",
   "metadata": {},
   "outputs": [],
   "source": [
    "new_issues_with_comp_filtered = new_issues_with_comp_filtered[~new_issues_with_comp_filtered['Swap Rate Comp Bond'].isnull()]"
   ]
  },
  {
   "cell_type": "code",
   "execution_count": 34,
   "id": "4c5b66b9",
   "metadata": {},
   "outputs": [],
   "source": [
    "# Calculate MS for comparable bonds\n",
    "new_issues_with_comp_filtered['compBondMS'] = new_issues_with_comp_filtered['Annual_Yield_to_Maturity'] - new_issues_with_comp_filtered['Swap Rate Comp Bond']\n",
    "new_issues_with_comp_filtered['compBondMS'] = new_issues_with_comp_filtered['compBondMS'] * 100"
   ]
  },
  {
   "cell_type": "markdown",
   "id": "c4d1de8e",
   "metadata": {},
   "source": [
    "# 4. Spread to Peers Analysis"
   ]
  },
  {
   "cell_type": "code",
   "execution_count": 35,
   "id": "d67fb0aa",
   "metadata": {},
   "outputs": [],
   "source": [
    "# Calculate NIP\n",
    "new_issues_with_comp_filtered['spreadToPeers'] = new_issues_with_comp_filtered['initialSpread'] - new_issues_with_comp_filtered['compBondMS']"
   ]
  },
  {
   "cell_type": "code",
   "execution_count": 36,
   "id": "283a09b2",
   "metadata": {},
   "outputs": [],
   "source": [
    "# Groupe the dataframe by 'isin' and 'dealDate' and calculate the average of 'NIP'\n",
    "issues_spread_peers = new_issues_with_comp_filtered.groupby(['isin', 'dealDate']).agg({'spreadToPeers': 'mean'}).reset_index()\n",
    "issues_spread_peers = issues_spread_peers.drop(['dealDate'], axis=1)\n",
    "issues_spread_peers['spreadToPeers'] = issues_spread_peers['spreadToPeers'].astype(float)"
   ]
  },
  {
   "cell_type": "code",
   "execution_count": 37,
   "id": "3e0070e0",
   "metadata": {},
   "outputs": [
    {
     "data": {
      "image/png": "[encoded data removed]",
      "text/plain": [
       "<Figure size 800x600 with 1 Axes>"
      ]
     },
     "metadata": {
      "needs_background": "light"
     },
     "output_type": "display_data"
    }
   ],
   "source": [
    "# Plot the distribution of 'NIP'\n",
    "# Set the style\n",
    "# sns.set_style(\"darkgrid\")\n",
    "\n",
    "plt.figure(figsize=(8, 6), dpi=100)\n",
    "\n",
    "#ax = sns.histplot(data=issues_nip_average, x=\"NIP\", kde=False, stat='density', bins=100)\n",
    "#sns.kdeplot(data=issues_nip_average, x=\"NIP\", color='crimson', ax=ax)\n",
    "sns.histplot(data=issues_spread_peers, x=\"spreadToPeers\", kde=True, color='green', alpha=0.5)\n",
    "\n",
    "plt.xlabel('spreadToPeers', fontdict={'fontsize': 10})\n",
    "plt.ylabel('Frequency', fontdict={'fontsize': 10})\n",
    "plt.title('Distribution of spreadToPeers with KDE', fontdict={'fontsize': 12})\n",
    "\n",
    "plt.xlim(-100, 150)\n",
    "\n",
    "plt.show()"
   ]
  },
  {
   "cell_type": "code",
   "execution_count": 38,
   "id": "3aa6f987",
   "metadata": {},
   "outputs": [],
   "source": [
    "# issues_spread_peers.to_csv('spread_to_peers.csv')"
   ]
  }
 ],
 "metadata": {
  "kernelspec": {
   "display_name": "nip_env",
   "language": "python",
   "name": "nip_env"
  },
  "language_info": {
   "codemirror_mode": {
    "name": "ipython",
    "version": 3
   },
   "file_extension": ".py",
   "mimetype": "text/x-python",
   "name": "python",
   "nbconvert_exporter": "python",
   "pygments_lexer": "ipython3",
   "version": "3.10.4"
  }
 },
 "nbformat": 4,
 "nbformat_minor": 5
}
