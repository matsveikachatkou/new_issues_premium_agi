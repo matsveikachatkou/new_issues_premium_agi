{
 "cells": [
  {
   "cell_type": "code",
   "execution_count": 1,
   "id": "8f2cd9b1",
   "metadata": {},
   "outputs": [],
   "source": [
    "import pandas as pd\n",
    "import numpy as np\n",
    "from pandas.tseries.offsets import BDay\n",
    "from scipy.interpolate import interp1d\n",
    "import os\n",
    "import re\n",
    "import seaborn as sns\n",
    "import matplotlib.ticker as mtick\n",
    "import matplotlib.pyplot as plt"
   ]
  },
  {
   "cell_type": "markdown",
   "id": "5cf642a0",
   "metadata": {},
   "source": [
    "# 1. Change directory to raw data folder"
   ]
  },
  {
   "cell_type": "code",
   "execution_count": 2,
   "id": "9a9708a7",
   "metadata": {},
   "outputs": [],
   "source": [
    "# Get the current working directory\n",
    "current_directory = os.getcwd()\n",
    "\n",
    "# Get the parent directory by going one level up\n",
    "parent_directory = os.path.dirname(current_directory)\n",
    "\n",
    "# Get the path of raw data folder\n",
    "data_raw_folder = os.path.join(parent_directory, 'data/raw')\n",
    "\n",
    "# Change the current working directory to raw data folder\n",
    "os.chdir(data_raw_folder)"
   ]
  },
  {
   "cell_type": "markdown",
   "id": "101b7673",
   "metadata": {},
   "source": [
    "# 2. Import datasets"
   ]
  },
  {
   "cell_type": "code",
   "execution_count": 3,
   "id": "1d5eff4f",
   "metadata": {},
   "outputs": [],
   "source": [
    "# New issues data\n",
    "new_issues = pd.read_csv('new_issues.csv', index_col=0)\n",
    "new_issues_characteristics =  pd.read_csv('new_issues_characteristics.csv', index_col=0)\n",
    "new_issues_prices_refinitive_ask =  pd.read_csv('new_issues_prices_askyield_refinitive.csv', index_col=0)\n",
    "swap_rates = pd.read_csv('swap_rates.csv', index_col=0)"
   ]
  },
  {
   "cell_type": "code",
   "execution_count": 4,
   "id": "dc08c792",
   "metadata": {},
   "outputs": [],
   "source": [
    "# Comparable bonds data\n",
    "chunk_dfs = []\n",
    "for i in range(6):\n",
    "    chunk_df = pd.read_csv(f'comparable_bonds_peers_duration_iboxx_{i+1}.csv', index_col=0)\n",
    "    chunk_dfs.append(chunk_df)\n",
    "\n",
    "comparable_bonds_iboxx = pd.concat(chunk_dfs, ignore_index=True)"
   ]
  },
  {
   "cell_type": "code",
   "execution_count": 5,
   "id": "f847fff2",
   "metadata": {},
   "outputs": [],
   "source": [
    "# Index data\n",
    "iboxx_indices = pd.read_csv('iboxx_indices.csv', sep=';')\n",
    "move_index = pd.read_csv('move_index.csv')"
   ]
  },
  {
   "cell_type": "markdown",
   "id": "820a7b0d",
   "metadata": {},
   "source": [
    "# 3. Modify raw datasets and create subsets"
   ]
  },
  {
   "cell_type": "markdown",
   "id": "030c4123",
   "metadata": {},
   "source": [
    "## 3.1 New issues"
   ]
  },
  {
   "cell_type": "code",
   "execution_count": 6,
   "id": "947330e0",
   "metadata": {},
   "outputs": [],
   "source": [
    "# Create new issues dataframe with selected columns\n",
    "new_issues_sliced = new_issues.loc[:,['securities_isin', 'ticker', 'dealDate',\n",
    "                                      'issuerType', 'paymentType', 'countryName', 'COUNTRY_ISO_CODE', \n",
    "                                      'moodys', 'sp', 'fitch', 'expectedSize', 'actualSize', 'minimumDenomination', \n",
    "                                      'securityType', 'maturityTerm', 'coupon', 'seniority_name_1', \n",
    "                                      'seniority_name_1_adj', 'esgType', 'referenceType', 'ipt_reference',\n",
    "                                      'ipt_price_down', 'ipt_price_up', 'guidance_reference', 'guidance_price_down',\n",
    "                                      'guidance_price_up', 'launchValue', 'reofferValue', 'yieldToMaturity',\n",
    "                                     'Industry_Group', 'Industry_Sector']]\n",
    "\n",
    "# Change time type\n",
    "new_issues_sliced['dealDate'] = pd.to_datetime(new_issues_sliced['dealDate'])\n",
    "new_issues_sliced['dealDate'] = new_issues_sliced['dealDate'].dt.floor('d')"
   ]
  },
  {
   "cell_type": "code",
   "execution_count": 7,
   "id": "1aa99c98",
   "metadata": {},
   "outputs": [],
   "source": [
    "# Deal with duplicated isins\n",
    "\n",
    "# Sort the DataFrame by 'dealDate' in ascending order\n",
    "new_issues_sliced = new_issues_sliced.sort_values('dealDate')\n",
    "\n",
    "# Keep the first occurrence of each ISIN\n",
    "new_issues_sliced = new_issues_sliced.drop_duplicates('securities_isin', keep='first')"
   ]
  },
  {
   "cell_type": "markdown",
   "id": "559481cc",
   "metadata": {},
   "source": [
    "## 3.2 Comparable bonds"
   ]
  },
  {
   "cell_type": "code",
   "execution_count": 8,
   "id": "ccc946d8",
   "metadata": {},
   "outputs": [],
   "source": [
    "# Change time type\n",
    "comparable_bonds_iboxx['date'] = pd.to_datetime(comparable_bonds_iboxx['date'])\n",
    "comparable_bonds_iboxx['date'] = comparable_bonds_iboxx['date'].dt.floor('d')"
   ]
  },
  {
   "cell_type": "code",
   "execution_count": 9,
   "id": "1193877f",
   "metadata": {},
   "outputs": [],
   "source": [
    "# Rename column\n",
    "comparable_bonds_iboxx = comparable_bonds_iboxx.rename(columns={'new_issue_isin': 'securities_isin', 'ticker': 'tickerCompBond'})"
   ]
  },
  {
   "cell_type": "markdown",
   "id": "ec452e50",
   "metadata": {},
   "source": [
    "## 3.3 New issues characteristics"
   ]
  },
  {
   "cell_type": "code",
   "execution_count": 10,
   "id": "ddc637a5",
   "metadata": {},
   "outputs": [],
   "source": [
    "# Merge new issues with ccorresponding payment ranks\n",
    "new_issues_sliced = new_issues_sliced.merge(new_issues_characteristics[['security', 'PAYMENT_RANK']], left_on = 'securities_isin', right_on = 'security', how = 'inner')\n",
    "new_issues_sliced = new_issues_sliced.drop(['security'], axis=1)"
   ]
  },
  {
   "cell_type": "markdown",
   "id": "5b77ef6c",
   "metadata": {},
   "source": [
    "## 3.4 Iboxx indices"
   ]
  },
  {
   "cell_type": "code",
   "execution_count": 11,
   "id": "ef34175a",
   "metadata": {},
   "outputs": [],
   "source": [
    "# Change time type in iboxx index dataset\n",
    "iboxx_indices['Download_Date'] = pd.to_datetime(iboxx_indices['Download_Date'])"
   ]
  },
  {
   "cell_type": "code",
   "execution_count": 12,
   "id": "1d3282f4",
   "metadata": {
    "scrolled": false
   },
   "outputs": [],
   "source": [
    "# Create issue dataframe with selected columns\n",
    "iboxx_indices_sliced = iboxx_indices.loc[:,['Download_Date', 'Name', 'Annual_Yield_to_Maturity', 'Expected_Remaining_Life']]"
   ]
  },
  {
   "cell_type": "code",
   "execution_count": 13,
   "id": "54d80752",
   "metadata": {},
   "outputs": [],
   "source": [
    "# Keep only iBoxx € Corporates Senior and iBoxx € Financials Senior\n",
    "iboxx_indices_sliced = iboxx_indices_sliced[iboxx_indices_sliced['Name'].isin(['iBoxx € Corporates Senior', 'iBoxx € Financials Senior'])]"
   ]
  },
  {
   "cell_type": "markdown",
   "id": "461f8961",
   "metadata": {},
   "source": [
    "## 3.5 Swap rates"
   ]
  },
  {
   "cell_type": "code",
   "execution_count": 14,
   "id": "96fb3ea4",
   "metadata": {},
   "outputs": [],
   "source": [
    "# Extract the column names and their corresponding years\n",
    "columns = swap_rates.columns\n",
    "years = []\n",
    "\n",
    "# Determine if the column represents months or years and extract the corresponding number\n",
    "for col in columns:\n",
    "    match = re.search(r'(\\d+)([YM])=', col)\n",
    "    if match:\n",
    "        num = int(match.group(1))\n",
    "        unit = match.group(2)\n",
    "        if unit == 'Y':\n",
    "            years.append(num)\n",
    "        elif unit == 'M':\n",
    "            years.append(num / 12)\n",
    "            \n",
    "# Create a dictionary to map the old column names to the new column names\n",
    "new_columns = {col: yr for col, yr in zip(columns, years)}\n",
    "\n",
    "# Rename the columns in the DataFrame\n",
    "swap_rates.rename(columns=new_columns, inplace=True)\n",
    "\n",
    "# Sort the columns in ascending order\n",
    "swap_rates = swap_rates.reindex(sorted(swap_rates.columns), axis=1)\n",
    "\n",
    "# Change time type in refinitive prices dataset\n",
    "swap_rates = swap_rates.reset_index()\n",
    "swap_rates['Date'] = pd.to_datetime(swap_rates['Date'])\n",
    "swap_rates['Date'] = swap_rates['Date'].dt.date\n",
    "swap_rates['Date'] = swap_rates['Date'].astype('datetime64')\n",
    "swap_rates['Date'] = swap_rates['Date'].dt.floor('d')\n",
    "swap_rates = swap_rates.set_index('Date')"
   ]
  },
  {
   "cell_type": "markdown",
   "id": "d36d6efd",
   "metadata": {},
   "source": [
    "## 3.6 Create dataframe of initial MSs of new issues"
   ]
  },
  {
   "cell_type": "code",
   "execution_count": 15,
   "id": "6c9065a8",
   "metadata": {},
   "outputs": [],
   "source": [
    "# MS spread from IPREO data\n",
    "new_issues_yield_ipreo = new_issues_sliced.loc[:, ['dealDate', 'securities_isin', 'maturityTerm', 'issuerType', 'reofferValue']]\n",
    "new_issues_yield_ipreo = new_issues_yield_ipreo.rename(columns={'securities_isin': 'isin'})\n",
    "new_issues_yield_ipreo = new_issues_yield_ipreo.drop_duplicates()"
   ]
  },
  {
   "cell_type": "code",
   "execution_count": 16,
   "id": "f0f87e0b",
   "metadata": {},
   "outputs": [],
   "source": [
    "# Keep new issues with known initial MS\n",
    "new_issues_initial_prices = new_issues_yield_ipreo.loc[~new_issues_yield_ipreo['reofferValue'].isna(), :]"
   ]
  },
  {
   "cell_type": "code",
   "execution_count": 17,
   "id": "e76b5230",
   "metadata": {},
   "outputs": [],
   "source": [
    "new_issues_initial_prices = new_issues_initial_prices.reset_index(drop=True)"
   ]
  },
  {
   "cell_type": "markdown",
   "id": "f93c30dc",
   "metadata": {},
   "source": [
    "## 3.7 Find comparable bonds at the day before issue"
   ]
  },
  {
   "cell_type": "code",
   "execution_count": 18,
   "id": "1c49e81d",
   "metadata": {},
   "outputs": [
    {
     "data": {
      "text/plain": [
       "1829"
      ]
     },
     "execution_count": 18,
     "metadata": {},
     "output_type": "execute_result"
    }
   ],
   "source": [
    "new_issues_sliced['securities_isin'].nunique()"
   ]
  },
  {
   "cell_type": "code",
   "execution_count": 19,
   "id": "fcdab739",
   "metadata": {},
   "outputs": [],
   "source": [
    "# Find previous business day\n",
    "new_issues_sliced['prevDate'] = new_issues_sliced['dealDate'] - BDay(1)"
   ]
  },
  {
   "cell_type": "code",
   "execution_count": 20,
   "id": "68610906",
   "metadata": {},
   "outputs": [],
   "source": [
    "# Merge comparable bonds on 'ticker' and 'prevDate' columns\n",
    "new_issues_with_comp = new_issues_sliced.merge(comparable_bonds_iboxx, left_on=['securities_isin', 'prevDate'], right_on=['securities_isin', 'date'], how='inner')"
   ]
  },
  {
   "cell_type": "code",
   "execution_count": 21,
   "id": "79f531e7",
   "metadata": {},
   "outputs": [],
   "source": [
    "# Drop unncessary columns\n",
    "new_issues_with_comp = new_issues_with_comp.drop(['actualSize', 'securityType','COUNTRY_ISO_CODE','coupon',\n",
    "                                                  'date', 'paymentType', 'countryName',\n",
    "                                                  'moodys', 'sp', 'fitch', 'expectedSize', 'seniority_name_1',\n",
    "                                                  'seniority_name_1_adj', 'referenceType', 'ipt_reference', 'yieldToMaturity',\n",
    "                                                   'ipt_price_down', 'ipt_price_up', 'guidance_reference',\n",
    "                                                   'guidance_price_down', 'guidance_price_up', 'launchValue'], axis=1)"
   ]
  },
  {
   "cell_type": "code",
   "execution_count": 22,
   "id": "cde34600",
   "metadata": {},
   "outputs": [],
   "source": [
    "# Keep comparable bonds with the same payment rank\n",
    "new_issues_with_comp = new_issues_with_comp[new_issues_with_comp['PAYMENT_RANK']==new_issues_with_comp['Payment_Rank']]"
   ]
  },
  {
   "cell_type": "code",
   "execution_count": 23,
   "id": "aea7450b",
   "metadata": {},
   "outputs": [],
   "source": [
    "# Calculate the maturity difference\n",
    "new_issues_with_comp['maturity_diff_abs'] = abs(new_issues_with_comp['maturityTerm'] - new_issues_with_comp['Time_To_Maturity'])"
   ]
  },
  {
   "cell_type": "code",
   "execution_count": 24,
   "id": "9b39e688",
   "metadata": {},
   "outputs": [],
   "source": [
    "# Keep bonds with close maturities (difference < 0.5 year)\n",
    "new_issues_with_comp_filtered = new_issues_with_comp.loc[new_issues_with_comp['maturity_diff_abs'] <= 0.5]\n",
    "new_issues_with_comp_filtered = new_issues_with_comp_filtered.reset_index(drop=True)"
   ]
  },
  {
   "cell_type": "markdown",
   "id": "2cfc536a",
   "metadata": {},
   "source": [
    "## 3.7 Calculate swap rate and spread for comparable bonds"
   ]
  },
  {
   "cell_type": "code",
   "execution_count": 25,
   "id": "67671950",
   "metadata": {},
   "outputs": [],
   "source": [
    "# Extract the maturities from column names\n",
    "maturities = [col for col in swap_rates.columns]\n",
    "\n",
    "# Interpolate the swap rate curve for each timestamp\n",
    "interpolated_swap_rates = {}\n",
    "for timestamp, row in swap_rates.iterrows():\n",
    "    swap_rate_interpolator = interp1d(maturities, row, kind='cubic')\n",
    "    interpolated_swap_rates[timestamp] = swap_rate_interpolator"
   ]
  },
  {
   "cell_type": "code",
   "execution_count": 26,
   "id": "ae13e098",
   "metadata": {},
   "outputs": [],
   "source": [
    "# Rename column\n",
    "new_issues_with_comp_filtered = new_issues_with_comp_filtered.rename(columns={'securities_isin': 'isin'})"
   ]
  },
  {
   "cell_type": "code",
   "execution_count": 27,
   "id": "f2f7d3ed",
   "metadata": {},
   "outputs": [],
   "source": [
    "# Calculate the corresponding swap rates for comparable bonds\n",
    "def calculate_swap_rate_bond(row):\n",
    "    try:\n",
    "        return interpolated_swap_rates[row['prevDate']](row['Time_To_Maturity'])\n",
    "    except (KeyError, ValueError):\n",
    "        return None\n",
    "\n",
    "new_issues_with_comp_filtered['Swap Rate Comp Bond'] = new_issues_with_comp_filtered.apply(calculate_swap_rate_bond, axis=1)"
   ]
  },
  {
   "cell_type": "code",
   "execution_count": 28,
   "id": "585ff07a",
   "metadata": {},
   "outputs": [],
   "source": [
    "new_issues_with_comp_filtered = new_issues_with_comp_filtered[~new_issues_with_comp_filtered['Swap Rate Comp Bond'].isnull()]"
   ]
  },
  {
   "cell_type": "code",
   "execution_count": 29,
   "id": "4c5b66b9",
   "metadata": {},
   "outputs": [],
   "source": [
    "# Calculate MS for comparable bonds\n",
    "new_issues_with_comp_filtered['compBondMS'] = new_issues_with_comp_filtered['Annual_Yield_to_Maturity'] - new_issues_with_comp_filtered['Swap Rate Comp Bond']\n",
    "new_issues_with_comp_filtered['compBondMS'] = new_issues_with_comp_filtered['compBondMS'] * 100"
   ]
  },
  {
   "cell_type": "markdown",
   "id": "c4d1de8e",
   "metadata": {},
   "source": [
    "# 4. NIP Analysis"
   ]
  },
  {
   "cell_type": "code",
   "execution_count": 30,
   "id": "d67fb0aa",
   "metadata": {},
   "outputs": [],
   "source": [
    "# Calculate NIP\n",
    "new_issues_with_comp_filtered['NIP'] = new_issues_with_comp_filtered['reofferValue'] - new_issues_with_comp_filtered['compBondMS']"
   ]
  },
  {
   "cell_type": "code",
   "execution_count": 31,
   "id": "283a09b2",
   "metadata": {},
   "outputs": [],
   "source": [
    "# Groupe the dataframe by 'isin' and 'dealDate' and calculate the average of 'NIP'\n",
    "issues_nip = new_issues_with_comp_filtered.groupby(['isin', 'dealDate']).agg({'NIP': 'mean'}).reset_index()\n",
    "issues_nip = issues_nip.drop(['dealDate'], axis=1)\n",
    "issues_nip['NIP'] = issues_nip['NIP'].astype(float)"
   ]
  },
  {
   "cell_type": "code",
   "execution_count": 32,
   "id": "3e0070e0",
   "metadata": {},
   "outputs": [
    {
     "data": {
      "image/png": "[encoded data removed]",
      "text/plain": [
       "<Figure size 800x600 with 1 Axes>"
      ]
     },
     "metadata": {
      "needs_background": "light"
     },
     "output_type": "display_data"
    }
   ],
   "source": [
    "# Plot the distribution of 'NIP'\n",
    "# Set the style\n",
    "# sns.set_style(\"darkgrid\")\n",
    "\n",
    "plt.figure(figsize=(8, 6), dpi=100)\n",
    "\n",
    "#ax = sns.histplot(data=issues_nip_average, x=\"NIP\", kde=False, stat='density', bins=100)\n",
    "#sns.kdeplot(data=issues_nip_average, x=\"NIP\", color='crimson', ax=ax)\n",
    "sns.histplot(data=issues_nip, x=\"NIP\", kde=True, color='green', alpha=0.5)\n",
    "\n",
    "plt.xlabel('NIP', fontdict={'fontsize': 10})\n",
    "plt.ylabel('Frequency', fontdict={'fontsize': 10})\n",
    "plt.title('Distribution of NIP with KDE', fontdict={'fontsize': 12})\n",
    "\n",
    "plt.xlim(-100, 150)\n",
    "\n",
    "plt.show()"
   ]
  },
  {
   "cell_type": "markdown",
   "id": "6d939734",
   "metadata": {},
   "source": [
    "## 5. NIP Breakdown"
   ]
  },
  {
   "cell_type": "code",
   "execution_count": 33,
   "id": "bee7af85",
   "metadata": {},
   "outputs": [],
   "source": [
    "# Merge NIP \n",
    "issues_nip_characteristics = issues_nip.merge(new_issues_sliced[['securities_isin', 'dealDate', 'issuerType', 'esgType']], left_on='isin', right_on='securities_isin', how='inner')\n",
    "issues_nip_characteristics = issues_nip_characteristics.drop('securities_isin', axis=1)\n",
    "issues_nip_characteristics.set_index('dealDate', inplace=True)"
   ]
  },
  {
   "cell_type": "code",
   "execution_count": 34,
   "id": "4d7dfdb8",
   "metadata": {},
   "outputs": [
    {
     "data": {
      "image/png": "[encoded data removed]",
      "text/plain": [
       "<Figure size 864x360 with 2 Axes>"
      ]
     },
     "metadata": {
      "needs_background": "light"
     },
     "output_type": "display_data"
    }
   ],
   "source": [
    "# Create a figure and two subplots, one on top of the other\n",
    "fig, (ax1, ax2) = plt.subplots(1, 2, figsize=(12, 5), gridspec_kw={'width_ratios': [4, 6]})\n",
    "\n",
    "# Set the patch linewidth to 0 to remove any patch boundaries\n",
    "plt.rcParams['patch.linewidth'] = 0\n",
    "\n",
    "# ----- First Plot (Histogram with KDE) -----\n",
    "# Plot the histogram with KDE (Kernel Density Estimate)\n",
    "sns.histplot(data=issues_nip, x=\"NIP\", kde=True, color='lightblue', alpha=0.5, stat='percent', ax=ax1, shrink=0.8)\n",
    "\n",
    "# Format the y-axis as percentages\n",
    "ax1.yaxis.set_major_formatter(mtick.PercentFormatter())\n",
    "\n",
    "# Set the color of the KDE curve to black\n",
    "ax1.lines[0].set_color('black')\n",
    "\n",
    "# Remove the x and y axis labels for the first plot\n",
    "ax1.set_xlabel('')\n",
    "ax1.set_ylabel('')\n",
    "\n",
    "# Set the x-axis limits for the first plot\n",
    "ax1.set_xlim(-100, 160)\n",
    "\n",
    "# Set the x-axis label for the first plot\n",
    "ax1.set_xlabel('Basis Points')\n",
    "\n",
    "# Add a legend for the top plot (KDE curve)\n",
    "ax1.legend(['KDE'], loc='upper right', framealpha=0)\n",
    "\n",
    "# ----- Second Plot (Monthly Average and 3-Month Moving Average NIP) -----\n",
    "# Calculate the monthly average of NIP and the 3-month moving average\n",
    "monthly_avg = issues_nip_characteristics['NIP'].resample('M').mean()\n",
    "moving_avg = monthly_avg.rolling(window=3).mean()\n",
    "\n",
    "# Plot the monthly average NIP as bars with light blue color\n",
    "ax2.bar(monthly_avg.index, monthly_avg, label='Monthly Average', color='thistle', width=15)\n",
    "\n",
    "# Plot the 3-month moving average NIP as a line plot in black\n",
    "ax2.plot(moving_avg.index, moving_avg, label='3-Month Moving Average', color='black')\n",
    "\n",
    "# Set the x and y axis labels for the second plot\n",
    "ax2.set_xlabel('Year')\n",
    "ax2.set_ylabel('Basis Points')\n",
    "\n",
    "# Add a legend for the bottom plot (monthly average and moving average)\n",
    "ax2.legend(loc='upper right', framealpha=0)\n",
    "\n",
    "# Adjust spacing between the two subplots to prevent overlap\n",
    "plt.tight_layout()\n",
    "\n",
    "# Add extra space between the title and subplots\n",
    "plt.subplots_adjust(top=0.92)\n",
    "\n",
    "# Add the title for the entire figure\n",
    "plt.suptitle('Spread Discount NIP', fontsize=16)\n",
    "\n",
    "# Show the combined plot\n",
    "# plt.savefig('nip_distribution_discount.png', facecolor='w', dpi=300, bbox_inches='tight')\n",
    "plt.show()"
   ]
  },
  {
   "cell_type": "code",
   "execution_count": 35,
   "id": "d814b158",
   "metadata": {},
   "outputs": [
    {
     "name": "stdout",
     "output_type": "stream",
     "text": [
      "count    1829.000000\n",
      "mean        9.364573\n",
      "std        27.521808\n",
      "min       -94.994550\n",
      "25%        -4.972528\n",
      "50%         4.128676\n",
      "75%        22.207191\n",
      "max        98.226071\n",
      "Name: NIP, dtype: float64\n",
      "37.83488244942592\n",
      "-14.489455887977405\n",
      "62.16511755057409\n",
      "23.88259198777596\n"
     ]
    }
   ],
   "source": [
    "# Now, apply the describe() function to the 'NIP' column\n",
    "nip_descriptive_stats = issues_nip['NIP'].describe()\n",
    "\n",
    "# Calculate the percentage of negative values\n",
    "negative_percentage = (issues_nip['NIP'] < 0).mean() * 100\n",
    "\n",
    "# Calculate the average of negative values\n",
    "average_negative = issues_nip.loc[issues_nip['NIP'] < 0, 'NIP'].mean()\n",
    "\n",
    "# Calculate the percentage of positive values\n",
    "positive_percentage = (issues_nip['NIP'] >= 0).mean() * 100\n",
    "\n",
    "# Calculate the average of positive values\n",
    "average_positive = issues_nip.loc[issues_nip['NIP'] >= 0, 'NIP'].mean()\n",
    "\n",
    "print(nip_descriptive_stats)\n",
    "print(negative_percentage)\n",
    "print(average_negative)\n",
    "print(positive_percentage)\n",
    "print(average_positive)"
   ]
  }
 ],
 "metadata": {
  "kernelspec": {
   "display_name": "nip_env",
   "language": "python",
   "name": "nip_env"
  },
  "language_info": {
   "codemirror_mode": {
    "name": "ipython",
    "version": 3
   },
   "file_extension": ".py",
   "mimetype": "text/x-python",
   "name": "python",
   "nbconvert_exporter": "python",
   "pygments_lexer": "ipython3",
   "version": "3.10.4"
  }
 },
 "nbformat": 4,
 "nbformat_minor": 5
}
