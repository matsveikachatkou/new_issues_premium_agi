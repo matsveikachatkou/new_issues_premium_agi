{
 "cells": [
  {
   "cell_type": "code",
   "execution_count": 1,
   "id": "8f2cd9b1",
   "metadata": {},
   "outputs": [],
   "source": [
    "import pandas as pd\n",
    "import numpy as np\n",
    "from scipy.interpolate import interp1d\n",
    "import os\n",
    "import re\n",
    "import seaborn as sns\n",
    "import matplotlib.pyplot as plt"
   ]
  },
  {
   "cell_type": "markdown",
   "id": "5cf642a0",
   "metadata": {},
   "source": [
    "# 1. Change directory to raw data folder"
   ]
  },
  {
   "cell_type": "code",
   "execution_count": 2,
   "id": "9a9708a7",
   "metadata": {},
   "outputs": [],
   "source": [
    "# Get the current working directory\n",
    "current_directory = os.getcwd()\n",
    "\n",
    "# Get the parent directory by going one level up\n",
    "parent_directory = os.path.dirname(current_directory)\n",
    "\n",
    "# Get the path of raw data folder\n",
    "data_raw_folder = os.path.join(parent_directory, 'data/raw')\n",
    "\n",
    "# Change the current working directory to raw data folder\n",
    "os.chdir(data_raw_folder)"
   ]
  },
  {
   "cell_type": "markdown",
   "id": "101b7673",
   "metadata": {},
   "source": [
    "# 2. Import datasets"
   ]
  },
  {
   "cell_type": "code",
   "execution_count": 3,
   "id": "1d5eff4f",
   "metadata": {},
   "outputs": [],
   "source": [
    "# New issues data\n",
    "new_issues = pd.read_csv('new_issues.csv', sep=';')\n",
    "new_issues_characteristics =  pd.read_csv('new_issues_characteristics.csv', index_col=0)\n",
    "new_issues_prices_bb =  pd.read_csv('new_issues_prices_ms_bb.csv', index_col=0)\n",
    "new_issues_prices_refinitive =  pd.read_csv('new_issues_prices_yield_refinitive.csv', index_col=0)\n",
    "new_issues_prices_refinitive_ms =  pd.read_csv('new_issues_prices_ms_refinitive.csv', index_col=0)\n",
    "swap_rates = pd.read_csv('swap_rates.csv', index_col=0)"
   ]
  },
  {
   "cell_type": "code",
   "execution_count": 4,
   "id": "dc08c792",
   "metadata": {},
   "outputs": [],
   "source": [
    "# Comparable bonds data\n",
    "#comparable_bonds_iboxx =  pd.read_csv('comparable_bonds_iboxx.csv', index_col=0)"
   ]
  },
  {
   "cell_type": "code",
   "execution_count": 5,
   "id": "f847fff2",
   "metadata": {},
   "outputs": [],
   "source": [
    "# Index data\n",
    "iboxx_indices = pd.read_csv('iboxx_indices.csv', sep=';')\n",
    "move_index = pd.read_csv('move_index.csv')\n",
    "smove_index = pd.read_csv('smove_index.csv')\n",
    "markit_index = pd.read_csv('markit_index.csv')"
   ]
  },
  {
   "cell_type": "markdown",
   "id": "820a7b0d",
   "metadata": {},
   "source": [
    "# 3. Modify raw datasets and create subsets"
   ]
  },
  {
   "cell_type": "markdown",
   "id": "030c4123",
   "metadata": {},
   "source": [
    "## 3.1 New issues"
   ]
  },
  {
   "cell_type": "code",
   "execution_count": 6,
   "id": "947330e0",
   "metadata": {},
   "outputs": [],
   "source": [
    "# Create new issues dataframe with selected columns\n",
    "new_issues_sliced = new_issues.loc[:,['securities_isin', 'dealDate', 'settlementDate',\n",
    "                                      'issuerType', 'paymentType', 'countryName', 'COUNTRY_ISO_CODE', \n",
    "                                      'moodys', 'sp', 'fitch', 'expectedSize', 'actualSize', 'minimumDenomination', \n",
    "                                      'securityType', 'maturityTerm', 'coupon', 'seniority_name_1', \n",
    "                                      'seniority_name_1_adj', 'esgType', 'referenceType', 'ipt_reference',\n",
    "                                      'ipt_price_down', 'ipt_price_up', 'guidance_reference', 'guidance_price_down',\n",
    "                                      'guidance_price_up', 'launchValue', 'reofferValue', 'yieldToMaturity',\n",
    "                                     'Industry_Group', 'Industry_Sector']]\n",
    "\n",
    "# Change time type\n",
    "new_issues_sliced['dealDate'] = pd.to_datetime(new_issues_sliced['dealDate'])\n",
    "new_issues_sliced['dealDate'] = new_issues_sliced['dealDate'].dt.floor('d')\n",
    "new_issues_sliced['settlementDate'] = pd.to_datetime(new_issues_sliced['settlementDate'])\n",
    "new_issues_sliced['settlementDate'] = new_issues_sliced['settlementDate'].dt.floor('d')"
   ]
  },
  {
   "cell_type": "code",
   "execution_count": 7,
   "id": "1aa99c98",
   "metadata": {},
   "outputs": [],
   "source": [
    "# Deal with duplicated isins\n",
    "\n",
    "# Sort the DataFrame by 'dealDate' in ascending order\n",
    "new_issues_sliced = new_issues_sliced.sort_values('dealDate')\n",
    "\n",
    "# Keep the first occurrence of each ISIN\n",
    "new_issues_sliced = new_issues_sliced.drop_duplicates('securities_isin', keep='first')"
   ]
  },
  {
   "cell_type": "code",
   "execution_count": 8,
   "id": "d6053ec5",
   "metadata": {},
   "outputs": [],
   "source": [
    "# Filter out issues before 1 of March 2023 (due to lack of index data after March 23)\n",
    "new_issues_sliced = new_issues_sliced[new_issues_sliced['dealDate'] < '2023-03-01']"
   ]
  },
  {
   "cell_type": "markdown",
   "id": "ec452e50",
   "metadata": {},
   "source": [
    "## 3.2 New issues characteristics; new issues prices"
   ]
  },
  {
   "cell_type": "code",
   "execution_count": 9,
   "id": "97ab5863",
   "metadata": {},
   "outputs": [],
   "source": [
    "# Modify ISIN column\n",
    "new_issues_characteristics['security'] = new_issues_characteristics['security'].str[6:]\n",
    "new_issues_prices_bb['security'] = new_issues_prices_bb['security'].str[6:]"
   ]
  },
  {
   "cell_type": "code",
   "execution_count": 10,
   "id": "abea163a",
   "metadata": {},
   "outputs": [],
   "source": [
    "# Change time type in Bloomberg prices dataset\n",
    "new_issues_prices_bb['date'] = pd.to_datetime(new_issues_prices_bb['date'])\n",
    "new_issues_prices_bb['date'] = new_issues_prices_bb['date'].dt.floor('d')\n",
    "\n",
    "# Change time type in refinitive prices dataset\n",
    "new_issues_prices_refinitive['Date'] = pd.to_datetime(new_issues_prices_refinitive['Date'])\n",
    "new_issues_prices_refinitive['Date'] = new_issues_prices_refinitive['Date'].dt.date\n",
    "new_issues_prices_refinitive['Date'] = new_issues_prices_refinitive['Date'].astype('datetime64')\n",
    "new_issues_prices_refinitive['Date'] = new_issues_prices_refinitive['Date'].dt.floor('d')\n",
    "\n",
    "# Change time type in refinitive prices dataset\n",
    "new_issues_prices_refinitive_ms['Date'] = pd.to_datetime(new_issues_prices_refinitive_ms['Date'])\n",
    "new_issues_prices_refinitive_ms['Date'] = new_issues_prices_refinitive_ms['Date'].dt.date\n",
    "new_issues_prices_refinitive_ms['Date'] = new_issues_prices_refinitive_ms['Date'].astype('datetime64')\n",
    "new_issues_prices_refinitive_ms['Date'] = new_issues_prices_refinitive_ms['Date'].dt.floor('d')"
   ]
  },
  {
   "cell_type": "code",
   "execution_count": 11,
   "id": "c3d387eb",
   "metadata": {},
   "outputs": [],
   "source": [
    "# Filter out 'wrong' prices (EUR price instead of yield)\n",
    "new_issues_prices_refinitive = new_issues_prices_refinitive[(abs(new_issues_prices_refinitive['Bid Yield']) < 10) | (new_issues_prices_refinitive['Bid Yield'].isna())]"
   ]
  },
  {
   "cell_type": "markdown",
   "id": "5b77ef6c",
   "metadata": {},
   "source": [
    "## 3.3 Iboxx indices"
   ]
  },
  {
   "cell_type": "code",
   "execution_count": 12,
   "id": "ef34175a",
   "metadata": {},
   "outputs": [],
   "source": [
    "# Change time type in iboxx index dataset\n",
    "iboxx_indices['Download_Date'] = pd.to_datetime(iboxx_indices['Download_Date'])"
   ]
  },
  {
   "cell_type": "code",
   "execution_count": 13,
   "id": "1d3282f4",
   "metadata": {
    "scrolled": false
   },
   "outputs": [],
   "source": [
    "# Create issue dataframe with selected columns\n",
    "iboxx_indices_sliced = iboxx_indices.loc[:,['Download_Date', 'Name', 'Annual_Yield_to_Maturity', 'Expected_Remaining_Life']]"
   ]
  },
  {
   "cell_type": "code",
   "execution_count": 14,
   "id": "54d80752",
   "metadata": {},
   "outputs": [],
   "source": [
    "# Keep only iBoxx € Corporates Senior and iBoxx € Financials Senior\n",
    "iboxx_indices_sliced = iboxx_indices_sliced[iboxx_indices_sliced['Name'].isin(['iBoxx € Corporates Senior', 'iBoxx € Financials Senior'])]"
   ]
  },
  {
   "cell_type": "markdown",
   "id": "461f8961",
   "metadata": {},
   "source": [
    "## 3.4 Swap rates"
   ]
  },
  {
   "cell_type": "code",
   "execution_count": 15,
   "id": "96fb3ea4",
   "metadata": {},
   "outputs": [],
   "source": [
    "# Extract the column names and their corresponding years\n",
    "columns = swap_rates.columns\n",
    "years = []\n",
    "\n",
    "# Determine if the column represents months or years and extract the corresponding number\n",
    "for col in columns:\n",
    "    match = re.search(r'(\\d+)([YM])=', col)\n",
    "    if match:\n",
    "        num = int(match.group(1))\n",
    "        unit = match.group(2)\n",
    "        if unit == 'Y':\n",
    "            years.append(num)\n",
    "        elif unit == 'M':\n",
    "            years.append(num / 12)\n",
    "            \n",
    "# Create a dictionary to map the old column names to the new column names\n",
    "new_columns = {col: yr for col, yr in zip(columns, years)}\n",
    "\n",
    "# Rename the columns in the DataFrame\n",
    "swap_rates.rename(columns=new_columns, inplace=True)\n",
    "\n",
    "# Sort the columns in ascending order\n",
    "swap_rates = swap_rates.reindex(sorted(swap_rates.columns), axis=1)\n",
    "\n",
    "# Change time type in refinitive prices dataset\n",
    "swap_rates = swap_rates.reset_index()\n",
    "swap_rates['Date'] = pd.to_datetime(swap_rates['Date'])\n",
    "swap_rates['Date'] = swap_rates['Date'].dt.date\n",
    "swap_rates['Date'] = swap_rates['Date'].astype('datetime64')\n",
    "swap_rates['Date'] = swap_rates['Date'].dt.floor('d')\n",
    "swap_rates = swap_rates.set_index('Date')"
   ]
  },
  {
   "cell_type": "markdown",
   "id": "d36d6efd",
   "metadata": {},
   "source": [
    "## 3.4 Create dataframe of initial YTMs of new issues"
   ]
  },
  {
   "cell_type": "code",
   "execution_count": 16,
   "id": "6c9065a8",
   "metadata": {},
   "outputs": [],
   "source": [
    "# MS spread from IPREO data\n",
    "new_issues_yield_ipreo = new_issues_sliced.loc[:, ['dealDate', 'securities_isin', 'maturityTerm', 'issuerType', 'reofferValue']]\n",
    "new_issues_yield_ipreo = new_issues_yield_ipreo.rename(columns={'securities_isin': 'isin'})\n",
    "new_issues_yield_ipreo = new_issues_yield_ipreo.drop_duplicates()"
   ]
  },
  {
   "cell_type": "code",
   "execution_count": 17,
   "id": "f0f87e0b",
   "metadata": {},
   "outputs": [],
   "source": [
    "# Keep new issues with known initial MS\n",
    "new_issues_initial_prices = new_issues_yield_ipreo.loc[~new_issues_yield_ipreo['reofferValue'].isna(), :]"
   ]
  },
  {
   "cell_type": "code",
   "execution_count": 18,
   "id": "e76b5230",
   "metadata": {},
   "outputs": [],
   "source": [
    "new_issues_initial_prices = new_issues_initial_prices.reset_index(drop=True)"
   ]
  },
  {
   "cell_type": "code",
   "execution_count": 19,
   "id": "2e5525ce",
   "metadata": {},
   "outputs": [
    {
     "data": {
      "text/html": [
       "<div>\n",
       "<style scoped>\n",
       "    .dataframe tbody tr th:only-of-type {\n",
       "        vertical-align: middle;\n",
       "    }\n",
       "\n",
       "    .dataframe tbody tr th {\n",
       "        vertical-align: top;\n",
       "    }\n",
       "\n",
       "    .dataframe thead th {\n",
       "        text-align: right;\n",
       "    }\n",
       "</style>\n",
       "<table border=\"1\" class=\"dataframe\">\n",
       "  <thead>\n",
       "    <tr style=\"text-align: right;\">\n",
       "      <th></th>\n",
       "      <th>dealDate</th>\n",
       "      <th>isin</th>\n",
       "      <th>maturityTerm</th>\n",
       "      <th>issuerType</th>\n",
       "      <th>reofferValue</th>\n",
       "    </tr>\n",
       "  </thead>\n",
       "  <tbody>\n",
       "    <tr>\n",
       "      <th>0</th>\n",
       "      <td>2017-04-26</td>\n",
       "      <td>XS1606633912</td>\n",
       "      <td>7.0</td>\n",
       "      <td>Financials</td>\n",
       "      <td>-6.0</td>\n",
       "    </tr>\n",
       "    <tr>\n",
       "      <th>1</th>\n",
       "      <td>2017-05-02</td>\n",
       "      <td>DE000MHB18J6</td>\n",
       "      <td>10.0</td>\n",
       "      <td>Financials</td>\n",
       "      <td>-12.0</td>\n",
       "    </tr>\n",
       "    <tr>\n",
       "      <th>2</th>\n",
       "      <td>2017-05-09</td>\n",
       "      <td>FR0013256427</td>\n",
       "      <td>5.3</td>\n",
       "      <td>Financials</td>\n",
       "      <td>-6.0</td>\n",
       "    </tr>\n",
       "    <tr>\n",
       "      <th>3</th>\n",
       "      <td>2017-05-10</td>\n",
       "      <td>XS1612958253</td>\n",
       "      <td>7.0</td>\n",
       "      <td>Financials</td>\n",
       "      <td>10.0</td>\n",
       "    </tr>\n",
       "    <tr>\n",
       "      <th>4</th>\n",
       "      <td>2017-05-10</td>\n",
       "      <td>XS1614202049</td>\n",
       "      <td>10.0</td>\n",
       "      <td>Financials</td>\n",
       "      <td>3.0</td>\n",
       "    </tr>\n",
       "    <tr>\n",
       "      <th>...</th>\n",
       "      <td>...</td>\n",
       "      <td>...</td>\n",
       "      <td>...</td>\n",
       "      <td>...</td>\n",
       "      <td>...</td>\n",
       "    </tr>\n",
       "    <tr>\n",
       "      <th>3037</th>\n",
       "      <td>2023-02-28</td>\n",
       "      <td>XS2595418166</td>\n",
       "      <td>7.0</td>\n",
       "      <td>Corporate</td>\n",
       "      <td>80.0</td>\n",
       "    </tr>\n",
       "    <tr>\n",
       "      <th>3038</th>\n",
       "      <td>2023-02-28</td>\n",
       "      <td>DE000BHY0JY1</td>\n",
       "      <td>5.0</td>\n",
       "      <td>Financials</td>\n",
       "      <td>1.0</td>\n",
       "    </tr>\n",
       "    <tr>\n",
       "      <th>3039</th>\n",
       "      <td>2023-02-28</td>\n",
       "      <td>XS2592240712</td>\n",
       "      <td>7.0</td>\n",
       "      <td>Financials</td>\n",
       "      <td>160.0</td>\n",
       "    </tr>\n",
       "    <tr>\n",
       "      <th>3040</th>\n",
       "      <td>2023-02-28</td>\n",
       "      <td>XS2595417945</td>\n",
       "      <td>12.0</td>\n",
       "      <td>Corporate</td>\n",
       "      <td>110.0</td>\n",
       "    </tr>\n",
       "    <tr>\n",
       "      <th>3041</th>\n",
       "      <td>2023-02-28</td>\n",
       "      <td>XS2595029344</td>\n",
       "      <td>5.0</td>\n",
       "      <td>Financials</td>\n",
       "      <td>32.0</td>\n",
       "    </tr>\n",
       "  </tbody>\n",
       "</table>\n",
       "<p>3042 rows × 5 columns</p>\n",
       "</div>"
      ],
      "text/plain": [
       "       dealDate          isin  maturityTerm  issuerType  reofferValue\n",
       "0    2017-04-26  XS1606633912           7.0  Financials          -6.0\n",
       "1    2017-05-02  DE000MHB18J6          10.0  Financials         -12.0\n",
       "2    2017-05-09  FR0013256427           5.3  Financials          -6.0\n",
       "3    2017-05-10  XS1612958253           7.0  Financials          10.0\n",
       "4    2017-05-10  XS1614202049          10.0  Financials           3.0\n",
       "...         ...           ...           ...         ...           ...\n",
       "3037 2023-02-28  XS2595418166           7.0   Corporate          80.0\n",
       "3038 2023-02-28  DE000BHY0JY1           5.0  Financials           1.0\n",
       "3039 2023-02-28  XS2592240712           7.0  Financials         160.0\n",
       "3040 2023-02-28  XS2595417945          12.0   Corporate         110.0\n",
       "3041 2023-02-28  XS2595029344           5.0  Financials          32.0\n",
       "\n",
       "[3042 rows x 5 columns]"
      ]
     },
     "execution_count": 19,
     "metadata": {},
     "output_type": "execute_result"
    }
   ],
   "source": [
    "new_issues_initial_prices"
   ]
  },
  {
   "cell_type": "markdown",
   "id": "2cfc536a",
   "metadata": {},
   "source": [
    "## 3.5 Combine bond price and index development with initial prices"
   ]
  },
  {
   "cell_type": "code",
   "execution_count": 20,
   "id": "67671950",
   "metadata": {},
   "outputs": [],
   "source": [
    "# Extract the maturities from column names\n",
    "maturities = [col for col in swap_rates.columns]\n",
    "\n",
    "# Interpolate the swap rate curve for each timestamp\n",
    "interpolated_swap_rates = {}\n",
    "for timestamp, row in swap_rates.iterrows():\n",
    "    swap_rate_interpolator = interp1d(maturities, row, kind='cubic')\n",
    "    interpolated_swap_rates[timestamp] = swap_rate_interpolator"
   ]
  },
  {
   "cell_type": "code",
   "execution_count": 21,
   "id": "ae13e098",
   "metadata": {},
   "outputs": [],
   "source": [
    "# Rename column\n",
    "new_issues_prices_refinitive = new_issues_prices_refinitive.rename(columns={'Instrument': 'isin'})"
   ]
  },
  {
   "cell_type": "code",
   "execution_count": 22,
   "id": "07557501",
   "metadata": {},
   "outputs": [],
   "source": [
    "# Merge initial MS with YTM development\n",
    "new_issues_price_dev = new_issues_initial_prices.merge(new_issues_prices_refinitive, on='isin', how='left')\n",
    "new_issues_prices_refinitive_ms = new_issues_prices_refinitive_ms.rename(columns={'Instrument': 'isin', 'Swap Spread Bid':'Swap Spread'})\n",
    "new_issues_price_dev = new_issues_price_dev.merge(new_issues_prices_refinitive_ms[['isin', 'Date', 'Swap Spread']], on=['isin', 'Date'], how='left')\n",
    "\n",
    "# Rename columns\n",
    "new_issues_price_dev = new_issues_price_dev.rename(columns={'reofferValue': 'bondInitial'})\n",
    "new_issues_price_dev = new_issues_price_dev.rename(columns={'Date': 'priceDate'})\n",
    "new_issues_price_dev = new_issues_price_dev.rename(columns={'Bid Yield': 'bondBidYTM'})\n",
    "\n",
    "# Keep isins with at least 1 price\n",
    "new_issues_price_dev = new_issues_price_dev.dropna(subset=['bondBidYTM'])\n",
    "new_issues_price_dev = new_issues_price_dev.drop_duplicates()"
   ]
  },
  {
   "cell_type": "code",
   "execution_count": 23,
   "id": "aebae46f",
   "metadata": {},
   "outputs": [],
   "source": [
    "# Find first price for each isin\n",
    "\n",
    "# Sort the dataframe by date in ascending order\n",
    "new_issues_price_dev = new_issues_price_dev.sort_values('priceDate')\n",
    "\n",
    "# Group the dataframe by 'isin' and select the first row (earliest date) for each group\n",
    "earliest_dates = new_issues_price_dev.groupby('isin')['priceDate'].first()\n",
    "\n",
    "# Create a new column 'firstPrice' and map the earliest dates based on the 'isin'\n",
    "new_issues_price_dev['firstPrice'] = new_issues_price_dev['isin'].map(earliest_dates)"
   ]
  },
  {
   "cell_type": "code",
   "execution_count": 24,
   "id": "6d11d8a0",
   "metadata": {},
   "outputs": [],
   "source": [
    "# Calculate Time To Maturity\n",
    "new_issues_price_dev['diff'] = (new_issues_price_dev['priceDate'] - new_issues_price_dev['firstPrice']) / pd.Timedelta(days=365.25)\n",
    "new_issues_price_dev['timeToMaturity'] = new_issues_price_dev['maturityTerm'] - new_issues_price_dev['diff']"
   ]
  },
  {
   "cell_type": "code",
   "execution_count": 25,
   "id": "f2f7d3ed",
   "metadata": {},
   "outputs": [],
   "source": [
    "# Calculate the corresponding swap rates for bonds\n",
    "def calculate_swap_rate_bond(row):\n",
    "    try:\n",
    "        return interpolated_swap_rates[row['priceDate']](row['timeToMaturity'])\n",
    "    except KeyError:\n",
    "        return None\n",
    "\n",
    "new_issues_price_dev['Swap Rate Bond'] = new_issues_price_dev.apply(calculate_swap_rate_bond, axis=1)"
   ]
  },
  {
   "cell_type": "code",
   "execution_count": 26,
   "id": "afcafc15",
   "metadata": {},
   "outputs": [],
   "source": [
    "# Calculate spread to MS for bonds\n",
    "new_issues_price_dev['bondMS'] = new_issues_price_dev['bondBidYTM'] - new_issues_price_dev['Swap Rate Bond']\n",
    "new_issues_price_dev['bondMS'] = new_issues_price_dev['bondMS'] * 100"
   ]
  },
  {
   "cell_type": "code",
   "execution_count": 27,
   "id": "ed34c5bf",
   "metadata": {},
   "outputs": [],
   "source": [
    "# Drop unncessary columns\n",
    "# new_issues_price_dev = new_issues_price_dev.drop(['firstPrice', 'diff', 'maturityTerm', 'timeToMaturity', 'bondBidYTM', 'Swap Rate Bond'], axis=1)"
   ]
  },
  {
   "cell_type": "code",
   "execution_count": 28,
   "id": "ebb30ffd",
   "metadata": {},
   "outputs": [],
   "source": [
    "# Rename column in indices\n",
    "iboxx_indices_sliced = iboxx_indices_sliced.rename(columns={'Download_Date': 'Date'})"
   ]
  },
  {
   "cell_type": "code",
   "execution_count": 29,
   "id": "4fff9d21",
   "metadata": {},
   "outputs": [],
   "source": [
    "# Merge IBOXX indices value at the dealDate (initial index)\n",
    "new_issues_price_dev_ind = new_issues_price_dev.merge(iboxx_indices_sliced, left_on='dealDate', right_on = 'Date', how='left')\n",
    "new_issues_price_dev_ind = new_issues_price_dev_ind.drop('Date', axis=1)"
   ]
  },
  {
   "cell_type": "code",
   "execution_count": 30,
   "id": "d36cd043",
   "metadata": {},
   "outputs": [],
   "source": [
    "# Calculate the corresponding swap rates for index\n",
    "def calculate_swap_rate_initial(row):\n",
    "    try:\n",
    "        return interpolated_swap_rates[row['dealDate']](row['Expected_Remaining_Life'])\n",
    "    except KeyError:\n",
    "        return None\n",
    "    \n",
    "def calculate_swap_rate(row):\n",
    "    try:\n",
    "        return interpolated_swap_rates[row['priceDate']](row['Expected_Remaining_Life'])\n",
    "    except KeyError:\n",
    "        return None\n",
    "\n",
    "new_issues_price_dev_ind['Swap Rate'] = new_issues_price_dev_ind.apply(calculate_swap_rate_initial, axis=1)"
   ]
  },
  {
   "cell_type": "code",
   "execution_count": 31,
   "id": "43159eb2",
   "metadata": {},
   "outputs": [],
   "source": [
    "# Calculate spread to MS for index\n",
    "new_issues_price_dev_ind['indexInitial'] = new_issues_price_dev_ind['Annual_Yield_to_Maturity'] - new_issues_price_dev_ind['Swap Rate']\n",
    "new_issues_price_dev_ind['indexInitial'] = new_issues_price_dev_ind['indexInitial'] * 100"
   ]
  },
  {
   "cell_type": "code",
   "execution_count": 32,
   "id": "575430b3",
   "metadata": {},
   "outputs": [],
   "source": [
    "# Drop unncessary columns\n",
    "new_issues_price_dev_ind = new_issues_price_dev_ind.drop(['Annual_Yield_to_Maturity', 'Expected_Remaining_Life', 'Swap Rate'], axis=1)"
   ]
  },
  {
   "cell_type": "code",
   "execution_count": 33,
   "id": "471ec3d8",
   "metadata": {},
   "outputs": [],
   "source": [
    "# Filter initial index based on the bond type (financial or corporate)\n",
    "new_issues_price_dev_ind = new_issues_price_dev_ind[(new_issues_price_dev_ind['issuerType'] == 'Corporate') & (new_issues_price_dev_ind['Name'] == 'iBoxx € Corporates Senior') |\n",
    "                 (new_issues_price_dev_ind['issuerType'] == 'Financials') & (new_issues_price_dev_ind['Name'] == 'iBoxx € Financials Senior')]\n",
    "new_issues_price_dev_ind = new_issues_price_dev_ind.reset_index(drop=True)\n",
    "\n",
    "# Rename column\n",
    "new_issues_price_dev_ind = new_issues_price_dev_ind.rename(columns={'Name': 'indexName'})"
   ]
  },
  {
   "cell_type": "code",
   "execution_count": 34,
   "id": "6a4142c7",
   "metadata": {},
   "outputs": [],
   "source": [
    "# Merge development of IBOXX indices with the bond prices\n",
    "new_issues_price_dev_ind = new_issues_price_dev_ind.merge(iboxx_indices_sliced, left_on='priceDate', right_on = 'Date', how='left')"
   ]
  },
  {
   "cell_type": "code",
   "execution_count": 35,
   "id": "2d0dfcb2",
   "metadata": {},
   "outputs": [],
   "source": [
    "# Calculate Swap Rates for Index prices\n",
    "new_issues_price_dev_ind['Swap Rate'] = new_issues_price_dev_ind.apply(calculate_swap_rate, axis=1)"
   ]
  },
  {
   "cell_type": "code",
   "execution_count": 36,
   "id": "7f5bc098",
   "metadata": {},
   "outputs": [],
   "source": [
    "# Calculate spread to MS for Index prices\n",
    "new_issues_price_dev_ind['indexMS'] = new_issues_price_dev_ind['Annual_Yield_to_Maturity'] - new_issues_price_dev_ind['Swap Rate']\n",
    "new_issues_price_dev_ind['indexMS'] = new_issues_price_dev_ind['indexMS'] * 100"
   ]
  },
  {
   "cell_type": "code",
   "execution_count": 37,
   "id": "2a979374",
   "metadata": {},
   "outputs": [],
   "source": [
    "# Drop unncessary columns\n",
    "# new_issues_price_dev_ind = new_issues_price_dev_ind.drop(['Annual_Yield_to_Maturity', 'Expected_Remaining_Life', 'Swap Rate'], axis=1)"
   ]
  },
  {
   "cell_type": "code",
   "execution_count": 38,
   "id": "a23156aa",
   "metadata": {},
   "outputs": [],
   "source": [
    "# Filter index development based on the bond type (financial or corporate)\n",
    "new_issues_price_dev_ind = new_issues_price_dev_ind[(new_issues_price_dev_ind['issuerType'] == 'Corporate') & (new_issues_price_dev_ind['Name'] == 'iBoxx € Corporates Senior') |\n",
    "                 (new_issues_price_dev_ind['issuerType'] == 'Financials') & (new_issues_price_dev_ind['Name'] == 'iBoxx € Financials Senior')]\n",
    "new_issues_price_dev_ind = new_issues_price_dev_ind.reset_index(drop=True)\n",
    "\n",
    "# Drop unncessary columns\n",
    "new_issues_price_dev_ind = new_issues_price_dev_ind.drop(['dealDate', 'Date', 'issuerType', 'Name', 'indexName'], axis=1)"
   ]
  },
  {
   "cell_type": "code",
   "execution_count": 39,
   "id": "611e618c",
   "metadata": {},
   "outputs": [],
   "source": [
    "# For each new issue, keep 3rd and 4th week of prices (11th to 20th working date) after settlement on secondary market \n",
    "\n",
    "# Sort the DataFrame by 'isin' and 'date' columns\n",
    "new_issues_price_dev_ind.sort_values(['isin', 'priceDate'], inplace=True)\n",
    "\n",
    "# Assign ranks within each 'isin' group\n",
    "new_issues_price_dev_ind['rank'] = new_issues_price_dev_ind.groupby('isin')['priceDate'].rank(method='first', ascending=True)\n",
    "\n",
    "# Filter the DataFrame based on rank values\n",
    "new_issues_price_dev_ind_sliced = new_issues_price_dev_ind[(new_issues_price_dev_ind['rank'] >= 11) & (new_issues_price_dev_ind['rank'] <= 20)]\n",
    "\n",
    "# Drop unncessary columns\n",
    "new_issues_price_dev_ind_sliced = new_issues_price_dev_ind_sliced.drop('rank', axis=1)\n",
    "new_issues_price_dev_ind_sliced = new_issues_price_dev_ind_sliced.reset_index(drop=True)"
   ]
  },
  {
   "cell_type": "code",
   "execution_count": 40,
   "id": "05937864",
   "metadata": {},
   "outputs": [
    {
     "data": {
      "text/plain": [
       "array(3.286)"
      ]
     },
     "execution_count": 40,
     "metadata": {},
     "output_type": "execute_result"
    }
   ],
   "source": [
    "interpolated_swap_rates[pd.Timestamp('2023-02-28 00:00:00')](7)"
   ]
  },
  {
   "cell_type": "code",
   "execution_count": 41,
   "id": "3102317f",
   "metadata": {},
   "outputs": [],
   "source": [
    "new_issues_price_dev_ind_sliced['bondBidYTMFromSpread'] = new_issues_price_dev_ind_sliced['Swap Rate Bond'] + new_issues_price_dev_ind_sliced['Swap Spread']/100"
   ]
  },
  {
   "cell_type": "code",
   "execution_count": 60,
   "id": "d7b1789b",
   "metadata": {},
   "outputs": [
    {
     "data": {
      "text/html": [
       "<div>\n",
       "<style scoped>\n",
       "    .dataframe tbody tr th:only-of-type {\n",
       "        vertical-align: middle;\n",
       "    }\n",
       "\n",
       "    .dataframe tbody tr th {\n",
       "        vertical-align: top;\n",
       "    }\n",
       "\n",
       "    .dataframe thead th {\n",
       "        text-align: right;\n",
       "    }\n",
       "</style>\n",
       "<table border=\"1\" class=\"dataframe\">\n",
       "  <thead>\n",
       "    <tr style=\"text-align: right;\">\n",
       "      <th></th>\n",
       "      <th>isin</th>\n",
       "      <th>maturityTerm</th>\n",
       "      <th>bondInitial</th>\n",
       "      <th>priceDate</th>\n",
       "      <th>bondBidYTM</th>\n",
       "      <th>Swap Spread</th>\n",
       "      <th>firstPrice</th>\n",
       "      <th>diff</th>\n",
       "      <th>timeToMaturity</th>\n",
       "      <th>Swap Rate Bond</th>\n",
       "      <th>bondMS</th>\n",
       "      <th>indexInitial</th>\n",
       "      <th>Annual_Yield_to_Maturity</th>\n",
       "      <th>Expected_Remaining_Life</th>\n",
       "      <th>Swap Rate</th>\n",
       "      <th>indexMS</th>\n",
       "      <th>bondBidYTMFromSpread</th>\n",
       "      <th>bondPriceDelta</th>\n",
       "      <th>indexPriceDelta</th>\n",
       "      <th>bondPriceDeltaAdj</th>\n",
       "    </tr>\n",
       "  </thead>\n",
       "  <tbody>\n",
       "    <tr>\n",
       "      <th>27547</th>\n",
       "      <td>XS2595418166</td>\n",
       "      <td>7.0</td>\n",
       "      <td>80.0</td>\n",
       "      <td>2023-03-15</td>\n",
       "      <td>3.746</td>\n",
       "      <td>76.48</td>\n",
       "      <td>2023-03-01</td>\n",
       "      <td>0.038330</td>\n",
       "      <td>6.961670</td>\n",
       "      <td>2.9803176484567566</td>\n",
       "      <td>76.568235</td>\n",
       "      <td>86.841292</td>\n",
       "      <td>3.989311</td>\n",
       "      <td>5.470201</td>\n",
       "      <td>3.056857302826834</td>\n",
       "      <td>93.245377</td>\n",
       "      <td>3.745118</td>\n",
       "      <td>3.431765</td>\n",
       "      <td>-6.404085</td>\n",
       "      <td>9.83585</td>\n",
       "    </tr>\n",
       "    <tr>\n",
       "      <th>27548</th>\n",
       "      <td>XS2595418166</td>\n",
       "      <td>7.0</td>\n",
       "      <td>80.0</td>\n",
       "      <td>2023-03-16</td>\n",
       "      <td>3.877</td>\n",
       "      <td>86.95</td>\n",
       "      <td>2023-03-01</td>\n",
       "      <td>0.041068</td>\n",
       "      <td>6.958932</td>\n",
       "      <td>3.0078966930927846</td>\n",
       "      <td>86.910331</td>\n",
       "      <td>86.841292</td>\n",
       "      <td>4.117157</td>\n",
       "      <td>5.467461</td>\n",
       "      <td>3.05789083439633</td>\n",
       "      <td>105.926663</td>\n",
       "      <td>3.877397</td>\n",
       "      <td>-6.910331</td>\n",
       "      <td>-19.085371</td>\n",
       "      <td>12.175041</td>\n",
       "    </tr>\n",
       "    <tr>\n",
       "      <th>27549</th>\n",
       "      <td>XS2595418166</td>\n",
       "      <td>7.0</td>\n",
       "      <td>80.0</td>\n",
       "      <td>2023-03-17</td>\n",
       "      <td>3.747</td>\n",
       "      <td>88.02</td>\n",
       "      <td>2023-03-01</td>\n",
       "      <td>0.043806</td>\n",
       "      <td>6.956194</td>\n",
       "      <td>2.867908998452454</td>\n",
       "      <td>87.9091</td>\n",
       "      <td>86.841292</td>\n",
       "      <td>4.012044</td>\n",
       "      <td>5.464722</td>\n",
       "      <td>2.9151458260598133</td>\n",
       "      <td>109.689831</td>\n",
       "      <td>3.748109</td>\n",
       "      <td>-7.9091</td>\n",
       "      <td>-22.848539</td>\n",
       "      <td>14.939439</td>\n",
       "    </tr>\n",
       "    <tr>\n",
       "      <th>27550</th>\n",
       "      <td>XS2595418166</td>\n",
       "      <td>7.0</td>\n",
       "      <td>80.0</td>\n",
       "      <td>2023-03-20</td>\n",
       "      <td>3.794</td>\n",
       "      <td>92.49</td>\n",
       "      <td>2023-03-01</td>\n",
       "      <td>0.052019</td>\n",
       "      <td>6.947981</td>\n",
       "      <td>2.8707957632335948</td>\n",
       "      <td>92.320424</td>\n",
       "      <td>86.841292</td>\n",
       "      <td>4.058356</td>\n",
       "      <td>5.456504</td>\n",
       "      <td>2.9090842935578234</td>\n",
       "      <td>114.927209</td>\n",
       "      <td>3.795696</td>\n",
       "      <td>-12.320424</td>\n",
       "      <td>-28.085917</td>\n",
       "      <td>15.765494</td>\n",
       "    </tr>\n",
       "    <tr>\n",
       "      <th>27551</th>\n",
       "      <td>XS2595418166</td>\n",
       "      <td>7.0</td>\n",
       "      <td>80.0</td>\n",
       "      <td>2023-03-21</td>\n",
       "      <td>3.819</td>\n",
       "      <td>85.14</td>\n",
       "      <td>2023-03-01</td>\n",
       "      <td>0.054757</td>\n",
       "      <td>6.945243</td>\n",
       "      <td>2.9680408659218593</td>\n",
       "      <td>85.095913</td>\n",
       "      <td>86.841292</td>\n",
       "      <td>4.080383</td>\n",
       "      <td>5.453764</td>\n",
       "      <td>3.0121913328687087</td>\n",
       "      <td>106.819177</td>\n",
       "      <td>3.819441</td>\n",
       "      <td>-5.095913</td>\n",
       "      <td>-19.977885</td>\n",
       "      <td>14.881972</td>\n",
       "    </tr>\n",
       "    <tr>\n",
       "      <th>27552</th>\n",
       "      <td>XS2595418166</td>\n",
       "      <td>7.0</td>\n",
       "      <td>80.0</td>\n",
       "      <td>2023-03-22</td>\n",
       "      <td>3.864</td>\n",
       "      <td>85.19</td>\n",
       "      <td>2023-03-01</td>\n",
       "      <td>0.057495</td>\n",
       "      <td>6.942505</td>\n",
       "      <td>3.008087173567634</td>\n",
       "      <td>85.591283</td>\n",
       "      <td>86.841292</td>\n",
       "      <td>4.109040</td>\n",
       "      <td>5.451025</td>\n",
       "      <td>3.0058000724746665</td>\n",
       "      <td>110.324005</td>\n",
       "      <td>3.859987</td>\n",
       "      <td>-5.591283</td>\n",
       "      <td>-23.482713</td>\n",
       "      <td>17.891431</td>\n",
       "    </tr>\n",
       "  </tbody>\n",
       "</table>\n",
       "</div>"
      ],
      "text/plain": [
       "               isin  maturityTerm  bondInitial  priceDate  bondBidYTM  \\\n",
       "27547  XS2595418166           7.0         80.0 2023-03-15       3.746   \n",
       "27548  XS2595418166           7.0         80.0 2023-03-16       3.877   \n",
       "27549  XS2595418166           7.0         80.0 2023-03-17       3.747   \n",
       "27550  XS2595418166           7.0         80.0 2023-03-20       3.794   \n",
       "27551  XS2595418166           7.0         80.0 2023-03-21       3.819   \n",
       "27552  XS2595418166           7.0         80.0 2023-03-22       3.864   \n",
       "\n",
       "       Swap Spread firstPrice      diff  timeToMaturity      Swap Rate Bond  \\\n",
       "27547        76.48 2023-03-01  0.038330        6.961670  2.9803176484567566   \n",
       "27548        86.95 2023-03-01  0.041068        6.958932  3.0078966930927846   \n",
       "27549        88.02 2023-03-01  0.043806        6.956194   2.867908998452454   \n",
       "27550        92.49 2023-03-01  0.052019        6.947981  2.8707957632335948   \n",
       "27551        85.14 2023-03-01  0.054757        6.945243  2.9680408659218593   \n",
       "27552        85.19 2023-03-01  0.057495        6.942505   3.008087173567634   \n",
       "\n",
       "          bondMS indexInitial  Annual_Yield_to_Maturity  \\\n",
       "27547  76.568235    86.841292                  3.989311   \n",
       "27548  86.910331    86.841292                  4.117157   \n",
       "27549    87.9091    86.841292                  4.012044   \n",
       "27550  92.320424    86.841292                  4.058356   \n",
       "27551  85.095913    86.841292                  4.080383   \n",
       "27552  85.591283    86.841292                  4.109040   \n",
       "\n",
       "       Expected_Remaining_Life           Swap Rate     indexMS  \\\n",
       "27547                 5.470201   3.056857302826834   93.245377   \n",
       "27548                 5.467461    3.05789083439633  105.926663   \n",
       "27549                 5.464722  2.9151458260598133  109.689831   \n",
       "27550                 5.456504  2.9090842935578234  114.927209   \n",
       "27551                 5.453764  3.0121913328687087  106.819177   \n",
       "27552                 5.451025  3.0058000724746665  110.324005   \n",
       "\n",
       "      bondBidYTMFromSpread bondPriceDelta indexPriceDelta bondPriceDeltaAdj  \n",
       "27547             3.745118       3.431765       -6.404085           9.83585  \n",
       "27548             3.877397      -6.910331      -19.085371         12.175041  \n",
       "27549             3.748109        -7.9091      -22.848539         14.939439  \n",
       "27550             3.795696     -12.320424      -28.085917         15.765494  \n",
       "27551             3.819441      -5.095913      -19.977885         14.881972  \n",
       "27552             3.859987      -5.591283      -23.482713         17.891431  "
      ]
     },
     "execution_count": 60,
     "metadata": {},
     "output_type": "execute_result"
    }
   ],
   "source": [
    "new_issues_price_dev_ind_sliced[new_issues_price_dev_ind_sliced['isin'] == 'XS2595418166']"
   ]
  },
  {
   "cell_type": "code",
   "execution_count": 43,
   "id": "6f148689",
   "metadata": {},
   "outputs": [
    {
     "data": {
      "text/html": [
       "<div>\n",
       "<style scoped>\n",
       "    .dataframe tbody tr th:only-of-type {\n",
       "        vertical-align: middle;\n",
       "    }\n",
       "\n",
       "    .dataframe tbody tr th {\n",
       "        vertical-align: top;\n",
       "    }\n",
       "\n",
       "    .dataframe thead th {\n",
       "        text-align: right;\n",
       "    }\n",
       "</style>\n",
       "<table border=\"1\" class=\"dataframe\">\n",
       "  <thead>\n",
       "    <tr style=\"text-align: right;\">\n",
       "      <th></th>\n",
       "      <th>bondBidYTMFromSpread</th>\n",
       "      <th>bondBidYTM</th>\n",
       "    </tr>\n",
       "  </thead>\n",
       "  <tbody>\n",
       "    <tr>\n",
       "      <th>27547</th>\n",
       "      <td>3.745118</td>\n",
       "      <td>3.746</td>\n",
       "    </tr>\n",
       "    <tr>\n",
       "      <th>27548</th>\n",
       "      <td>3.877397</td>\n",
       "      <td>3.877</td>\n",
       "    </tr>\n",
       "    <tr>\n",
       "      <th>27549</th>\n",
       "      <td>3.748109</td>\n",
       "      <td>3.747</td>\n",
       "    </tr>\n",
       "    <tr>\n",
       "      <th>27550</th>\n",
       "      <td>3.795696</td>\n",
       "      <td>3.794</td>\n",
       "    </tr>\n",
       "    <tr>\n",
       "      <th>27551</th>\n",
       "      <td>3.819441</td>\n",
       "      <td>3.819</td>\n",
       "    </tr>\n",
       "    <tr>\n",
       "      <th>27552</th>\n",
       "      <td>3.859987</td>\n",
       "      <td>3.864</td>\n",
       "    </tr>\n",
       "  </tbody>\n",
       "</table>\n",
       "</div>"
      ],
      "text/plain": [
       "      bondBidYTMFromSpread  bondBidYTM\n",
       "27547             3.745118       3.746\n",
       "27548             3.877397       3.877\n",
       "27549             3.748109       3.747\n",
       "27550             3.795696       3.794\n",
       "27551             3.819441       3.819\n",
       "27552             3.859987       3.864"
      ]
     },
     "execution_count": 43,
     "metadata": {},
     "output_type": "execute_result"
    }
   ],
   "source": [
    "new_issues_price_dev_ind_sliced[new_issues_price_dev_ind_sliced['isin'] == 'XS2595418166'][['bondBidYTMFromSpread', 'bondBidYTM']]"
   ]
  },
  {
   "cell_type": "markdown",
   "id": "c4d1de8e",
   "metadata": {},
   "source": [
    "# 4. NIP Analysis"
   ]
  },
  {
   "cell_type": "code",
   "execution_count": 44,
   "id": "d67fb0aa",
   "metadata": {},
   "outputs": [],
   "source": [
    "# For each date, calculate the price delta\n",
    "new_issues_price_dev_ind_sliced['bondPriceDelta'] = new_issues_price_dev_ind_sliced['bondInitial'] - new_issues_price_dev_ind_sliced['bondMS']\n",
    "new_issues_price_dev_ind_sliced['indexPriceDelta'] = new_issues_price_dev_ind_sliced['indexInitial'] - new_issues_price_dev_ind_sliced['indexMS']"
   ]
  },
  {
   "cell_type": "code",
   "execution_count": 45,
   "id": "5133f7e9",
   "metadata": {},
   "outputs": [],
   "source": [
    "# Adjust price delta to the movements on the market\n",
    "new_issues_price_dev_ind_sliced['bondPriceDeltaAdj'] = new_issues_price_dev_ind_sliced['bondPriceDelta'] - new_issues_price_dev_ind_sliced['indexPriceDelta']"
   ]
  },
  {
   "cell_type": "code",
   "execution_count": 46,
   "id": "5c29a824",
   "metadata": {},
   "outputs": [],
   "source": [
    "issues_nip = new_issues_price_dev_ind_sliced.loc[:, ['isin', 'bondPriceDeltaAdj']].copy()"
   ]
  },
  {
   "cell_type": "code",
   "execution_count": 47,
   "id": "c85ef049",
   "metadata": {},
   "outputs": [],
   "source": [
    "issues_nip_average = issues_nip.groupby('isin', as_index=False).mean()\n",
    "issues_nip_average = issues_nip_average.rename(columns={'bondPriceDeltaAdj': 'NIP'})"
   ]
  },
  {
   "cell_type": "code",
   "execution_count": 48,
   "id": "ef4bb093",
   "metadata": {},
   "outputs": [
    {
     "data": {
      "text/html": [
       "<div>\n",
       "<style scoped>\n",
       "    .dataframe tbody tr th:only-of-type {\n",
       "        vertical-align: middle;\n",
       "    }\n",
       "\n",
       "    .dataframe tbody tr th {\n",
       "        vertical-align: top;\n",
       "    }\n",
       "\n",
       "    .dataframe thead th {\n",
       "        text-align: right;\n",
       "    }\n",
       "</style>\n",
       "<table border=\"1\" class=\"dataframe\">\n",
       "  <thead>\n",
       "    <tr style=\"text-align: right;\">\n",
       "      <th></th>\n",
       "      <th>isin</th>\n",
       "      <th>NIP</th>\n",
       "    </tr>\n",
       "  </thead>\n",
       "  <tbody>\n",
       "    <tr>\n",
       "      <th>2760</th>\n",
       "      <td>XS2595418166</td>\n",
       "      <td>14.248204</td>\n",
       "    </tr>\n",
       "  </tbody>\n",
       "</table>\n",
       "</div>"
      ],
      "text/plain": [
       "              isin        NIP\n",
       "2760  XS2595418166  14.248204"
      ]
     },
     "execution_count": 48,
     "metadata": {},
     "output_type": "execute_result"
    }
   ],
   "source": [
    "issues_nip_average[issues_nip_average['isin'] == 'XS2595418166']"
   ]
  },
  {
   "cell_type": "code",
   "execution_count": 49,
   "id": "3e0070e0",
   "metadata": {},
   "outputs": [
    {
     "data": {
      "image/png": "[encoded data removed]",
      "text/plain": [
       "<Figure size 800x600 with 1 Axes>"
      ]
     },
     "metadata": {
      "needs_background": "light"
     },
     "output_type": "display_data"
    }
   ],
   "source": [
    "# Plot the distribution of 'NIP'\n",
    "# Set the style\n",
    "# sns.set_style(\"darkgrid\")\n",
    "\n",
    "plt.figure(figsize=(8, 6), dpi=100)\n",
    "\n",
    "#ax = sns.histplot(data=issues_nip_average, x=\"NIP\", kde=False, stat='density', bins=100)\n",
    "#sns.kdeplot(data=issues_nip_average, x=\"NIP\", color='crimson', ax=ax)\n",
    "sns.histplot(data=issues_nip_average, x=\"NIP\", kde=True, color='green', bins=150, alpha=0.5)\n",
    "\n",
    "plt.xlabel('NIP', fontdict={'fontsize': 10})\n",
    "plt.ylabel('Frequency', fontdict={'fontsize': 10})\n",
    "plt.title('Distribution of NIP with KDE', fontdict={'fontsize': 12})\n",
    "\n",
    "plt.xlim(-100, 150)\n",
    "\n",
    "plt.show()"
   ]
  },
  {
   "cell_type": "code",
   "execution_count": 50,
   "id": "c6aec4b8",
   "metadata": {},
   "outputs": [
    {
     "name": "stdout",
     "output_type": "stream",
     "text": [
      "count    2761.000000\n",
      "mean        4.172492\n",
      "std        16.574296\n",
      "min       -85.470856\n",
      "25%        -3.808287\n",
      "50%         2.539447\n",
      "75%        10.504751\n",
      "max       156.294662\n",
      "Name: NIP, dtype: float64\n"
     ]
    }
   ],
   "source": [
    "descriptive_stats = issues_nip_average['NIP'].describe()\n",
    "print(descriptive_stats)"
   ]
  },
  {
   "cell_type": "markdown",
   "id": "6d939734",
   "metadata": {},
   "source": [
    "## 5. NIP Breakdown"
   ]
  },
  {
   "cell_type": "code",
   "execution_count": 51,
   "id": "bee7af85",
   "metadata": {},
   "outputs": [],
   "source": [
    "# Merge NIP \n",
    "issues_nip_characteristics = issues_nip_average.merge(new_issues_sliced[['securities_isin', 'dealDate', 'issuerType', 'esgType']], left_on='isin', right_on='securities_isin', how='left')\n",
    "issues_nip_characteristics = issues_nip_characteristics.drop('securities_isin', axis=1)"
   ]
  },
  {
   "cell_type": "code",
   "execution_count": 52,
   "id": "b086de61",
   "metadata": {},
   "outputs": [
    {
     "data": {
      "image/png": "[encoded data removed]",
      "text/plain": [
       "<Figure size 800x600 with 1 Axes>"
      ]
     },
     "metadata": {
      "needs_background": "light"
     },
     "output_type": "display_data"
    }
   ],
   "source": [
    "# Plot the distribution based on issuer type\n",
    "\n",
    "# Set the style\n",
    "# sns.set_style(\"darkgrid\")\n",
    "\n",
    "# Filter the DataFrame for different bond types\n",
    "df_corporate = issues_nip_characteristics[issues_nip_characteristics['issuerType'] == 'Corporate']\n",
    "df_financial = issues_nip_characteristics[issues_nip_characteristics['issuerType'] == 'Financials']\n",
    "\n",
    "plt.figure(figsize=(8, 6), dpi=100)\n",
    "\n",
    "# Plot histogram and KDE for corporate bonds\n",
    "sns.histplot(data=df_corporate, x='NIP', kde=True, label='Corporate', color='blue', bins=150, alpha=0.5)\n",
    "\n",
    "# Plot histogram and KDE for financial bonds\n",
    "sns.histplot(data=df_financial, x='NIP', kde=True, label='Financial', color='orange', bins=150, alpha=0.5)\n",
    "\n",
    "plt.xlabel('NIP', fontdict={'fontsize': 10})\n",
    "plt.ylabel('Frequency', fontdict={'fontsize': 10})\n",
    "plt.title('Distribution of NIP by Issuer Type', fontdict={'fontsize': 12})\n",
    "plt.legend()\n",
    "\n",
    "plt.xlim(-100, 150)\n",
    "\n",
    "plt.show()"
   ]
  },
  {
   "cell_type": "code",
   "execution_count": 53,
   "id": "00111d0c",
   "metadata": {},
   "outputs": [
    {
     "name": "stdout",
     "output_type": "stream",
     "text": [
      "count    1441.000000\n",
      "mean        5.904690\n",
      "std        16.071418\n",
      "min       -85.470856\n",
      "25%        -2.145521\n",
      "50%         3.775569\n",
      "75%        11.908436\n",
      "max        88.727227\n",
      "Name: NIP, dtype: float64\n"
     ]
    }
   ],
   "source": [
    "descriptive_stats_corp = df_corporate['NIP'].describe()\n",
    "print(descriptive_stats_corp)"
   ]
  },
  {
   "cell_type": "code",
   "execution_count": 54,
   "id": "6b94509e",
   "metadata": {},
   "outputs": [
    {
     "name": "stdout",
     "output_type": "stream",
     "text": [
      "count    1320.000000\n",
      "mean        2.281509\n",
      "std        16.910996\n",
      "min       -65.514079\n",
      "25%        -5.454475\n",
      "50%         0.764111\n",
      "75%         8.436900\n",
      "max       156.294662\n",
      "Name: NIP, dtype: float64\n"
     ]
    }
   ],
   "source": [
    "descriptive_stats_fin = df_financial['NIP'].describe()\n",
    "print(descriptive_stats_fin)"
   ]
  },
  {
   "cell_type": "code",
   "execution_count": 55,
   "id": "d872d6aa",
   "metadata": {},
   "outputs": [
    {
     "data": {
      "image/png": "[encoded data removed]",
      "text/plain": [
       "<Figure size 800x600 with 1 Axes>"
      ]
     },
     "metadata": {
      "needs_background": "light"
     },
     "output_type": "display_data"
    }
   ],
   "source": [
    "# Plot the distribution based on ESG type\n",
    "\n",
    "# Create 'esgBond' column based on 'esgType'\n",
    "issues_nip_characteristics['esgBond'] = issues_nip_characteristics['esgType'].notnull().astype(int)\n",
    "\n",
    "# Separate ESG and non-ESG bonds\n",
    "esg_bonds = issues_nip_characteristics[issues_nip_characteristics['esgBond'] == 1]\n",
    "non_esg_bonds = issues_nip_characteristics[issues_nip_characteristics['esgBond'] == 0]\n",
    "\n",
    "plt.figure(figsize=(8, 6), dpi=100)\n",
    "\n",
    "# Plot distribution of non-ESG bonds\n",
    "sns.histplot(data=non_esg_bonds, x='NIP', kde=True, color='blue', label='Non-ESG Bonds', alpha=0.5)\n",
    "\n",
    "# Plot distribution of ESG bonds\n",
    "sns.histplot(data=esg_bonds, x='NIP', kde=True, color='red', label='ESG Bonds')\n",
    "\n",
    "plt.xlabel('NIP')\n",
    "plt.ylabel('Count')\n",
    "plt.title('Distribution of NIP for ESG and Non-ESG Bonds')\n",
    "plt.legend()\n",
    "\n",
    "plt.xlim(-100, 150)\n",
    "\n",
    "plt.show()"
   ]
  },
  {
   "cell_type": "code",
   "execution_count": 56,
   "id": "b9cd8804",
   "metadata": {},
   "outputs": [
    {
     "name": "stdout",
     "output_type": "stream",
     "text": [
      "count    344.000000\n",
      "mean       5.187906\n",
      "std       15.866120\n",
      "min      -39.997191\n",
      "25%       -3.086489\n",
      "50%        4.468957\n",
      "75%       14.280692\n",
      "max       79.242426\n",
      "Name: NIP, dtype: float64\n"
     ]
    }
   ],
   "source": [
    "descriptive_stats_esg = esg_bonds['NIP'].describe()\n",
    "print(descriptive_stats_esg)"
   ]
  },
  {
   "cell_type": "code",
   "execution_count": 57,
   "id": "2d2d8338",
   "metadata": {},
   "outputs": [
    {
     "name": "stdout",
     "output_type": "stream",
     "text": [
      "count    2417.000000\n",
      "mean        4.027973\n",
      "std        16.670778\n",
      "min       -85.470856\n",
      "25%        -3.855926\n",
      "50%         2.294825\n",
      "75%         9.915514\n",
      "max       156.294662\n",
      "Name: NIP, dtype: float64\n"
     ]
    }
   ],
   "source": [
    "descriptive_stats_non_esg = non_esg_bonds['NIP'].describe()\n",
    "print(descriptive_stats_non_esg)"
   ]
  },
  {
   "cell_type": "code",
   "execution_count": 58,
   "id": "4eb586f3",
   "metadata": {},
   "outputs": [
    {
     "data": {
      "image/png": "[encoded data removed]",
      "text/plain": [
       "<Figure size 800x600 with 1 Axes>"
      ]
     },
     "metadata": {
      "needs_background": "light"
     },
     "output_type": "display_data"
    }
   ],
   "source": [
    "# Plot the average NIP of each year\n",
    "\n",
    "# Extract the year from the 'date' column\n",
    "issues_nip_characteristics['Year'] = issues_nip_characteristics['dealDate'].dt.year\n",
    "\n",
    "# Calculate the average NIP for each year\n",
    "df_avg_nip = issues_nip_characteristics.groupby('Year')['NIP'].mean().reset_index()\n",
    "\n",
    "plt.figure(figsize=(8, 6), dpi=100)\n",
    "\n",
    "# Plot the average NIP by year\n",
    "sns.barplot(data=df_avg_nip, x='Year', y='NIP', color='green')\n",
    "\n",
    "plt.xlabel('Year', fontdict={'fontsize': 10})\n",
    "plt.ylabel('Average NIP', fontdict={'fontsize': 10})\n",
    "plt.title('Average NIP by Year', fontdict={'fontsize': 12})\n",
    "\n",
    "plt.show()"
   ]
  },
  {
   "cell_type": "code",
   "execution_count": 59,
   "id": "c80babbf",
   "metadata": {},
   "outputs": [
    {
     "data": {
      "image/png": "[encoded data removed]",
      "text/plain": [
       "<Figure size 1400x600 with 1 Axes>"
      ]
     },
     "metadata": {
      "needs_background": "light"
     },
     "output_type": "display_data"
    }
   ],
   "source": [
    "# Plot monthly average plus 3-month moving average NIP\n",
    "\n",
    "# Set 'date' column as the DataFrame index\n",
    "issues_nip_characteristics.set_index('dealDate', inplace=True)\n",
    "\n",
    "# Set the style\n",
    "# sns.set_style(\"darkgrid\")\n",
    "\n",
    "# Calculate monthly average NIP\n",
    "monthly_avg = issues_nip_characteristics['NIP'].resample('M').mean()\n",
    "\n",
    "# Calculate 3-month moving average NIP\n",
    "moving_avg = monthly_avg.rolling(window=3).mean()\n",
    "\n",
    "plt.figure(figsize=(14, 6), dpi=100)\n",
    "\n",
    "# Plot monthly average NIP as bars with blue color\n",
    "plt.bar(monthly_avg.index, monthly_avg, label='Monthly Average', color='blue', width=4)\n",
    "\n",
    "# Plot 3-month moving average NIP\n",
    "plt.plot(moving_avg.index, moving_avg, label='3-Month Moving Average', color='red')\n",
    "\n",
    "plt.xlabel('Date')\n",
    "plt.ylabel('Average NIP')\n",
    "plt.title('Monthly Average NIP with 3-Month Moving Average')\n",
    "plt.legend()\n",
    "\n",
    "plt.show()"
   ]
  }
 ],
 "metadata": {
  "kernelspec": {
   "display_name": "nip_env",
   "language": "python",
   "name": "nip_env"
  },
  "language_info": {
   "codemirror_mode": {
    "name": "ipython",
    "version": 3
   },
   "file_extension": ".py",
   "mimetype": "text/x-python",
   "name": "python",
   "nbconvert_exporter": "python",
   "pygments_lexer": "ipython3",
   "version": "3.10.4"
  }
 },
 "nbformat": 4,
 "nbformat_minor": 5
}
