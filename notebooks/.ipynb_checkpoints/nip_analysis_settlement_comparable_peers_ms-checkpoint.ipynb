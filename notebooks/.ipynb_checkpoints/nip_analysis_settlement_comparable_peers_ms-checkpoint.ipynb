{
 "cells": [
  {
   "cell_type": "code",
   "execution_count": 1,
   "id": "8f2cd9b1",
   "metadata": {},
   "outputs": [],
   "source": [
    "import pandas as pd\n",
    "from pandas import Timestamp\n",
    "from pandas.tseries.offsets import BDay\n",
    "import numpy as np\n",
    "from scipy.interpolate import interp1d\n",
    "import os\n",
    "import re\n",
    "import seaborn as sns\n",
    "import matplotlib.pyplot as plt\n",
    "import matplotlib.ticker as mtick\n",
    "from pandas.tseries.offsets import BDay"
   ]
  },
  {
   "cell_type": "markdown",
   "id": "5cf642a0",
   "metadata": {},
   "source": [
    "# 1. Change directory to raw data folder"
   ]
  },
  {
   "cell_type": "code",
   "execution_count": 2,
   "id": "9a9708a7",
   "metadata": {},
   "outputs": [],
   "source": [
    "# Get the current working directory\n",
    "current_directory = os.getcwd()\n",
    "\n",
    "# Get the parent directory by going one level up\n",
    "parent_directory = os.path.dirname(current_directory)\n",
    "\n",
    "# Get the path of raw data folder\n",
    "data_raw_folder = os.path.join(parent_directory, 'data/raw')\n",
    "\n",
    "# Change the current working directory to raw data folder\n",
    "os.chdir(data_raw_folder)"
   ]
  },
  {
   "cell_type": "markdown",
   "id": "101b7673",
   "metadata": {},
   "source": [
    "# 2. Import datasets"
   ]
  },
  {
   "cell_type": "code",
   "execution_count": 3,
   "id": "1d5eff4f",
   "metadata": {},
   "outputs": [],
   "source": [
    "# New issues data\n",
    "new_issues = pd.read_csv('new_issues.csv', index_col=0)\n",
    "new_issues_characteristics =  pd.read_csv('new_issues_characteristics.csv', index_col=0)\n",
    "new_issues_prices_refinitive_ask =  pd.read_csv('new_issues_prices_askyield_refinitive.csv', index_col=0)\n",
    "swap_rates = pd.read_csv('swap_rates.csv', index_col=0)"
   ]
  },
  {
   "cell_type": "code",
   "execution_count": 4,
   "id": "dc08c792",
   "metadata": {},
   "outputs": [],
   "source": [
    "# Comparable bonds data\n",
    "chunk_dfs = []\n",
    "for i in range(6):\n",
    "    chunk_df = pd.read_csv(f'comparable_bonds_peers_duration_iboxx_{i+1}.csv', index_col=0)\n",
    "    chunk_dfs.append(chunk_df)\n",
    "\n",
    "comparable_bonds_iboxx = pd.concat(chunk_dfs, ignore_index=True)"
   ]
  },
  {
   "cell_type": "code",
   "execution_count": 5,
   "id": "f847fff2",
   "metadata": {},
   "outputs": [],
   "source": [
    "# Index data\n",
    "iboxx_indices = pd.read_csv('iboxx_indices.csv', sep=';')\n",
    "move_index = pd.read_csv('move_index.csv')"
   ]
  },
  {
   "cell_type": "markdown",
   "id": "820a7b0d",
   "metadata": {},
   "source": [
    "# 3. Modify raw datasets and create subsets"
   ]
  },
  {
   "cell_type": "markdown",
   "id": "030c4123",
   "metadata": {},
   "source": [
    "## 3.1 New issues"
   ]
  },
  {
   "cell_type": "code",
   "execution_count": 6,
   "id": "947330e0",
   "metadata": {},
   "outputs": [],
   "source": [
    "# Create new issues dataframe with selected columns\n",
    "new_issues_sliced = new_issues.loc[:,['securities_isin', 'ticker', 'dealDate',\n",
    "                                      'issuerType', 'paymentType', 'countryName', 'COUNTRY_ISO_CODE', \n",
    "                                      'moodys', 'sp', 'fitch', 'expectedSize', 'actualSize', 'minimumDenomination', \n",
    "                                      'securityType', 'maturityTerm', 'coupon', 'seniority_name_1', \n",
    "                                      'seniority_name_1_adj', 'esgType', 'referenceType', 'ipt_reference',\n",
    "                                      'ipt_price_down', 'ipt_price_up', 'guidance_reference', 'guidance_price_down',\n",
    "                                      'guidance_price_up', 'launchValue', 'reofferValue', 'yieldToMaturity', 'duration',\n",
    "                                     'Industry_Group', 'Industry_Sector']]\n",
    "\n",
    "# Change time type\n",
    "new_issues_sliced['dealDate'] = pd.to_datetime(new_issues_sliced['dealDate'])\n",
    "new_issues_sliced['dealDate'] = new_issues_sliced['dealDate'].dt.floor('d')"
   ]
  },
  {
   "cell_type": "code",
   "execution_count": 7,
   "id": "d2b57bf0",
   "metadata": {},
   "outputs": [],
   "source": [
    "# Check for duplicated combinations\n",
    "duplicates = new_issues_sliced.duplicated(subset=['securities_isin', 'dealDate'], keep=False)\n",
    "\n",
    "# Drop the duplicated combinations\n",
    "new_issues_sliced = new_issues_sliced[~duplicates]"
   ]
  },
  {
   "cell_type": "code",
   "execution_count": 8,
   "id": "1aa99c98",
   "metadata": {},
   "outputs": [],
   "source": [
    "# Deal with duplicated isins\n",
    "\n",
    "# Sort the DataFrame by 'dealDate' in ascending order\n",
    "new_issues_sliced = new_issues_sliced.sort_values('dealDate')\n",
    "\n",
    "# Keep the first occurrence of each ISIN\n",
    "new_issues_sliced = new_issues_sliced.drop_duplicates('securities_isin', keep='first')"
   ]
  },
  {
   "cell_type": "markdown",
   "id": "559481cc",
   "metadata": {},
   "source": [
    "## 3.2 Comparable bonds"
   ]
  },
  {
   "cell_type": "code",
   "execution_count": 9,
   "id": "ccc946d8",
   "metadata": {},
   "outputs": [],
   "source": [
    "# Change time type\n",
    "comparable_bonds_iboxx['date'] = pd.to_datetime(comparable_bonds_iboxx['date'])\n",
    "comparable_bonds_iboxx['date'] = comparable_bonds_iboxx['date'].dt.floor('d')"
   ]
  },
  {
   "cell_type": "code",
   "execution_count": 10,
   "id": "9095273d",
   "metadata": {},
   "outputs": [],
   "source": [
    "# Rename column\n",
    "comparable_bonds_iboxx = comparable_bonds_iboxx.rename(columns={'new_issue_isin': 'isin', 'ticker': 'tickerCompBond'})"
   ]
  },
  {
   "cell_type": "markdown",
   "id": "ec452e50",
   "metadata": {},
   "source": [
    "## 3.3 New issues characteristics; New issues prices"
   ]
  },
  {
   "cell_type": "code",
   "execution_count": 11,
   "id": "ddc637a5",
   "metadata": {},
   "outputs": [],
   "source": [
    "# Merge new issues with corresponding payment ranks\n",
    "new_issues_sliced = new_issues_sliced.merge(new_issues_characteristics[['security', 'PAYMENT_RANK']], left_on = 'securities_isin', right_on = 'security', how = 'inner')\n",
    "new_issues_sliced = new_issues_sliced.drop(['security'], axis=1)"
   ]
  },
  {
   "cell_type": "code",
   "execution_count": 12,
   "id": "3b157855",
   "metadata": {},
   "outputs": [],
   "source": [
    "# Change time type in refinitive prices dataset\n",
    "new_issues_prices_refinitive_ask['Date'] = pd.to_datetime(new_issues_prices_refinitive_ask['Date'])\n",
    "new_issues_prices_refinitive_ask['Date'] = new_issues_prices_refinitive_ask['Date'].dt.date\n",
    "new_issues_prices_refinitive_ask['Date'] = new_issues_prices_refinitive_ask['Date'].astype('datetime64')\n",
    "new_issues_prices_refinitive_ask['Date'] = new_issues_prices_refinitive_ask['Date'].dt.floor('d')"
   ]
  },
  {
   "cell_type": "code",
   "execution_count": 13,
   "id": "1603f364",
   "metadata": {},
   "outputs": [],
   "source": [
    "# Filter out 'wrong' prices (EUR price instead of yield)\n",
    "new_issues_prices_refinitive = new_issues_prices_refinitive_ask[(abs(new_issues_prices_refinitive_ask['Ask Yield']) < 10) | (new_issues_prices_refinitive_ask['Ask Yield'].isna())]"
   ]
  },
  {
   "cell_type": "markdown",
   "id": "5b77ef6c",
   "metadata": {},
   "source": [
    "## 3.4 Iboxx indices"
   ]
  },
  {
   "cell_type": "code",
   "execution_count": 14,
   "id": "ef34175a",
   "metadata": {},
   "outputs": [],
   "source": [
    "# Change time type in iboxx index dataset\n",
    "iboxx_indices['Download_Date'] = pd.to_datetime(iboxx_indices['Download_Date'])"
   ]
  },
  {
   "cell_type": "code",
   "execution_count": 15,
   "id": "1d3282f4",
   "metadata": {
    "scrolled": false
   },
   "outputs": [],
   "source": [
    "# Create issue dataframe with selected columns\n",
    "iboxx_indices_sliced = iboxx_indices.loc[:,['Download_Date', 'Name', 'Annual_Yield_to_Maturity', 'Expected_Remaining_Life']]"
   ]
  },
  {
   "cell_type": "code",
   "execution_count": 16,
   "id": "54d80752",
   "metadata": {},
   "outputs": [],
   "source": [
    "# Keep only iBoxx € Corporates Senior and iBoxx € Financials Senior\n",
    "iboxx_indices_sliced = iboxx_indices_sliced[iboxx_indices_sliced['Name'].isin(['iBoxx € Corporates Senior', 'iBoxx € Financials Senior'])]"
   ]
  },
  {
   "cell_type": "markdown",
   "id": "461f8961",
   "metadata": {},
   "source": [
    "## 3.5 Swap rates"
   ]
  },
  {
   "cell_type": "code",
   "execution_count": 17,
   "id": "96fb3ea4",
   "metadata": {},
   "outputs": [],
   "source": [
    "# Extract the column names and their corresponding years\n",
    "columns = swap_rates.columns\n",
    "years = []\n",
    "\n",
    "# Determine if the column represents months or years and extract the corresponding number\n",
    "for col in columns:\n",
    "    match = re.search(r'(\\d+)([YM])=', col)\n",
    "    if match:\n",
    "        num = int(match.group(1))\n",
    "        unit = match.group(2)\n",
    "        if unit == 'Y':\n",
    "            years.append(num)\n",
    "        elif unit == 'M':\n",
    "            years.append(num / 12)\n",
    "            \n",
    "# Create a dictionary to map the old column names to the new column names\n",
    "new_columns = {col: yr for col, yr in zip(columns, years)}\n",
    "\n",
    "# Rename the columns in the DataFrame\n",
    "swap_rates.rename(columns=new_columns, inplace=True)\n",
    "\n",
    "# Sort the columns in ascending order\n",
    "swap_rates = swap_rates.reindex(sorted(swap_rates.columns), axis=1)\n",
    "\n",
    "# Change time type in refinitive prices dataset\n",
    "swap_rates = swap_rates.reset_index()\n",
    "swap_rates['Date'] = pd.to_datetime(swap_rates['Date'])\n",
    "swap_rates['Date'] = swap_rates['Date'].dt.date\n",
    "swap_rates['Date'] = swap_rates['Date'].astype('datetime64')\n",
    "swap_rates['Date'] = swap_rates['Date'].dt.floor('d')\n",
    "swap_rates = swap_rates.set_index('Date')"
   ]
  },
  {
   "cell_type": "code",
   "execution_count": 18,
   "id": "e68a71e8",
   "metadata": {},
   "outputs": [],
   "source": [
    "# Extract the maturities from column names\n",
    "maturities = [col for col in swap_rates.columns]\n",
    "\n",
    "# Interpolate the swap rate curve for each timestamp\n",
    "interpolated_swap_rates = {}\n",
    "for timestamp, row in swap_rates.iterrows():\n",
    "    swap_rate_interpolator = interp1d(maturities, row, kind='cubic')\n",
    "    interpolated_swap_rates[timestamp] = swap_rate_interpolator"
   ]
  },
  {
   "cell_type": "markdown",
   "id": "d36d6efd",
   "metadata": {},
   "source": [
    "## 3.6 Create dataframe of initial MS of new issues"
   ]
  },
  {
   "cell_type": "code",
   "execution_count": 19,
   "id": "6c9065a8",
   "metadata": {},
   "outputs": [],
   "source": [
    "# MS spread from IPREO data\n",
    "new_issues_yield_ipreo = new_issues_sliced.loc[:, ['dealDate', 'securities_isin', 'ticker', 'maturityTerm', 'duration', 'PAYMENT_RANK', 'issuerType', 'reofferValue']]\n",
    "new_issues_yield_ipreo = new_issues_yield_ipreo.rename(columns={'securities_isin': 'isin'})\n",
    "new_issues_yield_ipreo = new_issues_yield_ipreo.drop_duplicates()"
   ]
  },
  {
   "cell_type": "code",
   "execution_count": 20,
   "id": "f0f87e0b",
   "metadata": {},
   "outputs": [],
   "source": [
    "# Keep new issues with known initial MS\n",
    "new_issues_initial_prices = new_issues_yield_ipreo.loc[~new_issues_yield_ipreo['reofferValue'].isna(), :]"
   ]
  },
  {
   "cell_type": "code",
   "execution_count": 21,
   "id": "e76b5230",
   "metadata": {},
   "outputs": [],
   "source": [
    "new_issues_initial_prices = new_issues_initial_prices.reset_index(drop=True)"
   ]
  },
  {
   "cell_type": "markdown",
   "id": "0813e0cc",
   "metadata": {},
   "source": [
    "## 3.7 Find comparable bonds at the day of the issue"
   ]
  },
  {
   "cell_type": "code",
   "execution_count": 22,
   "id": "163806fc",
   "metadata": {},
   "outputs": [],
   "source": [
    "# Merge comparable bonds on 'ticker' and 'dealDate' columns\n",
    "new_issues_with_comp = new_issues_initial_prices.merge(comparable_bonds_iboxx, left_on=['isin', 'dealDate'], right_on=['isin', 'date'], how='inner')\n",
    "new_issues_with_comp = new_issues_with_comp.drop_duplicates()"
   ]
  },
  {
   "cell_type": "code",
   "execution_count": 23,
   "id": "fbe831b8",
   "metadata": {},
   "outputs": [],
   "source": [
    "# Keep comparable bonds with the same payment rank\n",
    "new_issues_with_comp = new_issues_with_comp[new_issues_with_comp['PAYMENT_RANK']==new_issues_with_comp['Payment_Rank']]\n",
    "new_issues_with_comp = new_issues_with_comp.reset_index(drop=True)"
   ]
  },
  {
   "cell_type": "code",
   "execution_count": 24,
   "id": "555865f3",
   "metadata": {},
   "outputs": [],
   "source": [
    "# Calculate the maturity difference\n",
    "new_issues_with_comp['maturity_diff_abs'] = abs(new_issues_with_comp['maturityTerm'] - new_issues_with_comp['Time_To_Maturity'])"
   ]
  },
  {
   "cell_type": "code",
   "execution_count": 25,
   "id": "a62db65d",
   "metadata": {},
   "outputs": [],
   "source": [
    "# Keep bonds with close maturities (difference < 0.5 year)\n",
    "new_issues_with_comp_filtered = new_issues_with_comp.loc[new_issues_with_comp['maturity_diff_abs'] <= 0.5]\n",
    "new_issues_with_comp_filtered = new_issues_with_comp_filtered.reset_index(drop=True)"
   ]
  },
  {
   "cell_type": "code",
   "execution_count": 26,
   "id": "40b72fa5",
   "metadata": {},
   "outputs": [],
   "source": [
    "new_issues_with_comp_filtered = new_issues_with_comp_filtered[['dealDate', 'isin', 'ticker', 'maturityTerm', 'PAYMENT_RANK',\n",
    "                                                               'issuerType', 'reofferValue', 'ISIN', \n",
    "                                                               'Time_To_Maturity','Annual_Yield_to_Maturity',\n",
    "                                                               'maturity_diff_abs']]\n",
    "\n",
    "new_issues_with_comp_filtered = new_issues_with_comp_filtered.drop_duplicates()"
   ]
  },
  {
   "cell_type": "code",
   "execution_count": 27,
   "id": "d5919923",
   "metadata": {},
   "outputs": [],
   "source": [
    "new_issues_with_comp_filtered['Time_To_Maturity'] = new_issues_with_comp_filtered['Time_To_Maturity'].apply(lambda x: 1 if x < 1 else x)"
   ]
  },
  {
   "cell_type": "code",
   "execution_count": 28,
   "id": "b72436c7",
   "metadata": {},
   "outputs": [],
   "source": [
    "# Calculate the corresponding initial swap rates for comparable bonds\n",
    "def calculate_swap_rate_bond_comp(row):\n",
    "    try:\n",
    "        return interpolated_swap_rates[row['dealDate']](row['Time_To_Maturity'])\n",
    "    except (KeyError, ValueError):\n",
    "        return None\n",
    "\n",
    "new_issues_with_comp_filtered['SwapRateCompBondInit'] = new_issues_with_comp_filtered.apply(calculate_swap_rate_bond_comp, axis=1)"
   ]
  },
  {
   "cell_type": "code",
   "execution_count": 29,
   "id": "af8c0d5f",
   "metadata": {},
   "outputs": [],
   "source": [
    "# Calculate initial MS for comparable bonds\n",
    "new_issues_with_comp_filtered['compBondInitial'] = new_issues_with_comp_filtered['Annual_Yield_to_Maturity'] - new_issues_with_comp_filtered['SwapRateCompBondInit']\n",
    "new_issues_with_comp_filtered['compBondInitial'] = new_issues_with_comp_filtered['compBondInitial'] * 100"
   ]
  },
  {
   "cell_type": "code",
   "execution_count": 30,
   "id": "4c8abffb",
   "metadata": {},
   "outputs": [],
   "source": [
    "new_issues_with_comp_filtered = new_issues_with_comp_filtered.drop(['Annual_Yield_to_Maturity', 'SwapRateCompBondInit'], axis=1)"
   ]
  },
  {
   "cell_type": "markdown",
   "id": "bb758ff9",
   "metadata": {},
   "source": [
    "## 3.8 Add price development of new issues"
   ]
  },
  {
   "cell_type": "code",
   "execution_count": 31,
   "id": "676bc1bc",
   "metadata": {},
   "outputs": [],
   "source": [
    "# Rename column\n",
    "new_issues_prices_refinitive = new_issues_prices_refinitive.rename(columns={'Instrument': 'isin'})"
   ]
  },
  {
   "cell_type": "code",
   "execution_count": 32,
   "id": "9003aaab",
   "metadata": {},
   "outputs": [],
   "source": [
    "# Merge initial MS with YTM development\n",
    "new_issues_price_dev = new_issues_with_comp_filtered.merge(new_issues_prices_refinitive, on='isin', how='inner')\n",
    "\n",
    "# Rename columns\n",
    "new_issues_price_dev = new_issues_price_dev.rename(columns={'reofferValue': 'bondInitial'})\n",
    "new_issues_price_dev = new_issues_price_dev.rename(columns={'Date': 'priceDate'})\n",
    "new_issues_price_dev = new_issues_price_dev.rename(columns={'Ask Yield': 'bondAskYTM'})\n",
    "\n",
    "# Keep isins with at least 1 price\n",
    "new_issues_price_dev = new_issues_price_dev.dropna(subset=['bondAskYTM'])\n",
    "new_issues_price_dev = new_issues_price_dev.drop_duplicates()"
   ]
  },
  {
   "cell_type": "code",
   "execution_count": 33,
   "id": "a0b0136d",
   "metadata": {},
   "outputs": [],
   "source": [
    "# Find first price for each isin\n",
    "\n",
    "# Sort the dataframe by date in ascending order\n",
    "new_issues_price_dev = new_issues_price_dev.sort_values('priceDate')\n",
    "\n",
    "# Group the dataframe by 'isin' and select the first row (earliest date) for each group\n",
    "earliest_dates = new_issues_price_dev.groupby('isin')['priceDate'].first()\n",
    "\n",
    "# Create a new column 'firstPrice' and map the earliest dates based on the 'isin'\n",
    "new_issues_price_dev['firstPrice'] = new_issues_price_dev['isin'].map(earliest_dates)"
   ]
  },
  {
   "cell_type": "code",
   "execution_count": 34,
   "id": "511a942e",
   "metadata": {},
   "outputs": [],
   "source": [
    "# Calculate Time To Maturity\n",
    "new_issues_price_dev['diff'] = (new_issues_price_dev['priceDate'] - new_issues_price_dev['firstPrice']) / pd.Timedelta(days=365.25)\n",
    "new_issues_price_dev['timeToMaturity'] = new_issues_price_dev['maturityTerm'] - new_issues_price_dev['diff']"
   ]
  },
  {
   "cell_type": "code",
   "execution_count": 35,
   "id": "03751f99",
   "metadata": {},
   "outputs": [
    {
     "name": "stdout",
     "output_type": "stream",
     "text": [
      "CPU times: user 29.4 s, sys: 655 ms, total: 30 s\n",
      "Wall time: 30 s\n"
     ]
    }
   ],
   "source": [
    "%%time\n",
    "# Calculate the corresponding swap rates for bonds\n",
    "def calculate_swap_rate_bond(row):\n",
    "    try:\n",
    "        return interpolated_swap_rates[row['priceDate']](row['timeToMaturity'])\n",
    "    except KeyError:\n",
    "        return None\n",
    "\n",
    "new_issues_price_dev['SwapRateBond'] = new_issues_price_dev.apply(calculate_swap_rate_bond, axis=1)"
   ]
  },
  {
   "cell_type": "code",
   "execution_count": 36,
   "id": "ad210963",
   "metadata": {},
   "outputs": [],
   "source": [
    "# Calculate spread to MS for bonds\n",
    "new_issues_price_dev['bondMS'] = new_issues_price_dev['bondAskYTM'] - new_issues_price_dev['SwapRateBond']\n",
    "new_issues_price_dev['bondMS'] = new_issues_price_dev['bondMS'] * 100"
   ]
  },
  {
   "cell_type": "code",
   "execution_count": 37,
   "id": "53aa716d",
   "metadata": {},
   "outputs": [],
   "source": [
    "# Drop unncessary columns\n",
    "new_issues_price_dev = new_issues_price_dev.drop(['firstPrice', 'diff', 'maturityTerm', 'timeToMaturity', 'bondAskYTM', 'SwapRateBond', 'bondAskYTM'], axis=1)"
   ]
  },
  {
   "cell_type": "markdown",
   "id": "3020919c",
   "metadata": {},
   "source": [
    "## 3.9 Add price development of comparable bonds"
   ]
  },
  {
   "cell_type": "code",
   "execution_count": 38,
   "id": "a67b47a3",
   "metadata": {},
   "outputs": [],
   "source": [
    "# Merge the YTM of the comparable bonds\n",
    "# isin - initial bond, ISIN - comparable bond\n",
    "new_issues_price_dev = new_issues_price_dev.merge(comparable_bonds_iboxx[['isin', 'ISIN', 'date', 'Annual_Yield_to_Maturity']], left_on=['isin', 'ISIN','priceDate'], right_on=['isin', 'ISIN','date'], how='inner')\n",
    "new_issues_price_dev = new_issues_price_dev.reset_index(drop=True)"
   ]
  },
  {
   "cell_type": "code",
   "execution_count": 39,
   "id": "b9079455",
   "metadata": {},
   "outputs": [],
   "source": [
    "# Rename columns\n",
    "new_issues_price_dev = new_issues_price_dev.rename(columns={'Annual_Yield_to_Maturity': 'compYield'})\n",
    "new_issues_price_dev = new_issues_price_dev.drop_duplicates()"
   ]
  },
  {
   "cell_type": "code",
   "execution_count": 40,
   "id": "41ce0246",
   "metadata": {},
   "outputs": [
    {
     "name": "stdout",
     "output_type": "stream",
     "text": [
      "CPU times: user 14.5 s, sys: 323 ms, total: 14.8 s\n",
      "Wall time: 14.7 s\n"
     ]
    }
   ],
   "source": [
    "%%time\n",
    "# Calculate the corresponding swap rates for comparable bonds\n",
    "def calculate_swap_rate_bond_comp_dev(row):\n",
    "    try:\n",
    "        return interpolated_swap_rates[row['priceDate']](row['Time_To_Maturity'])\n",
    "    except (KeyError, ValueError):\n",
    "        return None\n",
    "\n",
    "new_issues_price_dev['SwapRateCompBond'] = new_issues_price_dev.apply(calculate_swap_rate_bond_comp_dev, axis=1)"
   ]
  },
  {
   "cell_type": "code",
   "execution_count": 41,
   "id": "7d079095",
   "metadata": {},
   "outputs": [],
   "source": [
    "# Calculate initial MS for comparable bonds\n",
    "new_issues_price_dev['compBondMS'] = new_issues_price_dev['compYield'] - new_issues_price_dev['SwapRateCompBond']\n",
    "new_issues_price_dev['compBondMS'] = new_issues_price_dev['compBondMS'] * 100"
   ]
  },
  {
   "cell_type": "code",
   "execution_count": 42,
   "id": "63dc4894",
   "metadata": {},
   "outputs": [],
   "source": [
    "new_issues_price_dev = new_issues_price_dev.drop(['date', 'compYield', 'SwapRateCompBond'], axis=1)"
   ]
  },
  {
   "cell_type": "code",
   "execution_count": 43,
   "id": "34ad317f",
   "metadata": {},
   "outputs": [],
   "source": [
    "# For each new issue, keep prices from 7th to 10th day after settlement on the secondary market \n",
    "\n",
    "# Sort the DataFrame by 'isin', 'ISIN', and 'priceDate' columns\n",
    "new_issues_price_dev.sort_values(['isin', 'ISIN', 'priceDate'], inplace=True)\n",
    "\n",
    "# Assign ranks within each ('isin', 'ISIN') group\n",
    "new_issues_price_dev['rank'] = new_issues_price_dev.groupby(['isin', 'ISIN'])['priceDate'].rank(method='first', ascending=True)\n",
    "\n",
    "# Filter the DataFrame based on rank values\n",
    "new_issues_price_dev_sliced = new_issues_price_dev[(new_issues_price_dev['rank'] >= 7) & (new_issues_price_dev['rank'] <= 10)]\n",
    "\n",
    "# Drop unnecessary columns\n",
    "new_issues_price_dev_sliced = new_issues_price_dev_sliced.drop('rank', axis=1)\n",
    "new_issues_price_dev_sliced = new_issues_price_dev_sliced.reset_index(drop=True)"
   ]
  },
  {
   "cell_type": "markdown",
   "id": "c4d1de8e",
   "metadata": {},
   "source": [
    "# 4. NIP Calculation"
   ]
  },
  {
   "cell_type": "code",
   "execution_count": 44,
   "id": "baca5009",
   "metadata": {},
   "outputs": [],
   "source": [
    "# For each date, calculate the price delta\n",
    "new_issues_price_dev_sliced['bondPriceDelta'] = new_issues_price_dev_sliced['bondInitial'] - new_issues_price_dev_sliced['bondMS']\n",
    "new_issues_price_dev_sliced['comBondPriceDelta'] = new_issues_price_dev_sliced['compBondInitial'] - new_issues_price_dev_sliced['compBondMS']"
   ]
  },
  {
   "cell_type": "code",
   "execution_count": 45,
   "id": "f1615e90",
   "metadata": {},
   "outputs": [],
   "source": [
    "# Adjust price delta to the movements on the market\n",
    "new_issues_price_dev_sliced['bondPriceDeltaAdj'] = new_issues_price_dev_sliced['bondPriceDelta'] - new_issues_price_dev_sliced['comBondPriceDelta']\n",
    "new_issues_price_dev_sliced['bondPriceDeltaAdj'] = new_issues_price_dev_sliced['bondPriceDeltaAdj'].astype(float)"
   ]
  },
  {
   "cell_type": "code",
   "execution_count": 46,
   "id": "d67fb0aa",
   "metadata": {},
   "outputs": [],
   "source": [
    "# Calculate NIP\n",
    "issues_nip = new_issues_price_dev_sliced.loc[:, ['isin', 'ISIN', 'bondPriceDeltaAdj']].copy()"
   ]
  },
  {
   "cell_type": "code",
   "execution_count": 47,
   "id": "e6fd47fa",
   "metadata": {},
   "outputs": [],
   "source": [
    "# Calculate average NIP for isin-ISIN combination\n",
    "issues_nip_average = issues_nip.groupby(['isin', 'ISIN'])['bondPriceDeltaAdj'].mean().reset_index()"
   ]
  },
  {
   "cell_type": "code",
   "execution_count": 48,
   "id": "9175d55c",
   "metadata": {},
   "outputs": [],
   "source": [
    "# Calculate average NIP\n",
    "issues_nip_average = issues_nip_average.groupby('isin')['bondPriceDeltaAdj'].mean().reset_index()"
   ]
  },
  {
   "cell_type": "code",
   "execution_count": 49,
   "id": "c85ef049",
   "metadata": {},
   "outputs": [],
   "source": [
    "issues_nip_average = issues_nip.groupby('isin', as_index=False).mean()\n",
    "issues_nip_average = issues_nip_average.rename(columns={'bondPriceDeltaAdj': 'NIP'})"
   ]
  },
  {
   "cell_type": "markdown",
   "id": "6d939734",
   "metadata": {},
   "source": [
    "## 5. NIP Breakdown"
   ]
  },
  {
   "cell_type": "code",
   "execution_count": 50,
   "id": "bee7af85",
   "metadata": {},
   "outputs": [],
   "source": [
    "# Merge NIP \n",
    "issues_nip_characteristics = issues_nip_average.merge(new_issues_sliced[['securities_isin', 'dealDate', 'issuerType', 'esgType']], left_on='isin', right_on='securities_isin', how='inner')\n",
    "issues_nip_characteristics = issues_nip_characteristics.drop('securities_isin', axis=1)\n",
    "issues_nip_characteristics.set_index('dealDate', inplace=True)"
   ]
  },
  {
   "cell_type": "code",
   "execution_count": 51,
   "id": "a5c30c61",
   "metadata": {},
   "outputs": [
    {
     "data": {
      "image/png": "[encoded data removed]",
      "text/plain": [
       "<Figure size 864x576 with 2 Axes>"
      ]
     },
     "metadata": {
      "needs_background": "light"
     },
     "output_type": "display_data"
    }
   ],
   "source": [
    "fig, (ax1, ax2) = plt.subplots(2, 1, figsize=(12, 8))\n",
    "\n",
    "plt.rcParams['patch.linewidth'] = 0\n",
    "\n",
    "# ----- First Plot (Histogram with KDE) -----\n",
    "sns.histplot(data=issues_nip_average, x=\"NIP\", kde=True, color='lightgreen', alpha=0.5, stat='percent', ax=ax1, shrink = 0.8)\n",
    "ax1.yaxis.set_major_formatter(mtick.PercentFormatter())\n",
    "ax1.lines[0].set_color('black')\n",
    "ax1.set_xlabel('')\n",
    "ax1.set_ylabel('')\n",
    "ax1.set_xlim(-75, 100)\n",
    "ax1.set_xlabel('Basis Points')\n",
    "# ax1.set_title('Distribution of NIP')\n",
    "\n",
    "ax1.legend(['KDE'], loc='upper right', framealpha=0)\n",
    "\n",
    "# ----- Second Plot (Monthly Average and 3-Month Moving Average NIP) -----\n",
    "monthly_avg = issues_nip_characteristics['NIP'].resample('M').mean()\n",
    "moving_avg = monthly_avg.rolling(window=3).mean()\n",
    "\n",
    "ax2.bar(monthly_avg.index, monthly_avg, label='Monthly Average', color='lightblue', width=15)\n",
    "\n",
    "ax2.plot(moving_avg.index, moving_avg, label='3-Month Moving Average', color='black')\n",
    "\n",
    "ax2.set_xlabel('Year')\n",
    "ax2.set_ylabel('Basis Points')\n",
    "\n",
    "\n",
    "ax2.legend(loc='upper right', framealpha=0)\n",
    "\n",
    "plt.tight_layout()\n",
    "\n",
    "# plt.savefig('nip_distribution.png', facecolor='w', dpi=300, bbox_inches='tight')\n",
    "plt.show()\n"
   ]
  },
  {
   "cell_type": "code",
   "execution_count": 52,
   "id": "823a593d",
   "metadata": {},
   "outputs": [
    {
     "name": "stdout",
     "output_type": "stream",
     "text": [
      "count    1829.000000\n",
      "mean        8.365742\n",
      "std        11.129534\n",
      "min       -50.564867\n",
      "25%         2.044492\n",
      "50%         5.757902\n",
      "75%        12.155745\n",
      "max        85.004280\n",
      "Name: NIP, dtype: float64\n",
      "10.82558775287042\n",
      "-4.6586039649726665\n",
      "89.17441224712958\n",
      "9.94687099377716\n"
     ]
    }
   ],
   "source": [
    "nip_descriptive_stats = issues_nip_average['NIP'].describe()\n",
    "\n",
    "# Calculate the percentage of negative values\n",
    "negative_percentage = (issues_nip_average['NIP'] < 0).mean() * 100\n",
    "\n",
    "# Calculate the average of negative values\n",
    "average_negative = issues_nip_average.loc[issues_nip_average['NIP'] < 0, 'NIP'].mean()\n",
    "\n",
    "# Calculate the percentage of positive values\n",
    "positive_percentage = (issues_nip_average['NIP'] >= 0).mean() * 100\n",
    "\n",
    "# Calculate the average of positive values\n",
    "average_positive = issues_nip_average.loc[issues_nip_average['NIP'] >= 0, 'NIP'].mean()\n",
    "\n",
    "print(nip_descriptive_stats)\n",
    "print(negative_percentage)\n",
    "print(average_negative)\n",
    "print(positive_percentage)\n",
    "print(average_positive)"
   ]
  },
  {
   "cell_type": "code",
   "execution_count": 53,
   "id": "e9a64428",
   "metadata": {},
   "outputs": [],
   "source": [
    "# issues_nip_average.to_csv('nip_peers_settlement.csv')"
   ]
  }
 ],
 "metadata": {
  "kernelspec": {
   "display_name": "nip_env",
   "language": "python",
   "name": "nip_env"
  },
  "language_info": {
   "codemirror_mode": {
    "name": "ipython",
    "version": 3
   },
   "file_extension": ".py",
   "mimetype": "text/x-python",
   "name": "python",
   "nbconvert_exporter": "python",
   "pygments_lexer": "ipython3",
   "version": "3.10.4"
  }
 },
 "nbformat": 4,
 "nbformat_minor": 5
}
