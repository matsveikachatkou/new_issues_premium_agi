{
 "cells": [
  {
   "cell_type": "code",
   "execution_count": 1,
   "id": "8f2cd9b1",
   "metadata": {},
   "outputs": [],
   "source": [
    "import pandas as pd\n",
    "import numpy as np\n",
    "from scipy.interpolate import interp1d\n",
    "import os\n",
    "import re\n",
    "import seaborn as sns\n",
    "import matplotlib.pyplot as plt"
   ]
  },
  {
   "cell_type": "markdown",
   "id": "5cf642a0",
   "metadata": {},
   "source": [
    "# 1. Change directory to raw data folder"
   ]
  },
  {
   "cell_type": "code",
   "execution_count": 2,
   "id": "9a9708a7",
   "metadata": {},
   "outputs": [],
   "source": [
    "# Get the current working directory\n",
    "current_directory = os.getcwd()\n",
    "\n",
    "# Get the parent directory by going one level up\n",
    "parent_directory = os.path.dirname(current_directory)\n",
    "\n",
    "# Get the path of raw data folder\n",
    "data_raw_folder = os.path.join(parent_directory, 'data/raw')\n",
    "\n",
    "# Change the current working directory to raw data folder\n",
    "os.chdir(data_raw_folder)"
   ]
  },
  {
   "cell_type": "markdown",
   "id": "101b7673",
   "metadata": {},
   "source": [
    "# 2. Import datasets"
   ]
  },
  {
   "cell_type": "code",
   "execution_count": 3,
   "id": "1d5eff4f",
   "metadata": {},
   "outputs": [],
   "source": [
    "# New issues data\n",
    "new_issues = pd.read_csv('new_issues.csv', index_col=0)\n",
    "new_issues_characteristics =  pd.read_csv('new_issues_characteristics.csv', index_col=0)\n",
    "new_issues_prices_bb =  pd.read_csv('new_issues_prices_ms_bb.csv', index_col=0)\n",
    "new_issues_prices_refinitive =  pd.read_csv('new_issues_prices_ms_refinitive.csv', index_col=0)\n",
    "swap_rates = pd.read_csv('swap_rates.csv', index_col=0)"
   ]
  },
  {
   "cell_type": "code",
   "execution_count": 4,
   "id": "dc08c792",
   "metadata": {},
   "outputs": [],
   "source": [
    "# Comparable bonds data\n",
    "#comparable_bonds_iboxx =  pd.read_csv('comparable_bonds_iboxx.csv', index_col=0)"
   ]
  },
  {
   "cell_type": "code",
   "execution_count": 5,
   "id": "f847fff2",
   "metadata": {},
   "outputs": [],
   "source": [
    "# Index data\n",
    "iboxx_indices = pd.read_csv('iboxx_indices.csv', sep=';')\n",
    "move_index = pd.read_csv('move_index.csv')\n",
    "smove_index = pd.read_csv('smove_index.csv')\n",
    "markit_index = pd.read_csv('markit_index.csv')"
   ]
  },
  {
   "cell_type": "markdown",
   "id": "820a7b0d",
   "metadata": {},
   "source": [
    "# 3. Modify raw datasets and create subsets"
   ]
  },
  {
   "cell_type": "markdown",
   "id": "030c4123",
   "metadata": {},
   "source": [
    "## 3.1 New issues"
   ]
  },
  {
   "cell_type": "code",
   "execution_count": 6,
   "id": "947330e0",
   "metadata": {},
   "outputs": [],
   "source": [
    "# Create new issues dataframe with selected columns\n",
    "new_issues_sliced = new_issues.loc[:,['securities_isin', 'dealDate',\n",
    "                                      'issuerType', 'paymentType', 'countryName', 'COUNTRY_ISO_CODE', \n",
    "                                      'moodys', 'sp', 'fitch', 'expectedSize', 'actualSize', 'minimumDenomination', \n",
    "                                      'securityType', 'maturityTerm', 'coupon', 'seniority_name_1', \n",
    "                                      'seniority_name_1_adj', 'esgType', 'referenceType', 'ipt_reference',\n",
    "                                      'ipt_price_down', 'ipt_price_up', 'guidance_reference', 'guidance_price_down',\n",
    "                                      'guidance_price_up', 'launchValue', 'reofferValue', 'yieldToMaturity',\n",
    "                                     'Industry_Group', 'Industry_Sector']]\n",
    "\n",
    "# Change time type\n",
    "new_issues_sliced['dealDate'] = pd.to_datetime(new_issues_sliced['dealDate'])\n",
    "new_issues_sliced['dealDate'] = new_issues_sliced['dealDate'].dt.floor('d')"
   ]
  },
  {
   "cell_type": "code",
   "execution_count": 7,
   "id": "b1bc8080",
   "metadata": {},
   "outputs": [],
   "source": [
    "# Deal with duplicated isins\n",
    "\n",
    "# Sort the DataFrame by 'dealDate' in ascending order\n",
    "new_issues_sliced = new_issues_sliced.sort_values('dealDate')\n",
    "\n",
    "# Keep the first occurrence of each ISIN\n",
    "new_issues_sliced = new_issues_sliced.drop_duplicates('securities_isin', keep='first')"
   ]
  },
  {
   "cell_type": "code",
   "execution_count": 8,
   "id": "d6053ec5",
   "metadata": {},
   "outputs": [],
   "source": [
    "# Filter out issues before 1 of March 2023 (due to lack of index data after March 23)\n",
    "# new_issues_sliced = new_issues_sliced[new_issues_sliced['dealDate'] < '2023-03-01']"
   ]
  },
  {
   "cell_type": "markdown",
   "id": "ec452e50",
   "metadata": {},
   "source": [
    "## 3.2 New issues characteristics; new issues prices"
   ]
  },
  {
   "cell_type": "code",
   "execution_count": 9,
   "id": "97ab5863",
   "metadata": {},
   "outputs": [],
   "source": [
    "# Modify ISIN column\n",
    "new_issues_prices_bb['security'] = new_issues_prices_bb['security'].str[6:]"
   ]
  },
  {
   "cell_type": "code",
   "execution_count": 10,
   "id": "abea163a",
   "metadata": {},
   "outputs": [],
   "source": [
    "# Change time type in Bloomberg prices dataset\n",
    "new_issues_prices_bb['date'] = pd.to_datetime(new_issues_prices_bb['date'])\n",
    "new_issues_prices_bb['date'] = new_issues_prices_bb['date'].dt.floor('d')\n",
    "\n",
    "# Change time type in refinitive prices dataset\n",
    "new_issues_prices_refinitive['Date'] = pd.to_datetime(new_issues_prices_refinitive['Date'])\n",
    "new_issues_prices_refinitive['Date'] = new_issues_prices_refinitive['Date'].dt.date\n",
    "new_issues_prices_refinitive['Date'] = new_issues_prices_refinitive['Date'].astype('datetime64')\n",
    "new_issues_prices_refinitive['Date'] = new_issues_prices_refinitive['Date'].dt.floor('d')"
   ]
  },
  {
   "cell_type": "markdown",
   "id": "5b77ef6c",
   "metadata": {},
   "source": [
    "## 3.3 Iboxx indices"
   ]
  },
  {
   "cell_type": "code",
   "execution_count": 11,
   "id": "ef34175a",
   "metadata": {},
   "outputs": [],
   "source": [
    "# Change time type in iboxx index dataset\n",
    "iboxx_indices['Download_Date'] = pd.to_datetime(iboxx_indices['Download_Date'])"
   ]
  },
  {
   "cell_type": "code",
   "execution_count": 12,
   "id": "1d3282f4",
   "metadata": {
    "scrolled": false
   },
   "outputs": [],
   "source": [
    "# Create issue dataframe with selected columns\n",
    "iboxx_indices_sliced = iboxx_indices.loc[:,['Download_Date', 'Name', 'Annual_Yield_to_Maturity', 'Expected_Remaining_Life']]"
   ]
  },
  {
   "cell_type": "code",
   "execution_count": 13,
   "id": "54d80752",
   "metadata": {},
   "outputs": [],
   "source": [
    "# Keep only iBoxx € Corporates Senior and iBoxx € Financials Senior\n",
    "iboxx_indices_sliced = iboxx_indices_sliced[iboxx_indices_sliced['Name'].isin(['iBoxx € Corporates Senior', 'iBoxx € Financials Senior'])]"
   ]
  },
  {
   "cell_type": "markdown",
   "id": "461f8961",
   "metadata": {},
   "source": [
    "## 3.4 Swap rates"
   ]
  },
  {
   "cell_type": "code",
   "execution_count": 14,
   "id": "96fb3ea4",
   "metadata": {},
   "outputs": [],
   "source": [
    "# Extract the column names and their corresponding years\n",
    "columns = swap_rates.columns\n",
    "years = []\n",
    "\n",
    "# Determine if the column represents months or years and extract the corresponding number\n",
    "for col in columns:\n",
    "    match = re.search(r'(\\d+)([YM])=', col)\n",
    "    if match:\n",
    "        num = int(match.group(1))\n",
    "        unit = match.group(2)\n",
    "        if unit == 'Y':\n",
    "            years.append(num)\n",
    "        elif unit == 'M':\n",
    "            years.append(num / 12)\n",
    "            \n",
    "# Create a dictionary to map the old column names to the new column names\n",
    "new_columns = {col: yr for col, yr in zip(columns, years)}\n",
    "\n",
    "# Rename the columns in the DataFrame\n",
    "swap_rates.rename(columns=new_columns, inplace=True)\n",
    "\n",
    "# Sort the columns in ascending order\n",
    "swap_rates = swap_rates.reindex(sorted(swap_rates.columns), axis=1)\n",
    "\n",
    "# Change time type in refinitive prices dataset\n",
    "swap_rates = swap_rates.reset_index()\n",
    "swap_rates['Date'] = pd.to_datetime(swap_rates['Date'])\n",
    "swap_rates['Date'] = swap_rates['Date'].dt.date\n",
    "swap_rates['Date'] = swap_rates['Date'].astype('datetime64')\n",
    "swap_rates['Date'] = swap_rates['Date'].dt.floor('d')\n",
    "swap_rates = swap_rates.set_index('Date')"
   ]
  },
  {
   "cell_type": "markdown",
   "id": "d36d6efd",
   "metadata": {},
   "source": [
    "## 3.4 Create dataframe of initial YTMs of new issues"
   ]
  },
  {
   "cell_type": "code",
   "execution_count": 15,
   "id": "6c9065a8",
   "metadata": {},
   "outputs": [],
   "source": [
    "# MS spread from IPREO data\n",
    "new_issues_yield_ipreo = new_issues_sliced.loc[:, ['dealDate', 'securities_isin', 'issuerType', 'reofferValue']]\n",
    "new_issues_yield_ipreo = new_issues_yield_ipreo.rename(columns={'securities_isin': 'isin'})\n",
    "new_issues_yield_ipreo = new_issues_yield_ipreo.drop_duplicates()"
   ]
  },
  {
   "cell_type": "code",
   "execution_count": 16,
   "id": "f0f87e0b",
   "metadata": {},
   "outputs": [],
   "source": [
    "# Keep new issues with known initial MS\n",
    "new_issues_initial_prices = new_issues_yield_ipreo.loc[~new_issues_yield_ipreo['reofferValue'].isna(), :]"
   ]
  },
  {
   "cell_type": "code",
   "execution_count": 17,
   "id": "e76b5230",
   "metadata": {},
   "outputs": [],
   "source": [
    "new_issues_initial_prices = new_issues_initial_prices.reset_index(drop=True)"
   ]
  },
  {
   "cell_type": "markdown",
   "id": "2cfc536a",
   "metadata": {},
   "source": [
    "## 3.5 Add new issues prices and index development"
   ]
  },
  {
   "cell_type": "code",
   "execution_count": 18,
   "id": "740c426c",
   "metadata": {},
   "outputs": [],
   "source": [
    "# Extract the maturities from column names\n",
    "maturities = [col for col in swap_rates.columns]\n",
    "\n",
    "# Interpolate the swap rate curve for each timestamp\n",
    "interpolated_swap_rates = {}\n",
    "for timestamp, row in swap_rates.iterrows():\n",
    "    swap_rate_interpolator = interp1d(maturities, row, kind='cubic')\n",
    "    interpolated_swap_rates[timestamp] = swap_rate_interpolator"
   ]
  },
  {
   "cell_type": "code",
   "execution_count": 19,
   "id": "ae13e098",
   "metadata": {},
   "outputs": [],
   "source": [
    "# Rename column\n",
    "new_issues_prices_refinitive = new_issues_prices_refinitive.rename(columns={'Instrument': 'isin', 'Swap Spread Bid':'Swap Spread'})\n",
    "new_issues_prices_bb = new_issues_prices_bb.rename(columns={'security': 'isin', 'date': 'Date', 'BLP_I_SPRD_MID': 'Swap Spread'})"
   ]
  },
  {
   "cell_type": "code",
   "execution_count": 20,
   "id": "07557501",
   "metadata": {},
   "outputs": [],
   "source": [
    "# Merge initial MS with MS development\n",
    "new_issues_price_dev = new_issues_initial_prices.merge(new_issues_prices_refinitive, on='isin', how='inner')\n",
    "# new_issues_price_dev = new_issues_initial_prices.merge(new_issues_prices_bb, on='isin', how='left')\n",
    "\n",
    "# Rename columns\n",
    "new_issues_price_dev = new_issues_price_dev.rename(columns={'reofferValue': 'bondInitial'})\n",
    "new_issues_price_dev = new_issues_price_dev.rename(columns={'Date': 'priceDate'})\n",
    "new_issues_price_dev = new_issues_price_dev.rename(columns={'Swap Spread': 'bondMS'})\n",
    "\n",
    "# Keep isins with at least 1 price\n",
    "new_issues_price_dev = new_issues_price_dev.dropna(subset=['bondMS'])\n",
    "new_issues_price_dev = new_issues_price_dev.drop_duplicates()"
   ]
  },
  {
   "cell_type": "code",
   "execution_count": 21,
   "id": "eab9a004",
   "metadata": {},
   "outputs": [],
   "source": [
    "# Exclude lines where dealdate == priceDate (might be a pricing mistake in Refinitive)\n",
    "new_issues_price_dev = new_issues_price_dev[new_issues_price_dev['dealDate'] != new_issues_price_dev['priceDate']]"
   ]
  },
  {
   "cell_type": "code",
   "execution_count": 22,
   "id": "ebb30ffd",
   "metadata": {},
   "outputs": [],
   "source": [
    "# Rename column in indices\n",
    "iboxx_indices_sliced = iboxx_indices_sliced.rename(columns={'Download_Date': 'Date'})"
   ]
  },
  {
   "cell_type": "code",
   "execution_count": 23,
   "id": "4fff9d21",
   "metadata": {},
   "outputs": [],
   "source": [
    "# Merge IBOXX indices value at the dealDate (initial index)\n",
    "new_issues_price_dev_ind = new_issues_price_dev.merge(iboxx_indices_sliced, left_on='dealDate', right_on = 'Date', how='inner')\n",
    "new_issues_price_dev_ind = new_issues_price_dev_ind.drop('Date', axis=1)"
   ]
  },
  {
   "cell_type": "code",
   "execution_count": 24,
   "id": "57ca7889",
   "metadata": {},
   "outputs": [],
   "source": [
    "# Calculate the corresponding swap rates for index\n",
    "def calculate_swap_rate_initial(row):\n",
    "    try:\n",
    "        return interpolated_swap_rates[row['dealDate']](row['Expected_Remaining_Life'])\n",
    "    except KeyError:\n",
    "        return None\n",
    "    \n",
    "def calculate_swap_rate(row):\n",
    "    try:\n",
    "        return interpolated_swap_rates[row['priceDate']](row['Expected_Remaining_Life'])\n",
    "    except KeyError:\n",
    "        return None\n",
    "\n",
    "new_issues_price_dev_ind['Swap Rate'] = new_issues_price_dev_ind.apply(calculate_swap_rate_initial, axis=1)"
   ]
  },
  {
   "cell_type": "code",
   "execution_count": 25,
   "id": "cf4b8bb7",
   "metadata": {},
   "outputs": [],
   "source": [
    "# Calculate spread to MS for index\n",
    "new_issues_price_dev_ind['indexInitial'] = new_issues_price_dev_ind['Annual_Yield_to_Maturity'] - new_issues_price_dev_ind['Swap Rate']\n",
    "new_issues_price_dev_ind['indexInitial'] = new_issues_price_dev_ind['indexInitial'] * 100"
   ]
  },
  {
   "cell_type": "code",
   "execution_count": 26,
   "id": "ebe4e16b",
   "metadata": {},
   "outputs": [],
   "source": [
    "# Drop unncessary columns\n",
    "new_issues_price_dev_ind = new_issues_price_dev_ind.drop(['Annual_Yield_to_Maturity', 'Expected_Remaining_Life', 'Swap Rate'], axis=1)"
   ]
  },
  {
   "cell_type": "code",
   "execution_count": 27,
   "id": "471ec3d8",
   "metadata": {},
   "outputs": [],
   "source": [
    "# Filter initial index based on the bond type (financial or corporate)\n",
    "new_issues_price_dev_ind = new_issues_price_dev_ind[(new_issues_price_dev_ind['issuerType'] == 'Corporate') & (new_issues_price_dev_ind['Name'] == 'iBoxx € Corporates Senior') |\n",
    "                 (new_issues_price_dev_ind['issuerType'] == 'Financials') & (new_issues_price_dev_ind['Name'] == 'iBoxx € Financials Senior')]\n",
    "new_issues_price_dev_ind = new_issues_price_dev_ind.reset_index(drop=True)\n",
    "\n",
    "# Rename column\n",
    "new_issues_price_dev_ind = new_issues_price_dev_ind.rename(columns={'Name': 'indexName'})"
   ]
  },
  {
   "cell_type": "code",
   "execution_count": 28,
   "id": "6a4142c7",
   "metadata": {},
   "outputs": [],
   "source": [
    "# Merge development of IBOXX indices with the bond prices\n",
    "new_issues_price_dev_ind = new_issues_price_dev_ind.merge(iboxx_indices_sliced, left_on='priceDate', right_on = 'Date', how='inner')"
   ]
  },
  {
   "cell_type": "code",
   "execution_count": 29,
   "id": "042c49eb",
   "metadata": {},
   "outputs": [],
   "source": [
    "# Calculate Swap Rates for Index prices\n",
    "new_issues_price_dev_ind['Swap Rate'] = new_issues_price_dev_ind.apply(calculate_swap_rate, axis=1)"
   ]
  },
  {
   "cell_type": "code",
   "execution_count": 30,
   "id": "875c2bca",
   "metadata": {},
   "outputs": [],
   "source": [
    "# Calculate spread to MS for Index prices\n",
    "new_issues_price_dev_ind['indexMS'] = new_issues_price_dev_ind['Annual_Yield_to_Maturity'] - new_issues_price_dev_ind['Swap Rate']\n",
    "new_issues_price_dev_ind['indexMS'] = new_issues_price_dev_ind['indexMS'] * 100"
   ]
  },
  {
   "cell_type": "code",
   "execution_count": 31,
   "id": "05e3680e",
   "metadata": {},
   "outputs": [],
   "source": [
    "# Drop unncessary columns\n",
    "new_issues_price_dev_ind = new_issues_price_dev_ind.drop(['Annual_Yield_to_Maturity', 'Expected_Remaining_Life', 'Swap Rate'], axis=1)"
   ]
  },
  {
   "cell_type": "code",
   "execution_count": 32,
   "id": "a23156aa",
   "metadata": {},
   "outputs": [],
   "source": [
    "# Filter index development based on the bond type (financial or corporate)\n",
    "new_issues_price_dev_ind = new_issues_price_dev_ind[(new_issues_price_dev_ind['issuerType'] == 'Corporate') & (new_issues_price_dev_ind['Name'] == 'iBoxx € Corporates Senior') |\n",
    "                 (new_issues_price_dev_ind['issuerType'] == 'Financials') & (new_issues_price_dev_ind['Name'] == 'iBoxx € Financials Senior')]\n",
    "new_issues_price_dev_ind = new_issues_price_dev_ind.reset_index(drop=True)\n",
    "\n",
    "# Drop unncessary columns\n",
    "new_issues_price_dev_ind = new_issues_price_dev_ind.drop(['dealDate', 'Date', 'issuerType', 'Name', 'indexName'], axis=1)"
   ]
  },
  {
   "cell_type": "code",
   "execution_count": 33,
   "id": "611e618c",
   "metadata": {},
   "outputs": [],
   "source": [
    "# For each new issue, keep 3rd and 4th week of prices (11th to 20th working date) after settlement on secondary market \n",
    "\n",
    "# Sort the DataFrame by 'isin' and 'date' columns\n",
    "new_issues_price_dev_ind.sort_values(['isin', 'priceDate'], inplace=True)\n",
    "\n",
    "# Assign ranks within each 'isin' group\n",
    "new_issues_price_dev_ind['rank'] = new_issues_price_dev_ind.groupby('isin')['priceDate'].rank(method='first', ascending=True)\n",
    "\n",
    "# Filter the DataFrame based on rank values\n",
    "new_issues_price_dev_ind_sliced = new_issues_price_dev_ind[(new_issues_price_dev_ind['rank'] >= 11) & (new_issues_price_dev_ind['rank'] <= 20)]\n",
    "\n",
    "# Drop unncessary columns\n",
    "new_issues_price_dev_ind_sliced = new_issues_price_dev_ind_sliced.drop('rank', axis=1)\n",
    "new_issues_price_dev_ind_sliced = new_issues_price_dev_ind_sliced.reset_index(drop=True)"
   ]
  },
  {
   "cell_type": "code",
   "execution_count": 34,
   "id": "5f9b0d18",
   "metadata": {},
   "outputs": [
    {
     "data": {
      "text/html": [
       "<div>\n",
       "<style scoped>\n",
       "    .dataframe tbody tr th:only-of-type {\n",
       "        vertical-align: middle;\n",
       "    }\n",
       "\n",
       "    .dataframe tbody tr th {\n",
       "        vertical-align: top;\n",
       "    }\n",
       "\n",
       "    .dataframe thead th {\n",
       "        text-align: right;\n",
       "    }\n",
       "</style>\n",
       "<table border=\"1\" class=\"dataframe\">\n",
       "  <thead>\n",
       "    <tr style=\"text-align: right;\">\n",
       "      <th></th>\n",
       "      <th>isin</th>\n",
       "      <th>bondInitial</th>\n",
       "      <th>priceDate</th>\n",
       "      <th>bondMS</th>\n",
       "      <th>indexInitial</th>\n",
       "      <th>indexMS</th>\n",
       "    </tr>\n",
       "  </thead>\n",
       "  <tbody>\n",
       "    <tr>\n",
       "      <th>15308</th>\n",
       "      <td>XS2034629134</td>\n",
       "      <td>110.0</td>\n",
       "      <td>2019-08-07</td>\n",
       "      <td>99.93</td>\n",
       "      <td>75.026026</td>\n",
       "      <td>75.13412</td>\n",
       "    </tr>\n",
       "    <tr>\n",
       "      <th>15309</th>\n",
       "      <td>XS2034629134</td>\n",
       "      <td>110.0</td>\n",
       "      <td>2019-08-08</td>\n",
       "      <td>99.60</td>\n",
       "      <td>75.026026</td>\n",
       "      <td>79.722731</td>\n",
       "    </tr>\n",
       "    <tr>\n",
       "      <th>15310</th>\n",
       "      <td>XS2034629134</td>\n",
       "      <td>110.0</td>\n",
       "      <td>2019-08-09</td>\n",
       "      <td>99.21</td>\n",
       "      <td>75.026026</td>\n",
       "      <td>76.08395</td>\n",
       "    </tr>\n",
       "    <tr>\n",
       "      <th>15311</th>\n",
       "      <td>XS2034629134</td>\n",
       "      <td>110.0</td>\n",
       "      <td>2019-08-12</td>\n",
       "      <td>97.49</td>\n",
       "      <td>75.026026</td>\n",
       "      <td>75.957041</td>\n",
       "    </tr>\n",
       "    <tr>\n",
       "      <th>15312</th>\n",
       "      <td>XS2034629134</td>\n",
       "      <td>110.0</td>\n",
       "      <td>2019-08-13</td>\n",
       "      <td>98.61</td>\n",
       "      <td>75.026026</td>\n",
       "      <td>76.442367</td>\n",
       "    </tr>\n",
       "    <tr>\n",
       "      <th>15313</th>\n",
       "      <td>XS2034629134</td>\n",
       "      <td>110.0</td>\n",
       "      <td>2019-08-14</td>\n",
       "      <td>99.26</td>\n",
       "      <td>75.026026</td>\n",
       "      <td>77.970602</td>\n",
       "    </tr>\n",
       "    <tr>\n",
       "      <th>15314</th>\n",
       "      <td>XS2034629134</td>\n",
       "      <td>110.0</td>\n",
       "      <td>2019-08-15</td>\n",
       "      <td>105.14</td>\n",
       "      <td>75.026026</td>\n",
       "      <td>85.815539</td>\n",
       "    </tr>\n",
       "    <tr>\n",
       "      <th>15315</th>\n",
       "      <td>XS2034629134</td>\n",
       "      <td>110.0</td>\n",
       "      <td>2019-08-16</td>\n",
       "      <td>106.72</td>\n",
       "      <td>75.026026</td>\n",
       "      <td>85.950545</td>\n",
       "    </tr>\n",
       "    <tr>\n",
       "      <th>15316</th>\n",
       "      <td>XS2034629134</td>\n",
       "      <td>110.0</td>\n",
       "      <td>2019-08-19</td>\n",
       "      <td>103.82</td>\n",
       "      <td>75.026026</td>\n",
       "      <td>80.914595</td>\n",
       "    </tr>\n",
       "    <tr>\n",
       "      <th>15317</th>\n",
       "      <td>XS2034629134</td>\n",
       "      <td>110.0</td>\n",
       "      <td>2019-08-20</td>\n",
       "      <td>100.74</td>\n",
       "      <td>75.026026</td>\n",
       "      <td>78.9691</td>\n",
       "    </tr>\n",
       "  </tbody>\n",
       "</table>\n",
       "</div>"
      ],
      "text/plain": [
       "               isin  bondInitial  priceDate  bondMS indexInitial    indexMS\n",
       "15308  XS2034629134        110.0 2019-08-07   99.93    75.026026   75.13412\n",
       "15309  XS2034629134        110.0 2019-08-08   99.60    75.026026  79.722731\n",
       "15310  XS2034629134        110.0 2019-08-09   99.21    75.026026   76.08395\n",
       "15311  XS2034629134        110.0 2019-08-12   97.49    75.026026  75.957041\n",
       "15312  XS2034629134        110.0 2019-08-13   98.61    75.026026  76.442367\n",
       "15313  XS2034629134        110.0 2019-08-14   99.26    75.026026  77.970602\n",
       "15314  XS2034629134        110.0 2019-08-15  105.14    75.026026  85.815539\n",
       "15315  XS2034629134        110.0 2019-08-16  106.72    75.026026  85.950545\n",
       "15316  XS2034629134        110.0 2019-08-19  103.82    75.026026  80.914595\n",
       "15317  XS2034629134        110.0 2019-08-20  100.74    75.026026    78.9691"
      ]
     },
     "execution_count": 34,
     "metadata": {},
     "output_type": "execute_result"
    }
   ],
   "source": [
    "new_issues_price_dev_ind_sliced[new_issues_price_dev_ind_sliced['isin'] == 'XS2034629134']"
   ]
  },
  {
   "cell_type": "markdown",
   "id": "c4d1de8e",
   "metadata": {},
   "source": [
    "# 4. NIP Analysis"
   ]
  },
  {
   "cell_type": "code",
   "execution_count": 35,
   "id": "d67fb0aa",
   "metadata": {},
   "outputs": [],
   "source": [
    "# For each date, calculate the price delta\n",
    "new_issues_price_dev_ind_sliced['bondPriceDelta'] = new_issues_price_dev_ind_sliced['bondInitial'] - new_issues_price_dev_ind_sliced['bondMS']\n",
    "new_issues_price_dev_ind_sliced['indexPriceDelta'] = new_issues_price_dev_ind_sliced['indexInitial'] - new_issues_price_dev_ind_sliced['indexMS']"
   ]
  },
  {
   "cell_type": "code",
   "execution_count": 36,
   "id": "5133f7e9",
   "metadata": {},
   "outputs": [],
   "source": [
    "# Adjust price delta to the movements on the market\n",
    "new_issues_price_dev_ind_sliced['bondPriceDeltaAdj'] = new_issues_price_dev_ind_sliced['bondPriceDelta'] - new_issues_price_dev_ind_sliced['indexPriceDelta']"
   ]
  },
  {
   "cell_type": "code",
   "execution_count": 37,
   "id": "5c29a824",
   "metadata": {},
   "outputs": [],
   "source": [
    "issues_nip = new_issues_price_dev_ind_sliced.loc[:, ['isin', 'bondPriceDeltaAdj']].copy()"
   ]
  },
  {
   "cell_type": "code",
   "execution_count": 38,
   "id": "c85ef049",
   "metadata": {},
   "outputs": [],
   "source": [
    "issues_nip_average = issues_nip.groupby('isin', as_index=False).mean()\n",
    "issues_nip_average = issues_nip_average.rename(columns={'bondPriceDeltaAdj': 'NIP'})"
   ]
  },
  {
   "cell_type": "code",
   "execution_count": 39,
   "id": "3e0070e0",
   "metadata": {},
   "outputs": [
    {
     "data": {
      "image/png": "[encoded data removed]",
      "text/plain": [
       "<Figure size 800x600 with 1 Axes>"
      ]
     },
     "metadata": {
      "needs_background": "light"
     },
     "output_type": "display_data"
    }
   ],
   "source": [
    "# Plot the distribution of 'NIP'\n",
    "# Set the style\n",
    "# sns.set_style(\"darkgrid\")\n",
    "\n",
    "plt.figure(figsize=(8, 6), dpi=100)\n",
    "\n",
    "#ax = sns.histplot(data=issues_nip_average, x=\"NIP\", kde=False, stat='density', bins=100)\n",
    "#sns.kdeplot(data=issues_nip_average, x=\"NIP\", color='crimson', ax=ax)\n",
    "sns.histplot(data=issues_nip_average, x=\"NIP\", kde=True, color='green', bins=150, alpha=0.5)\n",
    "\n",
    "plt.xlabel('NIP', fontdict={'fontsize': 10})\n",
    "plt.ylabel('Frequency', fontdict={'fontsize': 10})\n",
    "plt.title('Distribution of NIP with KDE', fontdict={'fontsize': 12})\n",
    "\n",
    "plt.xlim(-100, 150)\n",
    "\n",
    "plt.show()"
   ]
  },
  {
   "cell_type": "code",
   "execution_count": 40,
   "id": "c6aec4b8",
   "metadata": {
    "scrolled": true
   },
   "outputs": [
    {
     "name": "stdout",
     "output_type": "stream",
     "text": [
      "count    2866.000000\n",
      "mean        3.243002\n",
      "std        16.099837\n",
      "min       -88.181310\n",
      "25%        -4.517903\n",
      "50%         1.700410\n",
      "75%         9.431892\n",
      "max       137.830145\n",
      "Name: NIP, dtype: float64\n"
     ]
    }
   ],
   "source": [
    "descriptive_stats = issues_nip_average['NIP'].describe()\n",
    "print(descriptive_stats)"
   ]
  },
  {
   "cell_type": "markdown",
   "id": "d8bf1f09",
   "metadata": {},
   "source": [
    "## 5. NIP Breakdown"
   ]
  },
  {
   "cell_type": "code",
   "execution_count": 41,
   "id": "75fa6709",
   "metadata": {},
   "outputs": [],
   "source": [
    "# Merge NIP \n",
    "issues_nip_characteristics = issues_nip_average.merge(new_issues_sliced[['securities_isin', 'dealDate', 'issuerType', 'esgType']], left_on='isin', right_on='securities_isin', how='inner')\n",
    "issues_nip_characteristics = issues_nip_characteristics.drop('securities_isin', axis=1)"
   ]
  },
  {
   "cell_type": "code",
   "execution_count": 42,
   "id": "ac0d6398",
   "metadata": {},
   "outputs": [
    {
     "data": {
      "image/png": "[encoded data removed]",
      "text/plain": [
       "<Figure size 800x600 with 1 Axes>"
      ]
     },
     "metadata": {
      "needs_background": "light"
     },
     "output_type": "display_data"
    }
   ],
   "source": [
    "# Plot the distribution based on issuer type\n",
    "\n",
    "# Set the style\n",
    "# sns.set_style(\"darkgrid\")\n",
    "\n",
    "# Filter the DataFrame for different bond types\n",
    "df_corporate = issues_nip_characteristics[issues_nip_characteristics['issuerType'] == 'Corporate']\n",
    "df_financial = issues_nip_characteristics[issues_nip_characteristics['issuerType'] == 'Financials']\n",
    "\n",
    "plt.figure(figsize=(8, 6), dpi=100)\n",
    "\n",
    "# Plot histogram and KDE for corporate bonds\n",
    "sns.histplot(data=df_corporate, x='NIP', kde=True, label='Corporate', color='blue', bins=150, alpha=0.5)\n",
    "\n",
    "# Plot histogram and KDE for financial bonds\n",
    "sns.histplot(data=df_financial, x='NIP', kde=True, label='Financial', color='orange', bins=150, alpha=0.5)\n",
    "\n",
    "plt.xlabel('NIP', fontdict={'fontsize': 10})\n",
    "plt.ylabel('Frequency', fontdict={'fontsize': 10})\n",
    "plt.title('Distribution of NIP by Issuer Type', fontdict={'fontsize': 12})\n",
    "plt.legend()\n",
    "\n",
    "plt.xlim(-100, 150)\n",
    "\n",
    "plt.show()"
   ]
  },
  {
   "cell_type": "code",
   "execution_count": 43,
   "id": "ebe797d0",
   "metadata": {},
   "outputs": [
    {
     "name": "stdout",
     "output_type": "stream",
     "text": [
      "count    1504.000000\n",
      "mean        5.131760\n",
      "std        15.311915\n",
      "min       -88.181310\n",
      "25%        -2.852897\n",
      "50%         3.097947\n",
      "75%        11.180619\n",
      "max        88.173753\n",
      "Name: NIP, dtype: float64\n"
     ]
    }
   ],
   "source": [
    "descriptive_stats_corp = df_corporate['NIP'].describe()\n",
    "print(descriptive_stats_corp)"
   ]
  },
  {
   "cell_type": "code",
   "execution_count": 44,
   "id": "c85371df",
   "metadata": {},
   "outputs": [
    {
     "name": "stdout",
     "output_type": "stream",
     "text": [
      "count    1362.000000\n",
      "mean        1.157325\n",
      "std        16.686282\n",
      "min       -78.961994\n",
      "25%        -6.178163\n",
      "50%        -0.326273\n",
      "75%         6.972340\n",
      "max       137.830145\n",
      "Name: NIP, dtype: float64\n"
     ]
    }
   ],
   "source": [
    "descriptive_stats_fin = df_financial['NIP'].describe()\n",
    "print(descriptive_stats_fin)"
   ]
  },
  {
   "cell_type": "code",
   "execution_count": 45,
   "id": "dbfe9290",
   "metadata": {},
   "outputs": [
    {
     "data": {
      "image/png": "[encoded data removed]",
      "text/plain": [
       "<Figure size 800x600 with 1 Axes>"
      ]
     },
     "metadata": {
      "needs_background": "light"
     },
     "output_type": "display_data"
    }
   ],
   "source": [
    "# Plot the distribution based on ESG type\n",
    "\n",
    "# Create 'esgBond' column based on 'esgType'\n",
    "issues_nip_characteristics['esgBond'] = issues_nip_characteristics['esgType'].notnull().astype(int)\n",
    "\n",
    "# Separate ESG and non-ESG bonds\n",
    "esg_bonds = issues_nip_characteristics[issues_nip_characteristics['esgBond'] == 1]\n",
    "non_esg_bonds = issues_nip_characteristics[issues_nip_characteristics['esgBond'] == 0]\n",
    "\n",
    "plt.figure(figsize=(8, 6), dpi=100)\n",
    "\n",
    "# Plot distribution of non-ESG bonds\n",
    "sns.histplot(data=non_esg_bonds, x='NIP', kde=True, color='blue', label='Non-ESG Bonds', alpha=0.5)\n",
    "\n",
    "# Plot distribution of ESG bonds\n",
    "sns.histplot(data=esg_bonds, x='NIP', kde=True, color='red', label='ESG Bonds')\n",
    "\n",
    "plt.xlabel('NIP')\n",
    "plt.ylabel('Count')\n",
    "plt.title('Distribution of NIP for ESG and Non-ESG Bonds')\n",
    "plt.legend()\n",
    "\n",
    "plt.xlim(-100, 150)\n",
    "\n",
    "plt.show()"
   ]
  },
  {
   "cell_type": "code",
   "execution_count": 46,
   "id": "17afd121",
   "metadata": {},
   "outputs": [
    {
     "name": "stdout",
     "output_type": "stream",
     "text": [
      "count    355.000000\n",
      "mean       3.999826\n",
      "std       15.310203\n",
      "min      -40.653728\n",
      "25%       -3.880381\n",
      "50%        3.127929\n",
      "75%       12.193530\n",
      "max       78.130059\n",
      "Name: NIP, dtype: float64\n"
     ]
    }
   ],
   "source": [
    "descriptive_stats_esg = esg_bonds['NIP'].describe()\n",
    "print(descriptive_stats_esg)"
   ]
  },
  {
   "cell_type": "code",
   "execution_count": 47,
   "id": "360f0204",
   "metadata": {},
   "outputs": [
    {
     "name": "stdout",
     "output_type": "stream",
     "text": [
      "count    2511.000000\n",
      "mean        3.136004\n",
      "std        16.208441\n",
      "min       -88.181310\n",
      "25%        -4.558038\n",
      "50%         1.531240\n",
      "75%         8.954628\n",
      "max       137.830145\n",
      "Name: NIP, dtype: float64\n"
     ]
    }
   ],
   "source": [
    "descriptive_stats_non_esg = non_esg_bonds['NIP'].describe()\n",
    "print(descriptive_stats_non_esg)"
   ]
  },
  {
   "cell_type": "code",
   "execution_count": 48,
   "id": "61a24108",
   "metadata": {},
   "outputs": [
    {
     "data": {
      "image/png": "[encoded data removed]",
      "text/plain": [
       "<Figure size 800x600 with 1 Axes>"
      ]
     },
     "metadata": {
      "needs_background": "light"
     },
     "output_type": "display_data"
    }
   ],
   "source": [
    "# Plot the average NIP of each year\n",
    "\n",
    "# Extract the year from the 'date' column\n",
    "issues_nip_characteristics['Year'] = issues_nip_characteristics['dealDate'].dt.year\n",
    "\n",
    "# Calculate the average NIP for each year\n",
    "df_avg_nip = issues_nip_characteristics.groupby('Year')['NIP'].mean().reset_index()\n",
    "\n",
    "plt.figure(figsize=(8, 6), dpi=100)\n",
    "\n",
    "# Plot the average NIP by year\n",
    "sns.barplot(data=df_avg_nip, x='Year', y='NIP', color='green')\n",
    "\n",
    "plt.xlabel('Year', fontdict={'fontsize': 10})\n",
    "plt.ylabel('Average NIP', fontdict={'fontsize': 10})\n",
    "plt.title('Average NIP by Year', fontdict={'fontsize': 12})\n",
    "\n",
    "plt.show()"
   ]
  },
  {
   "cell_type": "code",
   "execution_count": 49,
   "id": "9f38e6d0",
   "metadata": {
    "scrolled": false
   },
   "outputs": [
    {
     "data": {
      "image/png": "[encoded data removed]",
      "text/plain": [
       "<Figure size 1400x600 with 1 Axes>"
      ]
     },
     "metadata": {
      "needs_background": "light"
     },
     "output_type": "display_data"
    }
   ],
   "source": [
    "# Plot monthly average plus 3-month moving average NIP\n",
    "\n",
    "# Set 'date' column as the DataFrame index\n",
    "issues_nip_characteristics.set_index('dealDate', inplace=True)\n",
    "\n",
    "# Set the style\n",
    "# sns.set_style(\"darkgrid\")\n",
    "\n",
    "# Calculate monthly average NIP\n",
    "monthly_avg = issues_nip_characteristics['NIP'].resample('M').mean()\n",
    "\n",
    "# Calculate 3-month moving average NIP\n",
    "moving_avg = monthly_avg.rolling(window=3).mean()\n",
    "\n",
    "plt.figure(figsize=(14, 6), dpi=100)\n",
    "\n",
    "# Plot monthly average NIP as bars with blue color\n",
    "plt.bar(monthly_avg.index, monthly_avg, label='Monthly Average', color='blue', width=4)\n",
    "\n",
    "# Plot 3-month moving average NIP\n",
    "plt.plot(moving_avg.index, moving_avg, label='3-Month Moving Average', color='red')\n",
    "\n",
    "plt.xlabel('Date')\n",
    "plt.ylabel('Average NIP')\n",
    "plt.title('Monthly Average NIP with 3-Month Moving Average')\n",
    "plt.legend()\n",
    "\n",
    "plt.show()"
   ]
  },
  {
   "cell_type": "code",
   "execution_count": null,
   "id": "eefdecd0",
   "metadata": {},
   "outputs": [],
   "source": []
  }
 ],
 "metadata": {
  "kernelspec": {
   "display_name": "nip_env",
   "language": "python",
   "name": "nip_env"
  },
  "language_info": {
   "codemirror_mode": {
    "name": "ipython",
    "version": 3
   },
   "file_extension": ".py",
   "mimetype": "text/x-python",
   "name": "python",
   "nbconvert_exporter": "python",
   "pygments_lexer": "ipython3",
   "version": "3.10.4"
  }
 },
 "nbformat": 4,
 "nbformat_minor": 5
}
