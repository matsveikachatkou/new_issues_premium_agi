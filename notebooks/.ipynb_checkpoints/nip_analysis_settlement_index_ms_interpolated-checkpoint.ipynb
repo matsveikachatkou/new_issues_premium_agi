{
 "cells": [
  {
   "cell_type": "code",
   "execution_count": 1,
   "id": "8f2cd9b1",
   "metadata": {},
   "outputs": [],
   "source": [
    "import pandas as pd\n",
    "import numpy as np\n",
    "from scipy.interpolate import interp1d\n",
    "import os\n",
    "import re\n",
    "import seaborn as sns\n",
    "import matplotlib.ticker as mtick\n",
    "import matplotlib.pyplot as plt"
   ]
  },
  {
   "cell_type": "markdown",
   "id": "5cf642a0",
   "metadata": {},
   "source": [
    "# 1. Change directory to raw data folder"
   ]
  },
  {
   "cell_type": "code",
   "execution_count": 2,
   "id": "9a9708a7",
   "metadata": {},
   "outputs": [],
   "source": [
    "# Get the current working directory\n",
    "current_directory = os.getcwd()\n",
    "\n",
    "# Get the parent directory by going one level up\n",
    "parent_directory = os.path.dirname(current_directory)\n",
    "\n",
    "# Get the path of raw data folder\n",
    "data_raw_folder = os.path.join(parent_directory, 'data/raw')\n",
    "\n",
    "# Change the current working directory to raw data folder\n",
    "os.chdir(data_raw_folder)"
   ]
  },
  {
   "cell_type": "markdown",
   "id": "101b7673",
   "metadata": {},
   "source": [
    "# 2. Import datasets"
   ]
  },
  {
   "cell_type": "code",
   "execution_count": 3,
   "id": "1d5eff4f",
   "metadata": {},
   "outputs": [],
   "source": [
    "# New issues data\n",
    "new_issues = pd.read_csv('new_issues.csv', index_col=0)\n",
    "new_issues_characteristics =  pd.read_csv('new_issues_characteristics.csv', index_col=0)\n",
    "new_issues_prices_refinitive_ask =  pd.read_csv('new_issues_prices_askyield_refinitive.csv', index_col=0)\n",
    "swap_rates = pd.read_csv('swap_rates.csv', index_col=0)"
   ]
  },
  {
   "cell_type": "code",
   "execution_count": 4,
   "id": "f847fff2",
   "metadata": {},
   "outputs": [],
   "source": [
    "# Index data\n",
    "iboxx_indices = pd.read_csv('iboxx_indices.csv', sep=';')\n",
    "move_index = pd.read_csv('move_index.csv')"
   ]
  },
  {
   "cell_type": "markdown",
   "id": "820a7b0d",
   "metadata": {},
   "source": [
    "# 3. Modify raw datasets and create subsets"
   ]
  },
  {
   "cell_type": "markdown",
   "id": "030c4123",
   "metadata": {},
   "source": [
    "## 3.1 New issues"
   ]
  },
  {
   "cell_type": "code",
   "execution_count": 5,
   "id": "947330e0",
   "metadata": {},
   "outputs": [],
   "source": [
    "# Create new issues dataframe with selected columns\n",
    "new_issues_sliced = new_issues.loc[:,['securities_isin', 'dealDate',\n",
    "                                      'issuerType', 'paymentType', 'countryName', 'COUNTRY_ISO_CODE', \n",
    "                                      'moodys', 'sp', 'fitch', 'expectedSize', 'actualSize', 'minimumDenomination', \n",
    "                                      'securityType', 'maturityTerm', 'coupon', 'seniority_name_1', \n",
    "                                      'seniority_name_1_adj', 'esgType', 'referenceType', 'ipt_reference',\n",
    "                                      'ipt_price_down', 'ipt_price_up', 'guidance_reference', 'guidance_price_down',\n",
    "                                      'guidance_price_up', 'launchValue', 'reofferValue', 'yieldToMaturity',\n",
    "                                     'Industry_Group', 'Industry_Sector']]\n",
    "\n",
    "# Change time type\n",
    "new_issues_sliced['dealDate'] = pd.to_datetime(new_issues_sliced['dealDate'])\n",
    "new_issues_sliced['dealDate'] = new_issues_sliced['dealDate'].dt.floor('d')"
   ]
  },
  {
   "cell_type": "code",
   "execution_count": 6,
   "id": "1aa99c98",
   "metadata": {},
   "outputs": [],
   "source": [
    "# Deal with duplicated isins\n",
    "\n",
    "# Sort the DataFrame by 'dealDate' in ascending order\n",
    "new_issues_sliced = new_issues_sliced.sort_values('dealDate')\n",
    "\n",
    "# Keep the first occurrence of each ISIN\n",
    "new_issues_sliced = new_issues_sliced.drop_duplicates('securities_isin', keep='first')"
   ]
  },
  {
   "cell_type": "markdown",
   "id": "ec452e50",
   "metadata": {},
   "source": [
    "## 3.2 New issues characteristics; new issues prices"
   ]
  },
  {
   "cell_type": "code",
   "execution_count": 7,
   "id": "abea163a",
   "metadata": {},
   "outputs": [],
   "source": [
    "# Change time type in refinitive prices dataset\n",
    "new_issues_prices_refinitive_ask['Date'] = pd.to_datetime(new_issues_prices_refinitive_ask['Date'])\n",
    "new_issues_prices_refinitive_ask['Date'] = new_issues_prices_refinitive_ask['Date'].dt.date\n",
    "new_issues_prices_refinitive_ask['Date'] = new_issues_prices_refinitive_ask['Date'].astype('datetime64')\n",
    "new_issues_prices_refinitive_ask['Date'] = new_issues_prices_refinitive_ask['Date'].dt.floor('d')"
   ]
  },
  {
   "cell_type": "code",
   "execution_count": 8,
   "id": "c3d387eb",
   "metadata": {},
   "outputs": [],
   "source": [
    "# Filter out 'wrong' prices (EUR price instead of yield)\n",
    "new_issues_prices_refinitive = new_issues_prices_refinitive_ask[(abs(new_issues_prices_refinitive_ask['Ask Yield']) < 10) | (new_issues_prices_refinitive_ask['Ask Yield'].isna())]"
   ]
  },
  {
   "cell_type": "markdown",
   "id": "5b77ef6c",
   "metadata": {},
   "source": [
    "## 3.3 Iboxx indices"
   ]
  },
  {
   "cell_type": "code",
   "execution_count": 9,
   "id": "ef34175a",
   "metadata": {},
   "outputs": [],
   "source": [
    "# Change time type in iboxx index dataset\n",
    "iboxx_indices['Download_Date'] = pd.to_datetime(iboxx_indices['Download_Date'])"
   ]
  },
  {
   "cell_type": "code",
   "execution_count": 10,
   "id": "1d3282f4",
   "metadata": {
    "scrolled": false
   },
   "outputs": [],
   "source": [
    "# Create issue dataframe with selected columns\n",
    "iboxx_indices_sliced = iboxx_indices.loc[:,['Download_Date', 'Name', 'Annual_Yield_to_Maturity', 'Expected_Remaining_Life']]"
   ]
  },
  {
   "cell_type": "code",
   "execution_count": 11,
   "id": "54d80752",
   "metadata": {},
   "outputs": [],
   "source": [
    "# Keep only iBoxx € Corporates Senior and iBoxx € Financials Senior\n",
    "iboxx_indices_sliced = iboxx_indices_sliced[iboxx_indices_sliced['Name'].isin(['iBoxx € Corporates Senior', 'iBoxx € Financials Senior'])]"
   ]
  },
  {
   "cell_type": "markdown",
   "id": "461f8961",
   "metadata": {},
   "source": [
    "## 3.4 Swap rates"
   ]
  },
  {
   "cell_type": "code",
   "execution_count": 12,
   "id": "96fb3ea4",
   "metadata": {},
   "outputs": [],
   "source": [
    "# Extract the column names and their corresponding years\n",
    "columns = swap_rates.columns\n",
    "years = []\n",
    "\n",
    "# Determine if the column represents months or years and extract the corresponding number\n",
    "for col in columns:\n",
    "    match = re.search(r'(\\d+)([YM])=', col)\n",
    "    if match:\n",
    "        num = int(match.group(1))\n",
    "        unit = match.group(2)\n",
    "        if unit == 'Y':\n",
    "            years.append(num)\n",
    "        elif unit == 'M':\n",
    "            years.append(num / 12)\n",
    "            \n",
    "# Create a dictionary to map the old column names to the new column names\n",
    "new_columns = {col: yr for col, yr in zip(columns, years)}\n",
    "\n",
    "# Rename the columns in the DataFrame\n",
    "swap_rates.rename(columns=new_columns, inplace=True)\n",
    "\n",
    "# Sort the columns in ascending order\n",
    "swap_rates = swap_rates.reindex(sorted(swap_rates.columns), axis=1)\n",
    "\n",
    "# Change time type in refinitive prices dataset\n",
    "swap_rates = swap_rates.reset_index()\n",
    "swap_rates['Date'] = pd.to_datetime(swap_rates['Date'])\n",
    "swap_rates['Date'] = swap_rates['Date'].dt.date\n",
    "swap_rates['Date'] = swap_rates['Date'].astype('datetime64')\n",
    "swap_rates['Date'] = swap_rates['Date'].dt.floor('d')\n",
    "swap_rates = swap_rates.set_index('Date')"
   ]
  },
  {
   "cell_type": "markdown",
   "id": "d36d6efd",
   "metadata": {},
   "source": [
    "## 3.5 Create dataframe of initial MS of new issues"
   ]
  },
  {
   "cell_type": "code",
   "execution_count": 13,
   "id": "6c9065a8",
   "metadata": {},
   "outputs": [],
   "source": [
    "# MS spread from IPREO data\n",
    "new_issues_yield_ipreo = new_issues_sliced.loc[:, ['dealDate', 'securities_isin', 'maturityTerm', 'issuerType', 'reofferValue']]\n",
    "new_issues_yield_ipreo = new_issues_yield_ipreo.rename(columns={'securities_isin': 'isin'})\n",
    "new_issues_yield_ipreo = new_issues_yield_ipreo.drop_duplicates()"
   ]
  },
  {
   "cell_type": "code",
   "execution_count": 14,
   "id": "f0f87e0b",
   "metadata": {},
   "outputs": [],
   "source": [
    "# Keep new issues with known initial MS\n",
    "new_issues_initial_prices = new_issues_yield_ipreo.loc[~new_issues_yield_ipreo['reofferValue'].isna(), :]"
   ]
  },
  {
   "cell_type": "code",
   "execution_count": 15,
   "id": "e76b5230",
   "metadata": {},
   "outputs": [],
   "source": [
    "new_issues_initial_prices = new_issues_initial_prices.reset_index(drop=True)"
   ]
  },
  {
   "cell_type": "markdown",
   "id": "2cfc536a",
   "metadata": {},
   "source": [
    "## 3.6 Add new issues prices and index development"
   ]
  },
  {
   "cell_type": "code",
   "execution_count": 16,
   "id": "67671950",
   "metadata": {},
   "outputs": [],
   "source": [
    "# Extract the maturities from column names\n",
    "maturities = [col for col in swap_rates.columns]\n",
    "\n",
    "# Interpolate the swap rate curve for each timestamp\n",
    "interpolated_swap_rates = {}\n",
    "for timestamp, row in swap_rates.iterrows():\n",
    "    swap_rate_interpolator = interp1d(maturities, row, kind='cubic')\n",
    "    interpolated_swap_rates[timestamp] = swap_rate_interpolator"
   ]
  },
  {
   "cell_type": "code",
   "execution_count": 17,
   "id": "ae13e098",
   "metadata": {},
   "outputs": [],
   "source": [
    "# Rename column\n",
    "new_issues_prices_refinitive = new_issues_prices_refinitive.rename(columns={'Instrument': 'isin'})"
   ]
  },
  {
   "cell_type": "code",
   "execution_count": 18,
   "id": "07557501",
   "metadata": {},
   "outputs": [],
   "source": [
    "# Merge initial MS with YTM development\n",
    "new_issues_price_dev = new_issues_initial_prices.merge(new_issues_prices_refinitive, on='isin', how='inner')\n",
    "\n",
    "# Rename columns\n",
    "new_issues_price_dev = new_issues_price_dev.rename(columns={'reofferValue': 'bondInitial'})\n",
    "new_issues_price_dev = new_issues_price_dev.rename(columns={'Date': 'priceDate'})\n",
    "#new_issues_price_dev = new_issues_price_dev.rename(columns={'Bid Yield': 'bondBidYTM'})\n",
    "new_issues_price_dev = new_issues_price_dev.rename(columns={'Ask Yield': 'bondAskYTM'})\n",
    "\n",
    "# Keep isins with at least 1 price\n",
    "new_issues_price_dev = new_issues_price_dev.dropna(subset=['bondAskYTM'])\n",
    "new_issues_price_dev = new_issues_price_dev.drop_duplicates()"
   ]
  },
  {
   "cell_type": "code",
   "execution_count": 19,
   "id": "f27e75bf",
   "metadata": {},
   "outputs": [],
   "source": [
    "# Exclude lines where dealdate == priceDate (might be a pricing mistake in Refinitive)\n",
    "new_issues_price_dev = new_issues_price_dev[new_issues_price_dev['dealDate'] != new_issues_price_dev['priceDate']]"
   ]
  },
  {
   "cell_type": "code",
   "execution_count": 20,
   "id": "aebae46f",
   "metadata": {},
   "outputs": [],
   "source": [
    "# Find first price for each isin\n",
    "\n",
    "# Sort the dataframe by date in ascending order\n",
    "new_issues_price_dev = new_issues_price_dev.sort_values('priceDate')\n",
    "\n",
    "# Group the dataframe by 'isin' and select the first row (earliest date) for each group\n",
    "earliest_dates = new_issues_price_dev.groupby('isin')['priceDate'].first()\n",
    "\n",
    "# Create a new column 'firstPrice' and map the earliest dates based on the 'isin'\n",
    "new_issues_price_dev['firstPrice'] = new_issues_price_dev['isin'].map(earliest_dates)"
   ]
  },
  {
   "cell_type": "code",
   "execution_count": 21,
   "id": "6d11d8a0",
   "metadata": {},
   "outputs": [],
   "source": [
    "# Calculate Time To Maturity\n",
    "new_issues_price_dev['diff'] = (new_issues_price_dev['priceDate'] - new_issues_price_dev['firstPrice']) / pd.Timedelta(days=365.25)\n",
    "new_issues_price_dev['timeToMaturity'] = new_issues_price_dev['maturityTerm'] - new_issues_price_dev['diff']"
   ]
  },
  {
   "cell_type": "code",
   "execution_count": 22,
   "id": "f2f7d3ed",
   "metadata": {},
   "outputs": [],
   "source": [
    "# Calculate the corresponding swap rates for bonds\n",
    "def calculate_swap_rate_bond(row):\n",
    "    try:\n",
    "        return interpolated_swap_rates[row['priceDate']](row['timeToMaturity'])\n",
    "    except KeyError:\n",
    "        return None\n",
    "\n",
    "new_issues_price_dev['Swap Rate Bond'] = new_issues_price_dev.apply(calculate_swap_rate_bond, axis=1)"
   ]
  },
  {
   "cell_type": "code",
   "execution_count": 23,
   "id": "afcafc15",
   "metadata": {},
   "outputs": [],
   "source": [
    "# Calculate spread to MS for bonds\n",
    "#new_issues_price_dev['bondMS'] = new_issues_price_dev['bondBidYTM'] - new_issues_price_dev['Swap Rate Bond']\n",
    "new_issues_price_dev['bondMS'] = new_issues_price_dev['bondAskYTM'] - new_issues_price_dev['Swap Rate Bond']\n",
    "new_issues_price_dev['bondMS'] = new_issues_price_dev['bondMS'] * 100"
   ]
  },
  {
   "cell_type": "code",
   "execution_count": 24,
   "id": "ed34c5bf",
   "metadata": {},
   "outputs": [],
   "source": [
    "# Drop unncessary columns\n",
    "#new_issues_price_dev = new_issues_price_dev.drop(['firstPrice', 'diff', 'maturityTerm', 'timeToMaturity', 'bondBidYTM', 'Swap Rate Bond'], axis=1)\n",
    "new_issues_price_dev = new_issues_price_dev.drop(['firstPrice', 'diff', 'maturityTerm', 'timeToMaturity', 'bondAskYTM', 'Swap Rate Bond'], axis=1)"
   ]
  },
  {
   "cell_type": "code",
   "execution_count": 25,
   "id": "ebb30ffd",
   "metadata": {},
   "outputs": [],
   "source": [
    "# Rename column in indices\n",
    "iboxx_indices_sliced = iboxx_indices_sliced.rename(columns={'Download_Date': 'Date'})"
   ]
  },
  {
   "cell_type": "code",
   "execution_count": 26,
   "id": "4fff9d21",
   "metadata": {},
   "outputs": [],
   "source": [
    "# Merge IBOXX indices value at the dealDate (initial index)\n",
    "new_issues_price_dev_ind = new_issues_price_dev.merge(iboxx_indices_sliced, left_on='dealDate', right_on = 'Date', how='inner')\n",
    "new_issues_price_dev_ind = new_issues_price_dev_ind.drop('Date', axis=1)"
   ]
  },
  {
   "cell_type": "code",
   "execution_count": 27,
   "id": "d36cd043",
   "metadata": {},
   "outputs": [],
   "source": [
    "# Calculate the corresponding swap rates for index\n",
    "def calculate_swap_rate_initial(row):\n",
    "    try:\n",
    "        return interpolated_swap_rates[row['dealDate']](row['Expected_Remaining_Life'])\n",
    "    except KeyError:\n",
    "        return None\n",
    "    \n",
    "def calculate_swap_rate(row):\n",
    "    try:\n",
    "        return interpolated_swap_rates[row['priceDate']](row['Expected_Remaining_Life'])\n",
    "    except KeyError:\n",
    "        return None\n",
    "\n",
    "new_issues_price_dev_ind['Swap Rate'] = new_issues_price_dev_ind.apply(calculate_swap_rate_initial, axis=1)"
   ]
  },
  {
   "cell_type": "code",
   "execution_count": 28,
   "id": "43159eb2",
   "metadata": {},
   "outputs": [],
   "source": [
    "# Calculate spread to MS for index\n",
    "new_issues_price_dev_ind['indexInitial'] = new_issues_price_dev_ind['Annual_Yield_to_Maturity'] - new_issues_price_dev_ind['Swap Rate']\n",
    "new_issues_price_dev_ind['indexInitial'] = new_issues_price_dev_ind['indexInitial'] * 100"
   ]
  },
  {
   "cell_type": "code",
   "execution_count": 29,
   "id": "575430b3",
   "metadata": {},
   "outputs": [],
   "source": [
    "# Drop unncessary columns\n",
    "new_issues_price_dev_ind = new_issues_price_dev_ind.drop(['Annual_Yield_to_Maturity', 'Expected_Remaining_Life', 'Swap Rate'], axis=1)"
   ]
  },
  {
   "cell_type": "code",
   "execution_count": 30,
   "id": "471ec3d8",
   "metadata": {},
   "outputs": [],
   "source": [
    "# Filter initial index based on the bond type (financial or corporate)\n",
    "new_issues_price_dev_ind = new_issues_price_dev_ind[(new_issues_price_dev_ind['issuerType'] == 'Corporate') & (new_issues_price_dev_ind['Name'] == 'iBoxx € Corporates Senior') |\n",
    "                 (new_issues_price_dev_ind['issuerType'] == 'Financials') & (new_issues_price_dev_ind['Name'] == 'iBoxx € Financials Senior')]\n",
    "new_issues_price_dev_ind = new_issues_price_dev_ind.reset_index(drop=True)\n",
    "\n",
    "# Rename column\n",
    "new_issues_price_dev_ind = new_issues_price_dev_ind.rename(columns={'Name': 'indexName'})"
   ]
  },
  {
   "cell_type": "code",
   "execution_count": 31,
   "id": "6a4142c7",
   "metadata": {},
   "outputs": [],
   "source": [
    "# Merge development of IBOXX indices with the bond prices\n",
    "new_issues_price_dev_ind = new_issues_price_dev_ind.merge(iboxx_indices_sliced, left_on='priceDate', right_on = 'Date', how='inner')"
   ]
  },
  {
   "cell_type": "code",
   "execution_count": 32,
   "id": "2d0dfcb2",
   "metadata": {},
   "outputs": [],
   "source": [
    "# Calculate Swap Rates for Index prices\n",
    "new_issues_price_dev_ind['Swap Rate'] = new_issues_price_dev_ind.apply(calculate_swap_rate, axis=1)"
   ]
  },
  {
   "cell_type": "code",
   "execution_count": 33,
   "id": "7f5bc098",
   "metadata": {},
   "outputs": [],
   "source": [
    "# Calculate spread to MS for Index prices\n",
    "new_issues_price_dev_ind['indexMS'] = new_issues_price_dev_ind['Annual_Yield_to_Maturity'] - new_issues_price_dev_ind['Swap Rate']\n",
    "new_issues_price_dev_ind['indexMS'] = new_issues_price_dev_ind['indexMS'] * 100"
   ]
  },
  {
   "cell_type": "code",
   "execution_count": 34,
   "id": "2a979374",
   "metadata": {},
   "outputs": [],
   "source": [
    "# Drop unncessary columns\n",
    "new_issues_price_dev_ind = new_issues_price_dev_ind.drop(['Annual_Yield_to_Maturity', 'Expected_Remaining_Life', 'Swap Rate'], axis=1)"
   ]
  },
  {
   "cell_type": "code",
   "execution_count": 35,
   "id": "a23156aa",
   "metadata": {},
   "outputs": [],
   "source": [
    "# Filter index development based on the bond type (financial or corporate)\n",
    "new_issues_price_dev_ind = new_issues_price_dev_ind[(new_issues_price_dev_ind['issuerType'] == 'Corporate') & (new_issues_price_dev_ind['Name'] == 'iBoxx € Corporates Senior') |\n",
    "                 (new_issues_price_dev_ind['issuerType'] == 'Financials') & (new_issues_price_dev_ind['Name'] == 'iBoxx € Financials Senior')]\n",
    "new_issues_price_dev_ind = new_issues_price_dev_ind.reset_index(drop=True)\n",
    "\n",
    "# Drop unncessary columns\n",
    "new_issues_price_dev_ind = new_issues_price_dev_ind.drop(['dealDate', 'Date', 'issuerType', 'Name', 'indexName'], axis=1)"
   ]
  },
  {
   "cell_type": "code",
   "execution_count": 36,
   "id": "611e618c",
   "metadata": {},
   "outputs": [],
   "source": [
    "# For each new issue, keep 3rd and 4th week of prices (11th to 20th working date) after settlement on secondary market \n",
    "\n",
    "# Sort the DataFrame by 'isin' and 'date' columns\n",
    "new_issues_price_dev_ind.sort_values(['isin', 'priceDate'], inplace=True)\n",
    "\n",
    "# Assign ranks within each 'isin' group\n",
    "new_issues_price_dev_ind['rank'] = new_issues_price_dev_ind.groupby('isin')['priceDate'].rank(method='first', ascending=True)\n",
    "\n",
    "# Filter the DataFrame based on rank values\n",
    "new_issues_price_dev_ind_sliced = new_issues_price_dev_ind[(new_issues_price_dev_ind['rank'] >= 11) & (new_issues_price_dev_ind['rank'] <= 20)]\n",
    "\n",
    "# Drop unncessary columns\n",
    "new_issues_price_dev_ind_sliced = new_issues_price_dev_ind_sliced.drop('rank', axis=1)\n",
    "new_issues_price_dev_ind_sliced = new_issues_price_dev_ind_sliced.reset_index(drop=True)"
   ]
  },
  {
   "cell_type": "code",
   "execution_count": 37,
   "id": "6f148689",
   "metadata": {},
   "outputs": [
    {
     "data": {
      "text/html": [
       "<div>\n",
       "<style scoped>\n",
       "    .dataframe tbody tr th:only-of-type {\n",
       "        vertical-align: middle;\n",
       "    }\n",
       "\n",
       "    .dataframe tbody tr th {\n",
       "        vertical-align: top;\n",
       "    }\n",
       "\n",
       "    .dataframe thead th {\n",
       "        text-align: right;\n",
       "    }\n",
       "</style>\n",
       "<table border=\"1\" class=\"dataframe\">\n",
       "  <thead>\n",
       "    <tr style=\"text-align: right;\">\n",
       "      <th></th>\n",
       "      <th>isin</th>\n",
       "      <th>bondInitial</th>\n",
       "      <th>priceDate</th>\n",
       "      <th>bondMS</th>\n",
       "      <th>indexInitial</th>\n",
       "      <th>indexMS</th>\n",
       "    </tr>\n",
       "  </thead>\n",
       "  <tbody>\n",
       "  </tbody>\n",
       "</table>\n",
       "</div>"
      ],
      "text/plain": [
       "Empty DataFrame\n",
       "Columns: [isin, bondInitial, priceDate, bondMS, indexInitial, indexMS]\n",
       "Index: []"
      ]
     },
     "execution_count": 37,
     "metadata": {},
     "output_type": "execute_result"
    }
   ],
   "source": [
    "new_issues_price_dev_ind_sliced[new_issues_price_dev_ind_sliced['isin'] == 'XS2034629134']"
   ]
  },
  {
   "cell_type": "markdown",
   "id": "c4d1de8e",
   "metadata": {},
   "source": [
    "# 4. NIP Analysis"
   ]
  },
  {
   "cell_type": "code",
   "execution_count": 38,
   "id": "d67fb0aa",
   "metadata": {},
   "outputs": [],
   "source": [
    "# For each date, calculate the price delta\n",
    "new_issues_price_dev_ind_sliced['bondPriceDelta'] = new_issues_price_dev_ind_sliced['bondInitial'] - new_issues_price_dev_ind_sliced['bondMS']\n",
    "new_issues_price_dev_ind_sliced['indexPriceDelta'] = new_issues_price_dev_ind_sliced['indexInitial'] - new_issues_price_dev_ind_sliced['indexMS']"
   ]
  },
  {
   "cell_type": "code",
   "execution_count": 39,
   "id": "5133f7e9",
   "metadata": {},
   "outputs": [],
   "source": [
    "# Adjust price delta to the movements on the market\n",
    "new_issues_price_dev_ind_sliced['bondPriceDeltaAdj'] = new_issues_price_dev_ind_sliced['bondPriceDelta'] - new_issues_price_dev_ind_sliced['indexPriceDelta']"
   ]
  },
  {
   "cell_type": "code",
   "execution_count": 40,
   "id": "5c29a824",
   "metadata": {},
   "outputs": [],
   "source": [
    "issues_nip = new_issues_price_dev_ind_sliced.loc[:, ['isin', 'bondPriceDeltaAdj']].copy()"
   ]
  },
  {
   "cell_type": "code",
   "execution_count": 41,
   "id": "c85ef049",
   "metadata": {},
   "outputs": [],
   "source": [
    "issues_nip_average = issues_nip.groupby('isin', as_index=False).mean()\n",
    "issues_nip_average = issues_nip_average.rename(columns={'bondPriceDeltaAdj': 'NIP'})"
   ]
  },
  {
   "cell_type": "markdown",
   "id": "6d939734",
   "metadata": {},
   "source": [
    "## 5. NIP Breakdown"
   ]
  },
  {
   "cell_type": "code",
   "execution_count": 42,
   "id": "bee7af85",
   "metadata": {},
   "outputs": [],
   "source": [
    "# Merge NIP \n",
    "issues_nip_characteristics = issues_nip_average.merge(new_issues_sliced[['securities_isin', 'dealDate', 'issuerType', 'esgType']], left_on='isin', right_on='securities_isin', how='inner')\n",
    "issues_nip_characteristics = issues_nip_characteristics.drop('securities_isin', axis=1)\n",
    "issues_nip_characteristics.set_index('dealDate', inplace=True)"
   ]
  },
  {
   "cell_type": "code",
   "execution_count": 43,
   "id": "913e1cc6",
   "metadata": {},
   "outputs": [
    {
     "data": {
      "image/png": "[encoded data removed]",
      "text/plain": [
       "<Figure size 864x360 with 2 Axes>"
      ]
     },
     "metadata": {
      "needs_background": "light"
     },
     "output_type": "display_data"
    }
   ],
   "source": [
    "# Create a figure and two subplots, one on top of the other\n",
    "fig, (ax1, ax2) = plt.subplots(1, 2, figsize=(12, 5), gridspec_kw={'width_ratios': [4, 6]})\n",
    "\n",
    "# Set the patch linewidth to 0 to remove any patch boundaries\n",
    "plt.rcParams['patch.linewidth'] = 0\n",
    "\n",
    "# ----- First Plot (Histogram with KDE) -----\n",
    "# Plot the histogram with KDE (Kernel Density Estimate)\n",
    "sns.histplot(data=issues_nip_average, x=\"NIP\", kde=True, color='wheat', alpha=0.5, stat='percent', ax=ax1, shrink=0.8)\n",
    "\n",
    "# Format the y-axis as percentages\n",
    "ax1.yaxis.set_major_formatter(mtick.PercentFormatter())\n",
    "\n",
    "# Set the color of the KDE curve to black\n",
    "ax1.lines[0].set_color('black')\n",
    "\n",
    "# Remove the x and y axis labels for the first plot\n",
    "ax1.set_xlabel('')\n",
    "ax1.set_ylabel('')\n",
    "\n",
    "# Set the x-axis limits for the first plot\n",
    "ax1.set_xlim(-100, 160)\n",
    "\n",
    "# Set the x-axis label for the first plot\n",
    "ax1.set_xlabel('Basis Points')\n",
    "\n",
    "# Add a legend for the top plot (KDE curve)\n",
    "ax1.legend(['KDE'], loc='upper right', framealpha=0)\n",
    "\n",
    "# ----- Second Plot (Monthly Average and 3-Month Moving Average NIP) -----\n",
    "# Calculate the monthly average of NIP and the 3-month moving average\n",
    "monthly_avg = issues_nip_characteristics['NIP'].resample('M').mean()\n",
    "moving_avg = monthly_avg.rolling(window=3).mean()\n",
    "\n",
    "# Plot the monthly average NIP as bars with light blue color\n",
    "ax2.bar(monthly_avg.index, monthly_avg, label='Monthly Average', color='slategray', width=15)\n",
    "\n",
    "# Plot the 3-month moving average NIP as a line plot in black\n",
    "ax2.plot(moving_avg.index, moving_avg, label='3-Month Moving Average', color='black')\n",
    "\n",
    "# Set the x and y axis labels for the second plot\n",
    "ax2.set_xlabel('Year')\n",
    "ax2.set_ylabel('Basis Points')\n",
    "\n",
    "# Add a legend for the bottom plot (monthly average and moving average)\n",
    "ax2.legend(loc='upper right', framealpha=0)\n",
    "\n",
    "# Adjust spacing between the two subplots to prevent overlap\n",
    "plt.tight_layout()\n",
    "\n",
    "# Add extra space between the title and subplots\n",
    "plt.subplots_adjust(top=0.92)\n",
    "\n",
    "# Add the title for the entire figure\n",
    "plt.suptitle('Index-adjusted NIP', fontsize=16)\n",
    "\n",
    "# Show the combined plot\n",
    "# plt.savefig('nip_distribution_index.png', facecolor='w', dpi=300, bbox_inches='tight')\n",
    "plt.show()"
   ]
  },
  {
   "cell_type": "code",
   "execution_count": 44,
   "id": "156ebda9",
   "metadata": {},
   "outputs": [
    {
     "name": "stdout",
     "output_type": "stream",
     "text": [
      "count    1829.000000\n",
      "mean        8.754425\n",
      "std        16.951438\n",
      "min       -77.680856\n",
      "25%         0.085222\n",
      "50%         6.913026\n",
      "75%        15.825571\n",
      "max       144.213285\n",
      "Name: NIP, dtype: float64\n",
      "24.822307271733187\n",
      "-9.02221754319342\n",
      "75.1776927282668\n",
      "14.623949241436746\n"
     ]
    }
   ],
   "source": [
    "# Now, apply the describe() function to the 'NIP' column\n",
    "nip_descriptive_stats = issues_nip_average['NIP'].describe()\n",
    "\n",
    "# Calculate the percentage of negative values\n",
    "negative_percentage = (issues_nip_average['NIP'] < 0).mean() * 100\n",
    "\n",
    "# Calculate the average of negative values\n",
    "average_negative = issues_nip_average.loc[issues_nip_average['NIP'] < 0, 'NIP'].mean()\n",
    "\n",
    "# Calculate the percentage of positive values\n",
    "positive_percentage = (issues_nip_average['NIP'] >= 0).mean() * 100\n",
    "\n",
    "# Calculate the average of positive values\n",
    "average_positive = issues_nip_average.loc[issues_nip_average['NIP'] >= 0, 'NIP'].mean()\n",
    "\n",
    "print(nip_descriptive_stats)\n",
    "print(negative_percentage)\n",
    "print(average_negative)\n",
    "print(positive_percentage)\n",
    "print(average_positive)"
   ]
  }
 ],
 "metadata": {
  "kernelspec": {
   "display_name": "nip_env",
   "language": "python",
   "name": "nip_env"
  },
  "language_info": {
   "codemirror_mode": {
    "name": "ipython",
    "version": 3
   },
   "file_extension": ".py",
   "mimetype": "text/x-python",
   "name": "python",
   "nbconvert_exporter": "python",
   "pygments_lexer": "ipython3",
   "version": "3.10.4"
  }
 },
 "nbformat": 4,
 "nbformat_minor": 5
}
