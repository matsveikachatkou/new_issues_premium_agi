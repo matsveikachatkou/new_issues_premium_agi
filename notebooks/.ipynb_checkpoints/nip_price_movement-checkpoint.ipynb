{
 "cells": [
  {
   "cell_type": "code",
   "execution_count": 1,
   "id": "63bce8cb",
   "metadata": {},
   "outputs": [],
   "source": [
    "import pandas as pd\n",
    "import numpy as np\n",
    "import os\n",
    "import seaborn as sns\n",
    "import matplotlib.pyplot as plt\n",
    "import matplotlib.patches as patches\n",
    "import pandas as pd\n",
    "import matplotlib.dates as mdates\n",
    "import re\n",
    "from scipy.interpolate import interp1d"
   ]
  },
  {
   "cell_type": "markdown",
   "id": "80ad99e8",
   "metadata": {},
   "source": [
    "# 1. Change directory to raw data folder"
   ]
  },
  {
   "cell_type": "code",
   "execution_count": 2,
   "id": "3c231466",
   "metadata": {},
   "outputs": [],
   "source": [
    "# Get the current working directory\n",
    "current_directory = os.getcwd()\n",
    "\n",
    "# Get the parent directory by going one level up\n",
    "parent_directory = os.path.dirname(current_directory)\n",
    "\n",
    "# Get the path of raw data folder\n",
    "data_raw_folder = os.path.join(parent_directory, 'data/raw')\n",
    "\n",
    "# Change the current working directory to raw data folder\n",
    "os.chdir(data_raw_folder)"
   ]
  },
  {
   "cell_type": "markdown",
   "id": "878baad3",
   "metadata": {},
   "source": [
    "# 2. Import datasets"
   ]
  },
  {
   "cell_type": "code",
   "execution_count": 3,
   "id": "12c963f5",
   "metadata": {},
   "outputs": [],
   "source": [
    "# New issues data\n",
    "new_issues = pd.read_csv('new_issues.csv', index_col=0)\n",
    "new_issues_characteristics =  pd.read_csv('new_issues_characteristics.csv', index_col=0)\n",
    "new_issues_prices_refinitive =  pd.read_csv('new_issues_prices_askyield_refinitive.csv', index_col=0)\n",
    "swap_rates = pd.read_csv('swap_rates.csv', index_col=0)"
   ]
  },
  {
   "cell_type": "code",
   "execution_count": 4,
   "id": "c61b28a3",
   "metadata": {},
   "outputs": [],
   "source": [
    "# Index data\n",
    "iboxx_indices = pd.read_csv('iboxx_indices.csv', sep=';')\n",
    "move_index = pd.read_csv('move_index.csv')"
   ]
  },
  {
   "cell_type": "code",
   "execution_count": 5,
   "id": "c5c3da88",
   "metadata": {},
   "outputs": [],
   "source": [
    "# Comparable bonds\n",
    "chunk_dfs = []\n",
    "for i in range(7):\n",
    "    chunk_df = pd.read_csv(f'comparable_bonds_iboxx_{i+1}.csv', index_col=0)\n",
    "    chunk_dfs.append(chunk_df)\n",
    "\n",
    "# Concatenate all the chunk dataframes into one dataframe\n",
    "comparable_bonds_iboxx = pd.concat(chunk_dfs, ignore_index=True)\n",
    "comparable_bonds_prices = pd.read_csv('comparable_bonds_filtered_yield.csv', index_col=0)\n",
    "comparable_bonds_prices_hourly = pd.read_csv('comparable_bonds_hourly_prices.csv', index_col=0)"
   ]
  },
  {
   "cell_type": "markdown",
   "id": "5cd65625",
   "metadata": {},
   "source": [
    "# 3. Modify raw datasets and create subsets"
   ]
  },
  {
   "cell_type": "markdown",
   "id": "42f84f6f",
   "metadata": {},
   "source": [
    "## 3.1 New issues"
   ]
  },
  {
   "cell_type": "code",
   "execution_count": 6,
   "id": "6fbe18c1",
   "metadata": {},
   "outputs": [],
   "source": [
    "# Create new issues dataframe with selected columns\n",
    "new_issues_sliced = new_issues.loc[:,['securities_isin', 'ticker', 'dealDate',\n",
    "                                      'issuerType', 'paymentType', 'countryName', 'COUNTRY_ISO_CODE', \n",
    "                                      'moodys', 'sp', 'fitch', 'expectedSize', 'actualSize', 'minimumDenomination', \n",
    "                                      'securityType', 'maturityTerm', 'coupon', 'seniority_name_1', \n",
    "                                      'seniority_name_1_adj', 'esgType', 'referenceType', 'ipt_reference',\n",
    "                                      'ipt_price_down', 'ipt_price_up', 'guidance_reference', 'guidance_price_down',\n",
    "                                      'guidance_price_up', 'launchValue', 'reofferValue', 'reofferPrice', 'yieldToMaturity',\n",
    "                                     'Industry_Group', 'Industry_Sector']]\n",
    "\n",
    "# Change time type\n",
    "new_issues_sliced['dealDate'] = pd.to_datetime(new_issues_sliced['dealDate'])\n",
    "new_issues_sliced['dealDate'] = new_issues_sliced['dealDate'].dt.floor('d')"
   ]
  },
  {
   "cell_type": "code",
   "execution_count": 7,
   "id": "18908d58",
   "metadata": {},
   "outputs": [],
   "source": [
    "# Check for duplicated combinations\n",
    "duplicates = new_issues_sliced.duplicated(subset=['securities_isin', 'dealDate'], keep=False)\n",
    "\n",
    "# Drop the duplicated combinations\n",
    "new_issues_sliced = new_issues_sliced[~duplicates]"
   ]
  },
  {
   "cell_type": "code",
   "execution_count": 8,
   "id": "ce29e6c5",
   "metadata": {},
   "outputs": [],
   "source": [
    "# Deal with duplicated isins\n",
    "\n",
    "# Sort the DataFrame by 'dealDate' in ascending order\n",
    "new_issues_sliced = new_issues_sliced.sort_values('dealDate')\n",
    "\n",
    "# Keep the first occurrence of each ISIN\n",
    "new_issues_sliced = new_issues_sliced.drop_duplicates('securities_isin', keep='first')"
   ]
  },
  {
   "cell_type": "markdown",
   "id": "559481cc",
   "metadata": {},
   "source": [
    "## 3.2 Comparable bonds"
   ]
  },
  {
   "cell_type": "code",
   "execution_count": 9,
   "id": "ccc946d8",
   "metadata": {},
   "outputs": [],
   "source": [
    "comparable_bonds_iboxx['date'] = pd.to_datetime(comparable_bonds_iboxx['date'])\n",
    "comparable_bonds_iboxx['date'] = comparable_bonds_iboxx['date'].dt.floor('d')"
   ]
  },
  {
   "cell_type": "code",
   "execution_count": 10,
   "id": "9095273d",
   "metadata": {},
   "outputs": [],
   "source": [
    "comparable_bonds_prices['Date'] = pd.to_datetime(comparable_bonds_prices['Date'])\n",
    "comparable_bonds_prices['Date'] = comparable_bonds_prices['Date'].dt.date\n",
    "comparable_bonds_prices['Date'] = comparable_bonds_prices['Date'].astype('datetime64')\n",
    "comparable_bonds_prices['Date'] = comparable_bonds_prices['Date'].dt.floor('d')"
   ]
  },
  {
   "cell_type": "markdown",
   "id": "ec452e50",
   "metadata": {},
   "source": [
    "## 3.3 New issues characteristics; New issues prices"
   ]
  },
  {
   "cell_type": "code",
   "execution_count": 11,
   "id": "ddc637a5",
   "metadata": {},
   "outputs": [],
   "source": [
    "# Merge new issues with corresponding payment ranks\n",
    "new_issues_sliced = new_issues_sliced.merge(new_issues_characteristics[['security', 'PAYMENT_RANK']], left_on = 'securities_isin', right_on = 'security', how = 'inner')\n",
    "new_issues_sliced = new_issues_sliced.drop(['security'], axis=1)"
   ]
  },
  {
   "cell_type": "code",
   "execution_count": 12,
   "id": "3b157855",
   "metadata": {},
   "outputs": [],
   "source": [
    "# Change time type in refinitive prices dataset\n",
    "new_issues_prices_refinitive['Date'] = pd.to_datetime(new_issues_prices_refinitive['Date'])\n",
    "new_issues_prices_refinitive['Date'] = new_issues_prices_refinitive['Date'].dt.date\n",
    "new_issues_prices_refinitive['Date'] = new_issues_prices_refinitive['Date'].astype('datetime64')\n",
    "new_issues_prices_refinitive['Date'] = new_issues_prices_refinitive['Date'].dt.floor('d')\n",
    "\n",
    "# Rename column\n",
    "new_issues_prices_refinitive = new_issues_prices_refinitive.rename(columns={'Instrument': 'isin', 'Date': 'date'})"
   ]
  },
  {
   "cell_type": "code",
   "execution_count": 13,
   "id": "1603f364",
   "metadata": {},
   "outputs": [],
   "source": [
    "# Filter out 'wrong' prices (EUR price instead of yield)\n",
    "new_issues_prices_refinitive = new_issues_prices_refinitive[(abs(new_issues_prices_refinitive['Ask Yield']) < 10) | (new_issues_prices_refinitive['Ask Yield'].isna())]"
   ]
  },
  {
   "cell_type": "markdown",
   "id": "d36d6efd",
   "metadata": {},
   "source": [
    "## 3.4 Create dataframe of initial YTMs of new issues"
   ]
  },
  {
   "cell_type": "code",
   "execution_count": 14,
   "id": "6c9065a8",
   "metadata": {},
   "outputs": [],
   "source": [
    "# MS spread from IPREO data\n",
    "new_issues_yield_ipreo = new_issues_sliced.loc[:, ['dealDate', 'securities_isin', 'ticker', 'maturityTerm', 'PAYMENT_RANK', 'issuerType', 'reofferValue', 'yieldToMaturity']]\n",
    "new_issues_yield_ipreo = new_issues_yield_ipreo.rename(columns={'securities_isin': 'isin'})\n",
    "new_issues_yield_ipreo = new_issues_yield_ipreo.drop_duplicates()"
   ]
  },
  {
   "cell_type": "code",
   "execution_count": 15,
   "id": "f0f87e0b",
   "metadata": {},
   "outputs": [],
   "source": [
    "# Keep new issues with known initial MS\n",
    "new_issues_initial_prices = new_issues_yield_ipreo.loc[~new_issues_yield_ipreo['yieldToMaturity'].isna(), :]"
   ]
  },
  {
   "cell_type": "code",
   "execution_count": 16,
   "id": "e76b5230",
   "metadata": {},
   "outputs": [],
   "source": [
    "new_issues_initial_prices = new_issues_initial_prices.reset_index(drop=True)"
   ]
  },
  {
   "cell_type": "markdown",
   "id": "0813e0cc",
   "metadata": {},
   "source": [
    "## 3.4 Find comparable bonds at the day of the issue"
   ]
  },
  {
   "cell_type": "code",
   "execution_count": 17,
   "id": "163806fc",
   "metadata": {},
   "outputs": [],
   "source": [
    "# Merge initial YTM of comparable bonds at the dealDate\n",
    "new_issues_with_comp = new_issues_initial_prices.merge(comparable_bonds_iboxx, left_on=['ticker', 'dealDate'], right_on=['ticker', 'date'], how='inner')"
   ]
  },
  {
   "cell_type": "code",
   "execution_count": 18,
   "id": "fbe831b8",
   "metadata": {},
   "outputs": [],
   "source": [
    "# Keep comparable bonds with the same payment rank\n",
    "new_issues_with_comp = new_issues_with_comp[new_issues_with_comp['PAYMENT_RANK']==new_issues_with_comp['Payment_Rank']]\n",
    "new_issues_with_comp = new_issues_with_comp.reset_index()"
   ]
  },
  {
   "cell_type": "code",
   "execution_count": 19,
   "id": "555865f3",
   "metadata": {},
   "outputs": [],
   "source": [
    "# Find the comparable bond with the closest maturity\n",
    "\n",
    "# Sort the dataframe\n",
    "new_issues_with_comp = new_issues_with_comp.sort_values(by=['isin', 'dealDate'])\n",
    "\n",
    "# Group the dataframe\n",
    "new_issues_with_comp_grouped = new_issues_with_comp.groupby(['isin', 'dealDate'])\n",
    "\n",
    "# Function to find closest maturity\n",
    "def find_closest_maturity(group):\n",
    "    group['maturity_diff'] = group['Time_To_Maturity'] - group['maturityTerm']\n",
    "    group['maturity_diff_abs'] = abs(group['maturity_diff'])\n",
    "    closest_row = group.loc[group['maturity_diff_abs'].idxmin()]\n",
    "    return closest_row\n",
    "\n",
    "# Dataframe with closest maturities\n",
    "new_issues_with_comp_filtered = new_issues_with_comp_grouped.apply(find_closest_maturity).reset_index(drop=True)"
   ]
  },
  {
   "cell_type": "markdown",
   "id": "943a7f8b",
   "metadata": {},
   "source": [
    "## 3.5 Keep issues with the prices for comparable bonds"
   ]
  },
  {
   "cell_type": "code",
   "execution_count": 20,
   "id": "af1f6d22",
   "metadata": {},
   "outputs": [],
   "source": [
    "comparable_bonds_prices_hourly_isins = [isin for isin in comparable_bonds_prices_hourly['ISIN'].unique()]"
   ]
  },
  {
   "cell_type": "code",
   "execution_count": 21,
   "id": "b3ab7038",
   "metadata": {},
   "outputs": [],
   "source": [
    "new_issues_with_comp_filtered_2023 = new_issues_with_comp_filtered[new_issues_with_comp_filtered['ISIN'].isin(comparable_bonds_prices_hourly_isins)]\n",
    "new_issues_with_comp_filtered_2023 = new_issues_with_comp_filtered_2023[new_issues_with_comp_filtered_2023['dealDate'] > '2023-01-01']"
   ]
  },
  {
   "cell_type": "markdown",
   "id": "ef2c6994",
   "metadata": {},
   "source": [
    "## 3.6 Swap rates"
   ]
  },
  {
   "cell_type": "code",
   "execution_count": 22,
   "id": "b786c479",
   "metadata": {},
   "outputs": [],
   "source": [
    "# Extract the column names and their corresponding years\n",
    "columns = swap_rates.columns\n",
    "years = []\n",
    "\n",
    "# Determine if the column represents months or years and extract the corresponding number\n",
    "for col in columns:\n",
    "    match = re.search(r'(\\d+)([YM])=', col)\n",
    "    if match:\n",
    "        num = int(match.group(1))\n",
    "        unit = match.group(2)\n",
    "        if unit == 'Y':\n",
    "            years.append(num)\n",
    "        elif unit == 'M':\n",
    "            years.append(num / 12)\n",
    "            \n",
    "# Create a dictionary to map the old column names to the new column names\n",
    "new_columns = {col: yr for col, yr in zip(columns, years)}\n",
    "\n",
    "# Rename the columns in the DataFrame\n",
    "swap_rates.rename(columns=new_columns, inplace=True)\n",
    "\n",
    "# Sort the columns in ascending order\n",
    "swap_rates = swap_rates.reindex(sorted(swap_rates.columns), axis=1)\n",
    "\n",
    "# Change time type in refinitive prices dataset\n",
    "swap_rates = swap_rates.reset_index()\n",
    "swap_rates['Date'] = pd.to_datetime(swap_rates['Date'])\n",
    "swap_rates['Date'] = swap_rates['Date'].dt.date\n",
    "swap_rates['Date'] = swap_rates['Date'].astype('datetime64')\n",
    "swap_rates['Date'] = swap_rates['Date'].dt.floor('d')\n",
    "swap_rates = swap_rates.set_index('Date')"
   ]
  },
  {
   "cell_type": "code",
   "execution_count": 23,
   "id": "2d26433c",
   "metadata": {},
   "outputs": [],
   "source": [
    "# Extract the maturities from column names\n",
    "maturities = [col for col in swap_rates.columns]\n",
    "\n",
    "# Interpolate the swap rate curve for each timestamp\n",
    "interpolated_swap_rates = {}\n",
    "for timestamp, row in swap_rates.iterrows():\n",
    "    swap_rate_interpolator = interp1d(maturities, row, kind='cubic')\n",
    "    interpolated_swap_rates[timestamp] = swap_rate_interpolator"
   ]
  },
  {
   "cell_type": "markdown",
   "id": "58df06d9",
   "metadata": {},
   "source": [
    "# 4. Dynamic analysis: HSBC example"
   ]
  },
  {
   "cell_type": "code",
   "execution_count": 24,
   "id": "15b86589",
   "metadata": {},
   "outputs": [],
   "source": [
    "hsbc_dynamics = new_issues_with_comp_filtered_2023[new_issues_with_comp_filtered_2023['isin']=='XS2595029344']\n",
    "hsbc_dynamics = hsbc_dynamics.drop_duplicates()\n",
    "hsbc_dynamics = hsbc_dynamics.reset_index(drop=True)\n",
    "hsbc_dynamics = hsbc_dynamics.drop(['date', 'Annual_Yield_to_Maturity'], axis=1)"
   ]
  },
  {
   "cell_type": "code",
   "execution_count": 25,
   "id": "672d71d0",
   "metadata": {},
   "outputs": [],
   "source": [
    "# Merge the YTM of the comparable bonds\n",
    "hsbc_dynamics = hsbc_dynamics.merge(comparable_bonds_iboxx[['ISIN', 'date', 'Annual_Yield_to_Maturity']], on='ISIN', how='inner')\n",
    "hsbc_dynamics = hsbc_dynamics.drop_duplicates()\n",
    "hsbc_dynamics = hsbc_dynamics.reset_index(drop=True)"
   ]
  },
  {
   "cell_type": "code",
   "execution_count": 26,
   "id": "c5286a32",
   "metadata": {
    "scrolled": false
   },
   "outputs": [],
   "source": [
    "# Calculate the corresponding swap rates for comparable bonds\n",
    "def calculate_swap_rate_bond_comp_dev(row):\n",
    "    try:\n",
    "        return interpolated_swap_rates[row['date']](row['Time_To_Maturity'])\n",
    "    except (KeyError, ValueError):\n",
    "        return None\n",
    "\n",
    "hsbc_dynamics['SwapRateCompBond'] = hsbc_dynamics.apply(calculate_swap_rate_bond_comp_dev, axis=1)"
   ]
  },
  {
   "cell_type": "code",
   "execution_count": 27,
   "id": "2f2f435a",
   "metadata": {},
   "outputs": [],
   "source": [
    "# Calculate MS for comparable bonds\n",
    "hsbc_dynamics['compBondMS'] = hsbc_dynamics['Annual_Yield_to_Maturity'] - hsbc_dynamics['SwapRateCompBond']\n",
    "hsbc_dynamics['compBondMS'] = hsbc_dynamics['compBondMS'] * 100"
   ]
  },
  {
   "cell_type": "code",
   "execution_count": 28,
   "id": "cc19be68",
   "metadata": {},
   "outputs": [],
   "source": [
    "# Add price development of new issues\n",
    "new_issues_prices_refinitive_hsbc_after_settlement = new_issues_prices_refinitive[(new_issues_prices_refinitive['isin']=='XS2595029344') & (new_issues_prices_refinitive['date']>='2023-03-07')]\n",
    "hsbc_dynamics = hsbc_dynamics.merge(new_issues_prices_refinitive_hsbc_after_settlement, on=['isin', 'date'], how='left')"
   ]
  },
  {
   "cell_type": "code",
   "execution_count": 29,
   "id": "6b180ae7",
   "metadata": {},
   "outputs": [],
   "source": [
    "# Calculate the corresponding swap rates for initial bond\n",
    "def calculate_swap_rate_bond_comp_dev(row):\n",
    "    try:\n",
    "        return interpolated_swap_rates[row['date']](row['maturityTerm'])\n",
    "    except (KeyError, ValueError):\n",
    "        return None\n",
    "\n",
    "hsbc_dynamics['SwapRateNewIssue'] = hsbc_dynamics.apply(calculate_swap_rate_bond_comp_dev, axis=1)"
   ]
  },
  {
   "cell_type": "code",
   "execution_count": 30,
   "id": "b62ae3c3",
   "metadata": {},
   "outputs": [],
   "source": [
    "# Keep two weeks before and two weeks after issue\n",
    "hsbc_dynamics = hsbc_dynamics[(hsbc_dynamics['date'] >= '2023-02-12') & (hsbc_dynamics['date'] <= '2023-03-14')]"
   ]
  },
  {
   "cell_type": "code",
   "execution_count": 31,
   "id": "f990b6ad",
   "metadata": {},
   "outputs": [],
   "source": [
    "# Calculate MS for initial bond\n",
    "hsbc_dynamics = hsbc_dynamics.copy()\n",
    "hsbc_dynamics['initialBondMS'] = hsbc_dynamics['Ask Yield'] - hsbc_dynamics['SwapRateNewIssue']\n",
    "hsbc_dynamics['initialBondMS'] = hsbc_dynamics['initialBondMS'] * 100"
   ]
  },
  {
   "cell_type": "code",
   "execution_count": 32,
   "id": "d875014a",
   "metadata": {},
   "outputs": [],
   "source": [
    "# Set the 'date' column as the index\n",
    "hsbc_dynamics.set_index('date', inplace=True)"
   ]
  },
  {
   "cell_type": "code",
   "execution_count": 33,
   "id": "3fc5da80",
   "metadata": {},
   "outputs": [],
   "source": [
    "# Extract hour prices\n",
    "comparable_bonds_prices_hourly = comparable_bonds_prices_hourly.reset_index()\n",
    "comparable_bonds_prices_hourly['Date'] = pd.to_datetime(comparable_bonds_prices_hourly['Date'])\n",
    "comparable_bonds_prices_hourly.set_index('Date', inplace=True)\n",
    "hsbc_hourly_dynamics = comparable_bonds_prices_hourly[comparable_bonds_prices_hourly['ISIN']=='FR001400AEA1']\n",
    "hsbc_hourly_dynamics = hsbc_hourly_dynamics[hsbc_hourly_dynamics.index > '2023-02-28 07:30:00']"
   ]
  },
  {
   "cell_type": "code",
   "execution_count": 34,
   "id": "03a0a1cc",
   "metadata": {},
   "outputs": [],
   "source": [
    "hsbc_hourly_dynamics['spread'] = (hsbc_hourly_dynamics['CLOSE'] - 3.3659832794404343) * 100"
   ]
  },
  {
   "cell_type": "code",
   "execution_count": 35,
   "id": "d58ceb3f",
   "metadata": {
    "scrolled": false
   },
   "outputs": [
    {
     "data": {
      "image/png": "[encoded data removed]",
      "text/plain": [
       "<Figure size 864x864 with 2 Axes>"
      ]
     },
     "metadata": {
      "needs_background": "light"
     },
     "output_type": "display_data"
    }
   ],
   "source": [
    "# Create a figure and two subplots\n",
    "fig, (ax1, ax2) = plt.subplots(2, 1, figsize=(12, 12), sharey=True)\n",
    "\n",
    "y_min = min(hsbc_dynamics['Annual_Yield_to_Maturity'].min(), hsbc_dynamics['Ask Yield'].min())\n",
    "y_max = max(hsbc_dynamics['Annual_Yield_to_Maturity'].max(), hsbc_dynamics['Ask Yield'].max(), 3.8)\n",
    "\n",
    "# Plotting the first graph on the left subplot (ax1)\n",
    "ax1.plot(hsbc_dynamics.index, hsbc_dynamics['Annual_Yield_to_Maturity'], label='Comparable Bond Bid YTM')\n",
    "ax1.plot(hsbc_dynamics.index, hsbc_dynamics['Ask Yield'], label='New Issue Ask YTM')\n",
    "ax1.axhline(y=3.734, color='r', linestyle='-', label='Initial Ask YTM')\n",
    "\n",
    "# Add vertical lines and transparent yellow rectangles\n",
    "# ax1.axvline(pd.Timestamp('2023-02-27'), color='black', linestyle='-', ymin=0.50, ymax=0.88, linewidth=2)\n",
    "# ax1.hlines(y=3.734, xmin=pd.Timestamp('2023-02-26'), xmax=pd.Timestamp('2023-02-28'), color='black', linewidth=2)\n",
    "# ax1.hlines(y=3.512, xmin=pd.Timestamp('2023-02-26'), xmax=pd.Timestamp('2023-02-28'), color='black', linewidth=2)\n",
    "\n",
    "rect1 = patches.Rectangle((pd.Timestamp('2023-02-27'), y_min), pd.Timedelta(days=1), y_max-y_min, color='grey', alpha=0.13)\n",
    "ax1.add_patch(rect1)\n",
    "\n",
    "rect2 = patches.Rectangle((pd.Timestamp('2023-03-07'), y_min), pd.Timedelta(days=7), y_max-y_min, color='yellow', alpha=0.3)\n",
    "ax1.add_patch(rect2)\n",
    "\n",
    "# ax1.set_title('Bond Prices')\n",
    "ax1.set_xlabel('Date')\n",
    "ax1.set_ylabel('YTM')\n",
    "ax1.grid(True, color='lightblue', linestyle='--') \n",
    "ax1.grid(True)\n",
    "ax1.legend()\n",
    "\n",
    "# Plotting the second graph on the right subplot (ax2)\n",
    "ax2.plot(hsbc_hourly_dynamics.index, hsbc_hourly_dynamics['CLOSE'], label='Comparable Bond Bid YTM')\n",
    "ax2.axhline(y=3.734, color='r', linestyle='-', label='Initial Ask YTM')\n",
    "\n",
    "# Add black line at 12:00 on 2023-02-28\n",
    "# ax2.axvline(pd.Timestamp('2023-02-28 12:00'), color='black', linestyle='-', ymin=0.64, ymax=0.88, linewidth=2)\n",
    "# ax2.hlines(y=3.734, xmin=pd.Timestamp('2023-02-28 11:30'), xmax=pd.Timestamp('2023-02-28 12:30'), color='black', linewidth=2)\n",
    "# ax2.hlines(y=3.590, xmin=pd.Timestamp('2023-02-28 11:30'), xmax=pd.Timestamp('2023-02-28 12:30'), color='black', linewidth=2)\n",
    "\n",
    "# ax2.set_title('Bond Prices Intraday')\n",
    "ax2.set_xlabel('Time')\n",
    "ax2.grid(True, color='lightblue', linestyle='--') \n",
    "ax2.grid(True)\n",
    "ax2.legend()\n",
    "\n",
    "# Set the background color of the right graph as transparent\n",
    "ax2.patch.set_alpha(0.13)\n",
    "\n",
    "# Set the facecolor of the right graph to match the color of the rectangle in the left graph\n",
    "ax2.set_facecolor('grey')\n",
    "\n",
    "ax1.set_ylim(y_min, y_max)\n",
    "ax2.set_ylim(y_min, y_max)\n",
    "\n",
    "# Rotate x-axis labels by 90 degrees for both subplots\n",
    "ax1.tick_params(axis='x', rotation=90)\n",
    "ax2.tick_params(axis='x', rotation=90)\n",
    "\n",
    "# Customize x-axis tick labels on the left subplot\n",
    "ax1.set_xticks(hsbc_dynamics.index)\n",
    "ax1.set_xticklabels(hsbc_dynamics.index.strftime('%m-%d'))  # Format tick labels as 'MM-DD'\n",
    "\n",
    "# Customize x-axis tick labels on the right subplot\n",
    "ax2.xaxis.set_major_locator(mdates.HourLocator(interval=1))  # Set tick positions to be every hour\n",
    "ax2.xaxis.set_major_formatter(mdates.DateFormatter('%H:%M'))  # Format tick labels as 'HH:MM'\n",
    "\n",
    "# Remove y-axis label from the right subplot\n",
    "ax2.set_ylabel('YTM')\n",
    "\n",
    "# Adjust the spacing between subplots and move labels to the right bottom corner\n",
    "plt.subplots_adjust(wspace=0.1)\n",
    "legend_ax1 = ax1.legend(loc='lower left')\n",
    "legend_ax1.get_frame().set_alpha(0.1)\n",
    "legend_ax2 = ax2.legend(loc='lower left')\n",
    "legend_ax2.get_frame().set_alpha(0.1)\n",
    "\n",
    "# Show the plot\n",
    "# plt.savefig('price_dynamics.png', facecolor='w', dpi=300, bbox_inches='tight')\n",
    "plt.show()"
   ]
  }
 ],
 "metadata": {
  "kernelspec": {
   "display_name": "nip_env",
   "language": "python",
   "name": "nip_env"
  },
  "language_info": {
   "codemirror_mode": {
    "name": "ipython",
    "version": 3
   },
   "file_extension": ".py",
   "mimetype": "text/x-python",
   "name": "python",
   "nbconvert_exporter": "python",
   "pygments_lexer": "ipython3",
   "version": "3.10.4"
  }
 },
 "nbformat": 4,
 "nbformat_minor": 5
}
